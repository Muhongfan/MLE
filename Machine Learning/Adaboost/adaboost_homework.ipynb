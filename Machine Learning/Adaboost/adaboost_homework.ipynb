{
 "cells": [
  {
   "cell_type": "markdown",
   "metadata": {
    "id": "QrcNLH0JHbah"
   },
   "source": [
    "<a class=\"anchor\" id=\"0\"></a>\n",
    "# **AdaBoost Classifier Tutorial in Python**\n"
   ]
  },
  {
   "cell_type": "markdown",
   "metadata": {
    "id": "un66AABiHban"
   },
   "source": [
    "### 6.1 Import libraries <a class=\"anchor\" id=\"6.1\"></a>"
   ]
  },
  {
   "cell_type": "code",
   "execution_count": 9,
   "metadata": {
    "ExecuteTime": {
     "end_time": "2023-07-24T18:33:59.942363Z",
     "start_time": "2023-07-24T18:33:59.937961Z"
    },
    "_cell_guid": "b1076dfc-b9ad-4769-8c92-a6c4dae69d19",
    "_uuid": "8f2839f25d086af736a60e9eeb907d3b93b6e0e5",
    "id": "3sO0n88AHban"
   },
   "outputs": [],
   "source": [
    "import time\n",
    "from datetime import datetime\n"
   ]
  },
  {
   "cell_type": "markdown",
   "metadata": {
    "id": "av2KTuJiHban"
   },
   "source": [
    "### 6.2 Load dataset <a class=\"anchor\" id=\"6.2\"></a>"
   ]
  },
  {
   "cell_type": "code",
   "execution_count": 2,
   "metadata": {
    "ExecuteTime": {
     "end_time": "2023-07-24T18:16:33.147439Z",
     "start_time": "2023-07-24T18:16:33.084493Z"
    },
    "id": "3Fr2Y7CWHban"
   },
   "outputs": [],
   "source": [
    "import torchvision\n",
    "\n",
    "# Load Data\n",
    "train_dataset = torchvision.datasets.MNIST(root='../../data/',\n",
    "                                           train=True,\n",
    "                                           download=True)\n",
    "\n",
    "test_dataset = torchvision.datasets.MNIST(root='../../data/',\n",
    "                                          train=False)\n",
    "\n"
   ]
  },
  {
   "cell_type": "markdown",
   "metadata": {
    "id": "RFU7eVhVHbao"
   },
   "source": [
    "### 6.4 Split dataset into training set and test set <a class=\"anchor\" id=\"6.4\"></a>"
   ]
  },
  {
   "cell_type": "code",
   "execution_count": 4,
   "metadata": {
    "ExecuteTime": {
     "end_time": "2023-07-24T18:38:38.495318Z",
     "start_time": "2023-07-24T18:38:38.491354Z"
    },
    "id": "kECOq9KVHbao"
   },
   "outputs": [],
   "source": [
    "training_data = train_dataset.train_data.numpy()[:5000].reshape(5000, -1)\n",
    "# (5000, 28, 28) -> (5000, 784)\n",
    "training_label = train_dataset.train_labels[:5000].numpy()\n",
    "\n",
    "test_data = test_dataset.test_data.numpy()[:5000].reshape(5000, -1)\n",
    "test_label = test_dataset.test_labels[:5000].numpy()"
   ]
  },
  {
   "cell_type": "code",
   "execution_count": 5,
   "metadata": {
    "colab": {
     "base_uri": "https://localhost:8080/"
    },
    "id": "n7pdMdWxHbao",
    "outputId": "b980e5a9-e654-448e-e64b-0cc372e456e2"
   },
   "outputs": [
    {
     "output_type": "stream",
     "name": "stdout",
     "text": [
      "Training data size:  (5000, 784)\n",
      "Training data label size: (5000,)\n",
      "Training data size:  (5000, 784)\n",
      "Training data label size: (5000,)\n"
     ]
    }
   ],
   "source": [
    "print('Training data size: ', training_data.shape)\n",
    "print('Training data label size:', training_label.shape)\n",
    "print('Training data size: ', test_data.shape)\n",
    "print('Training data label size:', test_label.shape)"
   ]
  },
  {
   "cell_type": "markdown",
   "metadata": {
    "id": "dUgMBeQwHbao"
   },
   "source": [
    "### 6.5 Build the AdaBoost model <a class=\"anchor\" id=\"6.5\"></a>"
   ]
  },
  {
   "cell_type": "code",
   "execution_count": 6,
   "metadata": {
    "ExecuteTime": {
     "end_time": "2023-07-24T18:16:43.183187Z",
     "start_time": "2023-07-24T18:16:40.091440Z"
    },
    "id": "6CTiDWDUHbao"
   },
   "outputs": [],
   "source": [
    "# Import the AdaBoost classifier\n",
    "from sklearn.ensemble import AdaBoostClassifier\n",
    "\n",
    "\n",
    "# Create adaboost classifer object\n",
    "clf = AdaBoostClassifier()\n",
    "\n",
    "# Train Adaboost Classifer\n",
    "model1 = clf.fit(training_data, training_label)\n",
    "\n",
    "\n",
    "#Predict the response for test dataset\n",
    "y_pred = model1.predict(test_data)"
   ]
  },
  {
   "cell_type": "markdown",
   "metadata": {
    "id": "8I4oQYJTHbap"
   },
   "source": [
    "### Create Adaboost Classifier\n",
    "\n",
    "- The most important parameters are `base_estimator`, `n_estimators` and `learning_rate`.\n",
    "\n",
    "- **estimator** is the learning algorithm to use to train the weak models. This will almost always not needed to be changed because by far the most common learner to use with AdaBoost is a decision tree – this parameter’s default argument.\n",
    "\n",
    "- **n_estimators** is the number of models to iteratively train.\n",
    "\n",
    "- **learning_rate** is the contribution of each model to the weights and defaults to 1. Reducing the learning rate will mean the weights will be increased or decreased to a small degree, forcing the model train slower (but sometimes resulting in better performance scores).\n",
    "\n",
    "- **loss** is exclusive to AdaBoostRegressor and sets the loss function to use when updating weights. This defaults to a linear loss function however can be changed to square or exponential."
   ]
  },
  {
   "cell_type": "markdown",
   "metadata": {
    "id": "x1VQr9ZlHbap"
   },
   "source": [
    "\n",
    "\n",
    "```\n",
    "# This is formatted as code\n",
    "```\n",
    "\n",
    "### 6.6 Evaluate Model <a class=\"anchor\" id=\"6.6\"></a>\n",
    "\n",
    "Let's estimate, how accurately the classifier or model can predict the type of cultivars."
   ]
  },
  {
   "cell_type": "code",
   "execution_count": 7,
   "metadata": {
    "ExecuteTime": {
     "end_time": "2023-07-24T18:16:47.477839Z",
     "start_time": "2023-07-24T18:16:47.472929Z"
    },
    "colab": {
     "base_uri": "https://localhost:8080/"
    },
    "id": "do0FA9b0Hbap",
    "outputId": "0c8fd2c6-4701-4bb8-989d-cf317620a141"
   },
   "outputs": [
    {
     "output_type": "stream",
     "name": "stdout",
     "text": [
      "Accuracy without best param: 0.4606 \n",
      "\n"
     ]
    }
   ],
   "source": [
    "#import scikit-learn metrics module for accuracy calculation\n",
    "from sklearn import metrics\n",
    "\n",
    "# calculate and print model accuracy\n",
    "print(\"Accuracy without best param:\", metrics.accuracy_score(y_true=test_label, y_pred=y_pred), \"\\n\")"
   ]
  },
  {
   "cell_type": "markdown",
   "source": [
    "### 6.7 The effect of estimator\n",
    "Let's see the effect of estimator within the same model"
   ],
   "metadata": {
    "id": "5c8w_MLlIzGB"
   }
  },
  {
   "cell_type": "code",
   "execution_count": 10,
   "metadata": {
    "ExecuteTime": {
     "end_time": "2023-07-24T18:38:08.549339Z",
     "start_time": "2023-07-24T18:36:22.721226Z"
    },
    "colab": {
     "base_uri": "https://localhost:8080/"
    },
    "id": "RazbUtUVHbap",
    "outputId": "36f96003-2c22-427b-d75e-6bb92c182119"
   },
   "outputs": [
    {
     "output_type": "stream",
     "name": "stdout",
     "text": [
      "start\n",
      "n_estimators = 10, accuracy:0.558400\n",
      "n_estimators = 20, accuracy:0.545800\n",
      "n_estimators = 30, accuracy:0.525000\n",
      "n_estimators = 40, accuracy:0.508400\n",
      "n_estimators = 50, accuracy:0.460600\n",
      "n_estimators = 60, accuracy:0.453200\n",
      "n_estimators = 70, accuracy:0.441000\n",
      "n_estimators = 80, accuracy:0.447000\n",
      "n_estimators = 90, accuracy:0.438800\n",
      "n_estimators = 100, accuracy:0.447200\n",
      "n_estimators = 110, accuracy:0.438400\n",
      "n_estimators = 120, accuracy:0.446000\n",
      "n_estimators = 130, accuracy:0.438200\n",
      "n_estimators = 140, accuracy:0.446000\n",
      "n_estimators = 150, accuracy:0.438200\n",
      "n_estimators = 160, accuracy:0.446000\n",
      "n_estimators = 170, accuracy:0.438400\n",
      "n_estimators = 180, accuracy:0.446000\n",
      "n_estimators = 190, accuracy:0.438600\n",
      "Total time 256.14 s\n"
     ]
    }
   ],
   "source": [
    "print(\"start\")\n",
    "StartTime = time.time()\n",
    "\n",
    "for i in range(10,200,10):\n",
    "    clf = AdaBoostClassifier(n_estimators=i)\n",
    "\n",
    "    # Train Adaboost Classifer\n",
    "    model1 = clf.fit(training_data, training_label)\n",
    "\n",
    "\n",
    "    #Predict the response for test dataset\n",
    "    y_pred = model1.predict(test_data)\n",
    "\n",
    "    acc_rf = metrics.accuracy_score(y_true=test_label, y_pred=y_pred)\n",
    "    print(\"n_estimators = %d, accuracy:%f\" % (i, acc_rf))\n",
    "\n",
    "EndTime = time.time()\n",
    "print('Total time %.2f s' % (EndTime - StartTime))\n"
   ]
  },
  {
   "cell_type": "markdown",
   "metadata": {
    "id": "S7wbUD9XHbap"
   },
   "source": [
    "- In this case, we got an accuracy of 55.84%, when consider the number of estimator as 10."
   ]
  },
  {
   "cell_type": "markdown",
   "metadata": {
    "id": "5H-m88_eHbap"
   },
   "source": [
    "### 6.7 Further evaluation with SVC base estimator\n",
    "\n",
    "\n",
    "- For further evaluation, we will use SVC as a base estimator as follows:"
   ]
  },
  {
   "cell_type": "code",
   "execution_count": 11,
   "metadata": {
    "ExecuteTime": {
     "end_time": "2023-07-24T18:23:34.072262Z",
     "start_time": "2023-07-24T18:23:27.523416Z"
    },
    "colab": {
     "base_uri": "https://localhost:8080/"
    },
    "id": "5b1Wd0fnHbap",
    "outputId": "bffa7308-b4ce-4196-ddd5-9b63993ef600"
   },
   "outputs": [
    {
     "output_type": "stream",
     "name": "stdout",
     "text": [
      "Model Accuracy with SVC Base Estimator: 0.8874\n"
     ]
    }
   ],
   "source": [
    "# load required classifer\n",
    "from sklearn.ensemble import AdaBoostClassifier\n",
    "\n",
    "\n",
    "# import Support Vector Classifier\n",
    "from sklearn.svm import SVC\n",
    "\n",
    "\n",
    "# import scikit-learn metrics module for accuracy calculation\n",
    "from sklearn.metrics import accuracy_score\n",
    "svc=SVC(probability=True, kernel='linear')\n",
    "\n",
    "\n",
    "# create adaboost classifer object\n",
    "clf2 =AdaBoostClassifier(estimator=svc)\n",
    "\n",
    "\n",
    "# train adaboost classifer\n",
    "model2 = clf2.fit(training_data, training_label)\n",
    "\n",
    "\n",
    "# predict the response for test dataset\n",
    "y_pred2 = model2.predict(test_data)\n",
    "\n",
    "\n",
    "# calculate and print model accuracy\n",
    "print(\"Model Accuracy with SVC Base Estimator:\",accuracy_score(test_label, y_pred2))\n"
   ]
  },
  {
   "cell_type": "markdown",
   "source": [
    "\n",
    "### 6.8 Further evaluation with SVC base estimator + n_estimator\n"
   ],
   "metadata": {
    "id": "5wqEZatbNQJn"
   }
  },
  {
   "cell_type": "code",
   "source": [
    "\n",
    "# create adaboost classifer object\n",
    "clf3 =AdaBoostClassifier(n_estimators=10, base_estimator=svc)\n",
    "\n",
    "\n",
    "# train adaboost classifer\n",
    "model3 = clf3.fit(training_data, training_label)\n",
    "\n",
    "\n",
    "# predict the response for test dataset\n",
    "y_pred3 = model3.predict(test_data)\n",
    "\n",
    "\n",
    "# calculate and print model accuracy\n",
    "print(\"Model Accuracy with SVC Base Estimator + n_estimator:\",accuracy_score(test_label, y_pred3))\n"
   ],
   "metadata": {
    "colab": {
     "base_uri": "https://localhost:8080/"
    },
    "id": "70rLsXHBL7C9",
    "outputId": "484a63f9-a202-4460-90ee-2c7a370f6661"
   },
   "execution_count": 15,
   "outputs": [
    {
     "output_type": "stream",
     "name": "stderr",
     "text": [
      "/usr/local/lib/python3.10/dist-packages/sklearn/ensemble/_base.py:166: FutureWarning: `base_estimator` was renamed to `estimator` in version 1.2 and will be removed in 1.4.\n",
      "  warnings.warn(\n"
     ]
    },
    {
     "output_type": "stream",
     "name": "stdout",
     "text": [
      "Model Accuracy with SVC Base Estimator + n_estimator: 0.8884\n"
     ]
    }
   ]
  },
  {
   "cell_type": "markdown",
   "source": [
    "### 6.9 Further evaluation with Decision Tree base estimator  <a class=\"anchor\" id=\"6.7\"></a>"
   ],
   "metadata": {
    "id": "CrbFxNYvNcvZ"
   }
  },
  {
   "cell_type": "code",
   "source": [
    "# load required classifer\n",
    "from sklearn.ensemble import AdaBoostClassifier\n",
    "\n",
    "\n",
    "# import Support Vector Classifier\n",
    "from sklearn.tree import DecisionTreeClassifier\n",
    "\n",
    "\n",
    "# import scikit-learn metrics module for accuracy calculation\n",
    "from sklearn.metrics import accuracy_score\n",
    "DT=DecisionTreeClassifier()\n",
    "\n",
    "\n",
    "# create adaboost classifer object\n",
    "clf4 =AdaBoostClassifier(estimator=DT)\n",
    "\n",
    "\n",
    "# train adaboost classifer\n",
    "model4 = clf4.fit(training_data, training_label)\n",
    "\n",
    "\n",
    "# predict the response for test dataset\n",
    "y_pred4 = model4.predict(test_data)\n",
    "\n",
    "\n",
    "# calculate and print model accuracy\n",
    "print(\"Model Accuracy with Decision Tree Estimator:\",accuracy_score(test_label, y_pred4))\n"
   ],
   "metadata": {
    "colab": {
     "base_uri": "https://localhost:8080/"
    },
    "id": "uQhnaoAdNLwM",
    "outputId": "bb14fc0d-a1e2-4623-85bf-711141f71cae"
   },
   "execution_count": 14,
   "outputs": [
    {
     "output_type": "stream",
     "name": "stdout",
     "text": [
      "Model Accuracy with SVC Base Estimator: 0.747\n"
     ]
    }
   ]
  },
  {
   "cell_type": "code",
   "execution_count": null,
   "metadata": {
    "id": "aO11n134Hbap"
   },
   "outputs": [],
   "source": []
  },
  {
   "cell_type": "markdown",
   "metadata": {
    "id": "kg4Zgu26Hbap"
   },
   "source": [
    ":- In this case, we have got a classification rate:\n",
    " - 46.06%, which is with all in default.\n",
    " - 55.84%, which is with best number of estimators.\n",
    " - 88.84%, which introduces svc as estimator.\n",
    " - 88.60%, which introduces svc as estimator + best number of estimators.\n",
    " - 74.40%, which introduces decision tree as estimator + best number of estimators.\n",
    "\n",
    "\n",
    "\n",
    "- In this case, SVC Base Estimator is getting better accuracy then Non-base Estimator.\n",
    "- In this case, SVC Base Estimator is getting better accuracy then Decision tree Base Estimator.\n",
    "- In this case, SVC Base Estimator + best number of estimator is not getting better accuracy then sole SVC Base Estimator.\n",
    "\n"
   ]
  },
  {
   "cell_type": "markdown",
   "metadata": {
    "id": "Rs4wwbgOHbaq"
   },
   "source": [
    "- The disadvantages are as follows:\n",
    "\n",
    "   1. AdaBoost is sensitive to noise data.\n",
    "  \n",
    "   2. It is highly affected by outliers because it tries to fit each point perfectly.\n",
    "  \n",
    "   3. AdaBoost is slower compared to XGBoost."
   ]
  },
  {
   "cell_type": "markdown",
   "metadata": {
    "id": "c_iNsSffHbaq"
   },
   "source": [
    "# **7. Advantages and disadvantages of AdaBoost** <a class=\"anchor\" id=\"7\"></a>\n",
    "\n",
    "[Back to Notebook Contents](#0.1)\n",
    "\n",
    "\n",
    "- The advantages are as follows:\n",
    "\n",
    "   1. AdaBoost is easy to implement.\n",
    "  \n",
    "   2. It iteratively corrects the mistakes of the weak classifier and improves accuracy by combining weak learners.\n",
    "  \n",
    "   3. We can use many base classifiers with AdaBoost.\n",
    "  \n",
    "   4. AdaBoost is not prone to overfitting."
   ]
  },
  {
   "cell_type": "markdown",
   "metadata": {
    "id": "ea8lm3RoHbaq"
   },
   "source": [
    "# **8. Results and Conclusion** <a class=\"anchor\" id=\"8\"></a>\n",
    "\n",
    "[Back to Notebook Contents](#0.1)\n",
    "\n",
    "\n",
    "- In this kernel, we have discussed AdaBoost classifier.\n",
    "\n",
    "- We have discussed how the base-learners are classified.\n",
    "\n",
    "- Then, we move on to discuss the intuition behind AdaBoost classifier.\n",
    "\n",
    "- We have also discuss the differences between AdaBoost classifier and GBM.\n",
    "\n",
    "- Then, we present the implementation of AdaBoost classifier using iris dataset.\n",
    "\n",
    "- Lastly, we have discussed the advantages and disadvantages of AdaBoost classifier."
   ]
  },
  {
   "cell_type": "markdown",
   "metadata": {
    "id": "auUsXO5-Hbaq"
   },
   "source": [
    "[Go to Top](#0)"
   ]
  }
 ],
 "metadata": {
  "kernelspec": {
   "display_name": "Python 3 (ipykernel)",
   "language": "python",
   "name": "python3"
  },
  "language_info": {
   "codemirror_mode": {
    "name": "ipython",
    "version": 3
   },
   "file_extension": ".py",
   "mimetype": "text/x-python",
   "name": "python",
   "nbconvert_exporter": "python",
   "pygments_lexer": "ipython3",
   "version": "3.10.9"
  },
  "colab": {
   "provenance": []
  }
 },
 "nbformat": 4,
 "nbformat_minor": 0
}
