{
 "cells": [
  {
   "cell_type": "markdown",
   "metadata": {},
   "source": [
    "# 1. Getting and Knowing your Data\n"
   ]
  },
  {
   "cell_type": "markdown",
   "metadata": {},
   "source": [
    "This time we are going to pull data directly from the internet.\n",
    "Special thanks to: https://github.com/justmarkham for sharing the dataset and materials.\n",
    "## Get to know the data\n",
    "### Step 1. Import the necessary libraries"
   ]
  },
  {
   "cell_type": "code",
   "execution_count": 2,
   "metadata": {
    "ExecuteTime": {
     "end_time": "2023-09-27T01:08:58.009382Z",
     "start_time": "2023-09-27T01:08:57.113763Z"
    }
   },
   "outputs": [],
   "source": [
    "import pandas as pd"
   ]
  },
  {
   "cell_type": "markdown",
   "metadata": {},
   "source": [
    "### Step 2. Import the dataset from this [address](https://raw.githubusercontent.com/justmarkham/DAT8/master/data/u.user). "
   ]
  },
  {
   "cell_type": "markdown",
   "metadata": {},
   "source": [
    "### Step 3. Assign it to a variable called users and use the 'user_id' as index"
   ]
  },
  {
   "cell_type": "code",
   "execution_count": 84,
   "metadata": {
    "ExecuteTime": {
     "end_time": "2023-09-28T00:57:19.964850Z",
     "start_time": "2023-09-28T00:57:19.715967Z"
    }
   },
   "outputs": [],
   "source": [
    "users = pd.read_csv('https://raw.githubusercontent.com/justmarkham/DAT8/master/data/u.user', \n",
    "                      sep='|', index_col='user_id')"
   ]
  },
  {
   "cell_type": "markdown",
   "metadata": {},
   "source": [
    "### Step 4. See the first 25 entries"
   ]
  },
  {
   "cell_type": "code",
   "execution_count": 40,
   "metadata": {
    "scrolled": true,
    "ExecuteTime": {
     "end_time": "2023-09-27T01:25:07.664242Z",
     "start_time": "2023-09-27T01:25:07.627541Z"
    }
   },
   "outputs": [
    {
     "data": {
      "text/plain": "         age gender     occupation zip_code\nuser_id                                    \n1         24      M     technician    85711\n2         53      F          other    94043\n3         23      M         writer    32067\n4         24      M     technician    43537\n5         33      F          other    15213\n6         42      M      executive    98101\n7         57      M  administrator    91344\n8         36      M  administrator    05201\n9         29      M        student    01002\n10        53      M         lawyer    90703\n11        39      F          other    30329\n12        28      F          other    06405\n13        47      M       educator    29206\n14        45      M      scientist    55106\n15        49      F       educator    97301\n16        21      M  entertainment    10309\n17        30      M     programmer    06355\n18        35      F          other    37212\n19        40      M      librarian    02138\n20        42      F      homemaker    95660\n21        26      M         writer    30068\n22        25      M         writer    40206\n23        30      F         artist    48197\n24        21      F         artist    94533\n25        39      M       engineer    55107",
      "text/html": "<div>\n<style scoped>\n    .dataframe tbody tr th:only-of-type {\n        vertical-align: middle;\n    }\n\n    .dataframe tbody tr th {\n        vertical-align: top;\n    }\n\n    .dataframe thead th {\n        text-align: right;\n    }\n</style>\n<table border=\"1\" class=\"dataframe\">\n  <thead>\n    <tr style=\"text-align: right;\">\n      <th></th>\n      <th>age</th>\n      <th>gender</th>\n      <th>occupation</th>\n      <th>zip_code</th>\n    </tr>\n    <tr>\n      <th>user_id</th>\n      <th></th>\n      <th></th>\n      <th></th>\n      <th></th>\n    </tr>\n  </thead>\n  <tbody>\n    <tr>\n      <th>1</th>\n      <td>24</td>\n      <td>M</td>\n      <td>technician</td>\n      <td>85711</td>\n    </tr>\n    <tr>\n      <th>2</th>\n      <td>53</td>\n      <td>F</td>\n      <td>other</td>\n      <td>94043</td>\n    </tr>\n    <tr>\n      <th>3</th>\n      <td>23</td>\n      <td>M</td>\n      <td>writer</td>\n      <td>32067</td>\n    </tr>\n    <tr>\n      <th>4</th>\n      <td>24</td>\n      <td>M</td>\n      <td>technician</td>\n      <td>43537</td>\n    </tr>\n    <tr>\n      <th>5</th>\n      <td>33</td>\n      <td>F</td>\n      <td>other</td>\n      <td>15213</td>\n    </tr>\n    <tr>\n      <th>6</th>\n      <td>42</td>\n      <td>M</td>\n      <td>executive</td>\n      <td>98101</td>\n    </tr>\n    <tr>\n      <th>7</th>\n      <td>57</td>\n      <td>M</td>\n      <td>administrator</td>\n      <td>91344</td>\n    </tr>\n    <tr>\n      <th>8</th>\n      <td>36</td>\n      <td>M</td>\n      <td>administrator</td>\n      <td>05201</td>\n    </tr>\n    <tr>\n      <th>9</th>\n      <td>29</td>\n      <td>M</td>\n      <td>student</td>\n      <td>01002</td>\n    </tr>\n    <tr>\n      <th>10</th>\n      <td>53</td>\n      <td>M</td>\n      <td>lawyer</td>\n      <td>90703</td>\n    </tr>\n    <tr>\n      <th>11</th>\n      <td>39</td>\n      <td>F</td>\n      <td>other</td>\n      <td>30329</td>\n    </tr>\n    <tr>\n      <th>12</th>\n      <td>28</td>\n      <td>F</td>\n      <td>other</td>\n      <td>06405</td>\n    </tr>\n    <tr>\n      <th>13</th>\n      <td>47</td>\n      <td>M</td>\n      <td>educator</td>\n      <td>29206</td>\n    </tr>\n    <tr>\n      <th>14</th>\n      <td>45</td>\n      <td>M</td>\n      <td>scientist</td>\n      <td>55106</td>\n    </tr>\n    <tr>\n      <th>15</th>\n      <td>49</td>\n      <td>F</td>\n      <td>educator</td>\n      <td>97301</td>\n    </tr>\n    <tr>\n      <th>16</th>\n      <td>21</td>\n      <td>M</td>\n      <td>entertainment</td>\n      <td>10309</td>\n    </tr>\n    <tr>\n      <th>17</th>\n      <td>30</td>\n      <td>M</td>\n      <td>programmer</td>\n      <td>06355</td>\n    </tr>\n    <tr>\n      <th>18</th>\n      <td>35</td>\n      <td>F</td>\n      <td>other</td>\n      <td>37212</td>\n    </tr>\n    <tr>\n      <th>19</th>\n      <td>40</td>\n      <td>M</td>\n      <td>librarian</td>\n      <td>02138</td>\n    </tr>\n    <tr>\n      <th>20</th>\n      <td>42</td>\n      <td>F</td>\n      <td>homemaker</td>\n      <td>95660</td>\n    </tr>\n    <tr>\n      <th>21</th>\n      <td>26</td>\n      <td>M</td>\n      <td>writer</td>\n      <td>30068</td>\n    </tr>\n    <tr>\n      <th>22</th>\n      <td>25</td>\n      <td>M</td>\n      <td>writer</td>\n      <td>40206</td>\n    </tr>\n    <tr>\n      <th>23</th>\n      <td>30</td>\n      <td>F</td>\n      <td>artist</td>\n      <td>48197</td>\n    </tr>\n    <tr>\n      <th>24</th>\n      <td>21</td>\n      <td>F</td>\n      <td>artist</td>\n      <td>94533</td>\n    </tr>\n    <tr>\n      <th>25</th>\n      <td>39</td>\n      <td>M</td>\n      <td>engineer</td>\n      <td>55107</td>\n    </tr>\n  </tbody>\n</table>\n</div>"
     },
     "execution_count": 40,
     "metadata": {},
     "output_type": "execute_result"
    }
   ],
   "source": [
    "# users.head(25)\n",
    "#\n",
    "users.iloc[:25]\n"
   ]
  },
  {
   "cell_type": "markdown",
   "source": [
    "### See the all columns without last 1 column"
   ],
   "metadata": {
    "collapsed": false
   }
  },
  {
   "cell_type": "code",
   "execution_count": 47,
   "outputs": [
    {
     "data": {
      "text/plain": "         age gender     occupation\nuser_id                           \n1         24      M     technician\n2         53      F          other\n3         23      M         writer\n4         24      M     technician\n5         33      F          other\n...      ...    ...            ...\n939       26      F        student\n940       32      M  administrator\n941       20      M        student\n942       48      F      librarian\n943       22      M        student\n\n[943 rows x 3 columns]",
      "text/html": "<div>\n<style scoped>\n    .dataframe tbody tr th:only-of-type {\n        vertical-align: middle;\n    }\n\n    .dataframe tbody tr th {\n        vertical-align: top;\n    }\n\n    .dataframe thead th {\n        text-align: right;\n    }\n</style>\n<table border=\"1\" class=\"dataframe\">\n  <thead>\n    <tr style=\"text-align: right;\">\n      <th></th>\n      <th>age</th>\n      <th>gender</th>\n      <th>occupation</th>\n    </tr>\n    <tr>\n      <th>user_id</th>\n      <th></th>\n      <th></th>\n      <th></th>\n    </tr>\n  </thead>\n  <tbody>\n    <tr>\n      <th>1</th>\n      <td>24</td>\n      <td>M</td>\n      <td>technician</td>\n    </tr>\n    <tr>\n      <th>2</th>\n      <td>53</td>\n      <td>F</td>\n      <td>other</td>\n    </tr>\n    <tr>\n      <th>3</th>\n      <td>23</td>\n      <td>M</td>\n      <td>writer</td>\n    </tr>\n    <tr>\n      <th>4</th>\n      <td>24</td>\n      <td>M</td>\n      <td>technician</td>\n    </tr>\n    <tr>\n      <th>5</th>\n      <td>33</td>\n      <td>F</td>\n      <td>other</td>\n    </tr>\n    <tr>\n      <th>...</th>\n      <td>...</td>\n      <td>...</td>\n      <td>...</td>\n    </tr>\n    <tr>\n      <th>939</th>\n      <td>26</td>\n      <td>F</td>\n      <td>student</td>\n    </tr>\n    <tr>\n      <th>940</th>\n      <td>32</td>\n      <td>M</td>\n      <td>administrator</td>\n    </tr>\n    <tr>\n      <th>941</th>\n      <td>20</td>\n      <td>M</td>\n      <td>student</td>\n    </tr>\n    <tr>\n      <th>942</th>\n      <td>48</td>\n      <td>F</td>\n      <td>librarian</td>\n    </tr>\n    <tr>\n      <th>943</th>\n      <td>22</td>\n      <td>M</td>\n      <td>student</td>\n    </tr>\n  </tbody>\n</table>\n<p>943 rows × 3 columns</p>\n</div>"
     },
     "execution_count": 47,
     "metadata": {},
     "output_type": "execute_result"
    }
   ],
   "source": [
    "users.iloc[:, :-1]"
   ],
   "metadata": {
    "collapsed": false,
    "ExecuteTime": {
     "end_time": "2023-09-27T01:28:10.155789Z",
     "start_time": "2023-09-27T01:28:10.102374Z"
    }
   }
  },
  {
   "cell_type": "markdown",
   "metadata": {},
   "source": [
    "### Step 5. See the last 10 entries"
   ]
  },
  {
   "cell_type": "code",
   "execution_count": 5,
   "metadata": {
    "scrolled": true,
    "ExecuteTime": {
     "end_time": "2023-09-25T16:03:28.660088Z",
     "start_time": "2023-09-25T16:03:28.622367Z"
    }
   },
   "outputs": [
    {
     "data": {
      "text/plain": "         age gender     occupation zip_code\nuser_id                                    \n934       61      M       engineer    22902\n935       42      M         doctor    66221\n936       24      M          other    32789\n937       48      M       educator    98072\n938       38      F     technician    55038\n939       26      F        student    33319\n940       32      M  administrator    02215\n941       20      M        student    97229\n942       48      F      librarian    78209\n943       22      M        student    77841",
      "text/html": "<div>\n<style scoped>\n    .dataframe tbody tr th:only-of-type {\n        vertical-align: middle;\n    }\n\n    .dataframe tbody tr th {\n        vertical-align: top;\n    }\n\n    .dataframe thead th {\n        text-align: right;\n    }\n</style>\n<table border=\"1\" class=\"dataframe\">\n  <thead>\n    <tr style=\"text-align: right;\">\n      <th></th>\n      <th>age</th>\n      <th>gender</th>\n      <th>occupation</th>\n      <th>zip_code</th>\n    </tr>\n    <tr>\n      <th>user_id</th>\n      <th></th>\n      <th></th>\n      <th></th>\n      <th></th>\n    </tr>\n  </thead>\n  <tbody>\n    <tr>\n      <th>934</th>\n      <td>61</td>\n      <td>M</td>\n      <td>engineer</td>\n      <td>22902</td>\n    </tr>\n    <tr>\n      <th>935</th>\n      <td>42</td>\n      <td>M</td>\n      <td>doctor</td>\n      <td>66221</td>\n    </tr>\n    <tr>\n      <th>936</th>\n      <td>24</td>\n      <td>M</td>\n      <td>other</td>\n      <td>32789</td>\n    </tr>\n    <tr>\n      <th>937</th>\n      <td>48</td>\n      <td>M</td>\n      <td>educator</td>\n      <td>98072</td>\n    </tr>\n    <tr>\n      <th>938</th>\n      <td>38</td>\n      <td>F</td>\n      <td>technician</td>\n      <td>55038</td>\n    </tr>\n    <tr>\n      <th>939</th>\n      <td>26</td>\n      <td>F</td>\n      <td>student</td>\n      <td>33319</td>\n    </tr>\n    <tr>\n      <th>940</th>\n      <td>32</td>\n      <td>M</td>\n      <td>administrator</td>\n      <td>02215</td>\n    </tr>\n    <tr>\n      <th>941</th>\n      <td>20</td>\n      <td>M</td>\n      <td>student</td>\n      <td>97229</td>\n    </tr>\n    <tr>\n      <th>942</th>\n      <td>48</td>\n      <td>F</td>\n      <td>librarian</td>\n      <td>78209</td>\n    </tr>\n    <tr>\n      <th>943</th>\n      <td>22</td>\n      <td>M</td>\n      <td>student</td>\n      <td>77841</td>\n    </tr>\n  </tbody>\n</table>\n</div>"
     },
     "execution_count": 5,
     "metadata": {},
     "output_type": "execute_result"
    }
   ],
   "source": [
    "users.tail(10)"
   ]
  },
  {
   "cell_type": "markdown",
   "source": [
    "### See the last column"
   ],
   "metadata": {
    "collapsed": false
   }
  },
  {
   "cell_type": "code",
   "execution_count": 48,
   "outputs": [
    {
     "data": {
      "text/plain": "user_id\n1      85711\n2      94043\n3      32067\n4      43537\n5      15213\n       ...  \n939    33319\n940    02215\n941    97229\n942    78209\n943    77841\nName: zip_code, Length: 943, dtype: object"
     },
     "execution_count": 48,
     "metadata": {},
     "output_type": "execute_result"
    }
   ],
   "source": [
    "users.iloc[:,-1]"
   ],
   "metadata": {
    "collapsed": false,
    "ExecuteTime": {
     "end_time": "2023-09-27T01:29:14.021997Z",
     "start_time": "2023-09-27T01:29:14.006059Z"
    }
   }
  },
  {
   "cell_type": "markdown",
   "metadata": {},
   "source": [
    "### Step 6. What are basic observations of the dataset?"
   ]
  },
  {
   "cell_type": "code",
   "execution_count": 6,
   "metadata": {
    "ExecuteTime": {
     "end_time": "2023-09-25T16:03:34.123144Z",
     "start_time": "2023-09-25T16:03:34.094785Z"
    }
   },
   "outputs": [
    {
     "data": {
      "text/plain": "(943, 4)"
     },
     "execution_count": 6,
     "metadata": {},
     "output_type": "execute_result"
    }
   ],
   "source": [
    "# The size of the dataset\n",
    "users.shape"
   ]
  },
  {
   "cell_type": "code",
   "execution_count": 7,
   "outputs": [
    {
     "data": {
      "text/plain": "Index(['age', 'gender', 'occupation', 'zip_code'], dtype='object')"
     },
     "execution_count": 7,
     "metadata": {},
     "output_type": "execute_result"
    }
   ],
   "source": [
    "# What are the columns\n",
    "users.columns"
   ],
   "metadata": {
    "collapsed": false,
    "ExecuteTime": {
     "end_time": "2023-09-25T16:07:57.481436Z",
     "start_time": "2023-09-25T16:07:57.391783Z"
    }
   }
  },
  {
   "cell_type": "code",
   "execution_count": 8,
   "outputs": [
    {
     "data": {
      "text/plain": "Int64Index([  1,   2,   3,   4,   5,   6,   7,   8,   9,  10,\n            ...\n            934, 935, 936, 937, 938, 939, 940, 941, 942, 943],\n           dtype='int64', name='user_id', length=943)"
     },
     "execution_count": 8,
     "metadata": {},
     "output_type": "execute_result"
    }
   ],
   "source": [
    "# info of the indexes (user_id)\n",
    "users.index"
   ],
   "metadata": {
    "collapsed": false,
    "ExecuteTime": {
     "end_time": "2023-09-25T16:08:08.191881Z",
     "start_time": "2023-09-25T16:08:08.157085Z"
    }
   }
  },
  {
   "cell_type": "code",
   "execution_count": 9,
   "outputs": [
    {
     "data": {
      "text/plain": "age            int64\ngender        object\noccupation    object\nzip_code      object\ndtype: object"
     },
     "execution_count": 9,
     "metadata": {},
     "output_type": "execute_result"
    }
   ],
   "source": [
    "# data type of each column\n",
    "users.dtypes"
   ],
   "metadata": {
    "collapsed": false,
    "ExecuteTime": {
     "end_time": "2023-09-25T16:09:05.656403Z",
     "start_time": "2023-09-25T16:09:05.155085Z"
    }
   }
  },
  {
   "cell_type": "code",
   "execution_count": 30,
   "outputs": [
    {
     "data": {
      "text/plain": "              age\ncount  943.000000\nmean    34.051962\nstd     12.192740\nmin      7.000000\n25%     25.000000\n50%     31.000000\n75%     43.000000\nmax     73.000000",
      "text/html": "<div>\n<style scoped>\n    .dataframe tbody tr th:only-of-type {\n        vertical-align: middle;\n    }\n\n    .dataframe tbody tr th {\n        vertical-align: top;\n    }\n\n    .dataframe thead th {\n        text-align: right;\n    }\n</style>\n<table border=\"1\" class=\"dataframe\">\n  <thead>\n    <tr style=\"text-align: right;\">\n      <th></th>\n      <th>age</th>\n    </tr>\n  </thead>\n  <tbody>\n    <tr>\n      <th>count</th>\n      <td>943.000000</td>\n    </tr>\n    <tr>\n      <th>mean</th>\n      <td>34.051962</td>\n    </tr>\n    <tr>\n      <th>std</th>\n      <td>12.192740</td>\n    </tr>\n    <tr>\n      <th>min</th>\n      <td>7.000000</td>\n    </tr>\n    <tr>\n      <th>25%</th>\n      <td>25.000000</td>\n    </tr>\n    <tr>\n      <th>50%</th>\n      <td>31.000000</td>\n    </tr>\n    <tr>\n      <th>75%</th>\n      <td>43.000000</td>\n    </tr>\n    <tr>\n      <th>max</th>\n      <td>73.000000</td>\n    </tr>\n  </tbody>\n</table>\n</div>"
     },
     "execution_count": 30,
     "metadata": {},
     "output_type": "execute_result"
    }
   ],
   "source": [
    "# Statistical description\n",
    "# Notice: by default, only the numeric columns are returned. \n",
    "users.describe() "
   ],
   "metadata": {
    "collapsed": false,
    "ExecuteTime": {
     "end_time": "2023-09-25T17:31:08.147149Z",
     "start_time": "2023-09-25T17:31:08.102299Z"
    }
   }
  },
  {
   "cell_type": "code",
   "execution_count": 31,
   "outputs": [
    {
     "data": {
      "text/plain": "               age gender occupation zip_code\ncount   943.000000    943        943      943\nunique         NaN      2         21      795\ntop            NaN      M    student    55414\nfreq           NaN    670        196        9\nmean     34.051962    NaN        NaN      NaN\nstd      12.192740    NaN        NaN      NaN\nmin       7.000000    NaN        NaN      NaN\n25%      25.000000    NaN        NaN      NaN\n50%      31.000000    NaN        NaN      NaN\n75%      43.000000    NaN        NaN      NaN\nmax      73.000000    NaN        NaN      NaN",
      "text/html": "<div>\n<style scoped>\n    .dataframe tbody tr th:only-of-type {\n        vertical-align: middle;\n    }\n\n    .dataframe tbody tr th {\n        vertical-align: top;\n    }\n\n    .dataframe thead th {\n        text-align: right;\n    }\n</style>\n<table border=\"1\" class=\"dataframe\">\n  <thead>\n    <tr style=\"text-align: right;\">\n      <th></th>\n      <th>age</th>\n      <th>gender</th>\n      <th>occupation</th>\n      <th>zip_code</th>\n    </tr>\n  </thead>\n  <tbody>\n    <tr>\n      <th>count</th>\n      <td>943.000000</td>\n      <td>943</td>\n      <td>943</td>\n      <td>943</td>\n    </tr>\n    <tr>\n      <th>unique</th>\n      <td>NaN</td>\n      <td>2</td>\n      <td>21</td>\n      <td>795</td>\n    </tr>\n    <tr>\n      <th>top</th>\n      <td>NaN</td>\n      <td>M</td>\n      <td>student</td>\n      <td>55414</td>\n    </tr>\n    <tr>\n      <th>freq</th>\n      <td>NaN</td>\n      <td>670</td>\n      <td>196</td>\n      <td>9</td>\n    </tr>\n    <tr>\n      <th>mean</th>\n      <td>34.051962</td>\n      <td>NaN</td>\n      <td>NaN</td>\n      <td>NaN</td>\n    </tr>\n    <tr>\n      <th>std</th>\n      <td>12.192740</td>\n      <td>NaN</td>\n      <td>NaN</td>\n      <td>NaN</td>\n    </tr>\n    <tr>\n      <th>min</th>\n      <td>7.000000</td>\n      <td>NaN</td>\n      <td>NaN</td>\n      <td>NaN</td>\n    </tr>\n    <tr>\n      <th>25%</th>\n      <td>25.000000</td>\n      <td>NaN</td>\n      <td>NaN</td>\n      <td>NaN</td>\n    </tr>\n    <tr>\n      <th>50%</th>\n      <td>31.000000</td>\n      <td>NaN</td>\n      <td>NaN</td>\n      <td>NaN</td>\n    </tr>\n    <tr>\n      <th>75%</th>\n      <td>43.000000</td>\n      <td>NaN</td>\n      <td>NaN</td>\n      <td>NaN</td>\n    </tr>\n    <tr>\n      <th>max</th>\n      <td>73.000000</td>\n      <td>NaN</td>\n      <td>NaN</td>\n      <td>NaN</td>\n    </tr>\n  </tbody>\n</table>\n</div>"
     },
     "execution_count": 31,
     "metadata": {},
     "output_type": "execute_result"
    }
   ],
   "source": [
    "# Statistical description of all \n",
    "users.describe(include = \"all\") #Notice: By default, only the numeric columns are returned.\n"
   ],
   "metadata": {
    "collapsed": false,
    "ExecuteTime": {
     "end_time": "2023-09-25T18:25:33.590790Z",
     "start_time": "2023-09-25T18:25:33.553998Z"
    }
   }
  },
  {
   "cell_type": "code",
   "execution_count": 33,
   "outputs": [
    {
     "data": {
      "text/plain": "count         943\nunique         21\ntop       student\nfreq          196\nName: occupation, dtype: object"
     },
     "execution_count": 33,
     "metadata": {},
     "output_type": "execute_result"
    }
   ],
   "source": [
    "users.occupation.describe() #Notice: By default, only the numeric columns are returned.\n"
   ],
   "metadata": {
    "collapsed": false,
    "ExecuteTime": {
     "end_time": "2023-09-25T18:26:22.983492Z",
     "start_time": "2023-09-25T18:26:22.919086Z"
    }
   }
  },
  {
   "cell_type": "markdown",
   "source": [
    "**Here**, we can know the basic info of the dataset, such as the size of dataset, columns, index, data types of each columns, statistical description as required."
   ],
   "metadata": {
    "collapsed": false
   }
  },
  {
   "cell_type": "markdown",
   "metadata": {},
   "source": [
    "### Step 7. What is advanced observation of the target(label/y)?"
   ]
  },
  {
   "cell_type": "code",
   "execution_count": 18,
   "metadata": {
    "ExecuteTime": {
     "end_time": "2023-09-25T16:14:01.666504Z",
     "start_time": "2023-09-25T16:14:01.610711Z"
    }
   },
   "outputs": [
    {
     "data": {
      "text/plain": "array(['technician', 'other', 'writer', 'executive', 'administrator',\n       'student', 'lawyer', 'educator', 'scientist', 'entertainment',\n       'programmer', 'librarian', 'homemaker', 'artist', 'engineer',\n       'marketing', 'none', 'healthcare', 'retired', 'salesman', 'doctor'],\n      dtype=object)"
     },
     "execution_count": 18,
     "metadata": {},
     "output_type": "execute_result"
    }
   ],
   "source": [
    "# What are the labels\n",
    "users.occupation.unique()\n",
    "#or\n",
    "users['occupation'].unique()"
   ]
  },
  {
   "cell_type": "code",
   "execution_count": 13,
   "outputs": [
    {
     "data": {
      "text/plain": "21"
     },
     "execution_count": 13,
     "metadata": {},
     "output_type": "execute_result"
    }
   ],
   "source": [
    "# number of unique targets\n",
    "users.occupation.nunique()\n",
    "\n",
    "# or\n",
    "\n",
    "users.occupation.value_counts().count()"
   ],
   "metadata": {
    "collapsed": false,
    "ExecuteTime": {
     "end_time": "2023-09-25T16:12:29.949017Z",
     "start_time": "2023-09-25T16:12:29.911013Z"
    }
   }
  },
  {
   "cell_type": "markdown",
   "source": [
    "### the most frequent occurrences\n",
    "### 1. Use pie "
   ],
   "metadata": {
    "collapsed": false
   }
  },
  {
   "cell_type": "code",
   "execution_count": 25,
   "outputs": [],
   "source": [
    "\n",
    "import matplotlib.pyplot as plt"
   ],
   "metadata": {
    "collapsed": false,
    "ExecuteTime": {
     "end_time": "2023-09-25T16:32:03.537574Z",
     "start_time": "2023-09-25T16:32:03.506334Z"
    }
   }
  },
  {
   "cell_type": "code",
   "execution_count": 28,
   "outputs": [
    {
     "data": {
      "text/plain": "<Figure size 1000x800 with 1 Axes>",
      "image/png": "[encoded data removed]"
     },
     "metadata": {},
     "output_type": "display_data"
    }
   ],
   "source": [
    "# observe the occupancy of each targets\n",
    "users['occupation'].value_counts().plot.pie( autopct='%1.1f%%',shadow=True,figsize=(10,8))\n",
    "plt.title(\"User occupation occupancy %\")\n",
    "plt.show()"
   ],
   "metadata": {
    "collapsed": false,
    "ExecuteTime": {
     "end_time": "2023-09-25T16:32:56.668882Z",
     "start_time": "2023-09-25T16:32:56.507098Z"
    }
   }
  },
  {
   "cell_type": "markdown",
   "source": [
    "***Here***, we can know the advanced info of the targets, such as what are the targets, how many in total, and the distribution of it.\n",
    "\n",
    "We can also see from the figure, student is with the biggest occupancy while doctor is the least.\n",
    "\n",
    "But if you dont want to use pie to show all the info, you can use:"
   ],
   "metadata": {
    "collapsed": false
   }
  },
  {
   "cell_type": "markdown",
   "source": [
    "### 2. Use value_counts() "
   ],
   "metadata": {
    "collapsed": false
   }
  },
  {
   "cell_type": "code",
   "execution_count": 29,
   "outputs": [
    {
     "data": {
      "text/plain": "'student'"
     },
     "execution_count": 29,
     "metadata": {},
     "output_type": "execute_result"
    }
   ],
   "source": [
    "users.occupation.value_counts().head(1).index[0]\n",
    "\n",
    "#or\n",
    "#to have the top 5\n",
    "# users.occupation.value_counts().head()"
   ],
   "metadata": {
    "collapsed": false,
    "ExecuteTime": {
     "end_time": "2023-09-25T17:30:48.520098Z",
     "start_time": "2023-09-25T17:30:48.474252Z"
    }
   }
  },
  {
   "cell_type": "markdown",
   "source": [
    "### 3. Use idxman() \n"
   ],
   "metadata": {
    "collapsed": false
   }
  },
  {
   "cell_type": "code",
   "execution_count": 127,
   "outputs": [
    {
     "name": "stderr",
     "output_type": "stream",
     "text": [
      "/var/folders/0m/hd5nyhdj19b3dcxl72fwby3c0000gn/T/ipykernel_15878/1266832641.py:1: FutureWarning: The default value of numeric_only in DataFrameGroupBy.sum is deprecated. In a future version, numeric_only will default to False. Either specify numeric_only or select only columns which should be valid for the function.\n",
      "  occupation_amount = users.groupby(\"occupation\").sum()\n"
     ]
    },
    {
     "data": {
      "text/plain": "'student'"
     },
     "execution_count": 127,
     "metadata": {},
     "output_type": "execute_result"
    }
   ],
   "source": [
    "occupation_amount = users.groupby(\"occupation\").sum()\n",
    "occupation_amount.age.idxmax()"
   ],
   "metadata": {
    "collapsed": false,
    "ExecuteTime": {
     "end_time": "2023-09-28T03:15:59.914179Z",
     "start_time": "2023-09-28T03:15:59.852976Z"
    }
   }
  },
  {
   "cell_type": "markdown",
   "source": [
    "### 4. Use max() \n"
   ],
   "metadata": {
    "collapsed": false
   }
  },
  {
   "cell_type": "code",
   "execution_count": 129,
   "outputs": [
    {
     "data": {
      "text/plain": "             age\noccupation      \nstudent     4328",
      "text/html": "<div>\n<style scoped>\n    .dataframe tbody tr th:only-of-type {\n        vertical-align: middle;\n    }\n\n    .dataframe tbody tr th {\n        vertical-align: top;\n    }\n\n    .dataframe thead th {\n        text-align: right;\n    }\n</style>\n<table border=\"1\" class=\"dataframe\">\n  <thead>\n    <tr style=\"text-align: right;\">\n      <th></th>\n      <th>age</th>\n    </tr>\n    <tr>\n      <th>occupation</th>\n      <th></th>\n    </tr>\n  </thead>\n  <tbody>\n    <tr>\n      <th>student</th>\n      <td>4328</td>\n    </tr>\n  </tbody>\n</table>\n</div>"
     },
     "execution_count": 129,
     "metadata": {},
     "output_type": "execute_result"
    }
   ],
   "source": [
    "occupation_amount[occupation_amount.age == occupation_amount.age.max()]\n"
   ],
   "metadata": {
    "collapsed": false,
    "ExecuteTime": {
     "end_time": "2023-09-28T03:16:51.335540Z",
     "start_time": "2023-09-28T03:16:51.221123Z"
    }
   }
  },
  {
   "cell_type": "markdown",
   "metadata": {},
   "source": [
    "### Step 8. What is the statistical information of each occupation"
   ]
  },
  {
   "cell_type": "code",
   "execution_count": 37,
   "outputs": [
    {
     "data": {
      "text/plain": "                 age                                                      \n               count       mean        std   min    25%   50%    75%   max\noccupation                                                                \nadministrator   79.0  38.746835  11.123397  21.0  30.00  37.0  48.00  70.0\nartist          28.0  31.392857   8.668116  19.0  25.00  30.0  39.00  48.0\ndoctor           7.0  43.571429  12.501428  28.0  35.50  45.0  48.50  64.0\neducator        95.0  42.010526  10.413264  23.0  33.00  42.0  50.00  63.0\nengineer        67.0  36.388060  11.199236  22.0  28.00  36.0  43.00  70.0\nentertainment   18.0  29.222222  10.056052  15.0  23.00  25.0  33.00  50.0\nexecutive       32.0  38.718750  10.608075  22.0  31.00  38.5  46.00  69.0\nhealthcare      16.0  41.562500  11.313524  22.0  30.50  44.5  49.25  62.0\nhomemaker        7.0  32.571429  10.737119  20.0  24.50  32.0  38.50  50.0\nlawyer          12.0  36.750000  10.830303  21.0  28.75  34.0  47.75  53.0\nlibrarian       51.0  40.000000  11.023611  23.0  30.00  39.0  49.00  69.0\nmarketing       26.0  37.615385   9.474500  24.0  30.25  36.0  42.50  55.0\nnone             9.0  26.555556  13.757826  11.0  16.00  26.0  33.00  55.0\nother          105.0  34.523810  10.738227  13.0  26.00  32.0  44.00  64.0\nprogrammer      66.0  33.121212   9.624512  20.0  27.00  30.0  38.00  63.0\nretired         14.0  63.071429   5.757461  51.0  60.00  63.0  67.25  73.0\nsalesman        12.0  35.666667  14.079859  18.0  28.25  34.0  38.25  66.0\nscientist       31.0  35.548387   7.392964  23.0  30.00  37.0  40.00  55.0\nstudent        196.0  22.081633   5.284081   7.0  19.00  21.0  25.00  42.0\ntechnician      27.0  33.148148   9.867210  21.0  24.00  30.0  40.00  55.0\nwriter          45.0  36.311111  11.423306  18.0  26.00  36.0  48.00  60.0",
      "text/html": "<div>\n<style scoped>\n    .dataframe tbody tr th:only-of-type {\n        vertical-align: middle;\n    }\n\n    .dataframe tbody tr th {\n        vertical-align: top;\n    }\n\n    .dataframe thead tr th {\n        text-align: left;\n    }\n\n    .dataframe thead tr:last-of-type th {\n        text-align: right;\n    }\n</style>\n<table border=\"1\" class=\"dataframe\">\n  <thead>\n    <tr>\n      <th></th>\n      <th colspan=\"8\" halign=\"left\">age</th>\n    </tr>\n    <tr>\n      <th></th>\n      <th>count</th>\n      <th>mean</th>\n      <th>std</th>\n      <th>min</th>\n      <th>25%</th>\n      <th>50%</th>\n      <th>75%</th>\n      <th>max</th>\n    </tr>\n    <tr>\n      <th>occupation</th>\n      <th></th>\n      <th></th>\n      <th></th>\n      <th></th>\n      <th></th>\n      <th></th>\n      <th></th>\n      <th></th>\n    </tr>\n  </thead>\n  <tbody>\n    <tr>\n      <th>administrator</th>\n      <td>79.0</td>\n      <td>38.746835</td>\n      <td>11.123397</td>\n      <td>21.0</td>\n      <td>30.00</td>\n      <td>37.0</td>\n      <td>48.00</td>\n      <td>70.0</td>\n    </tr>\n    <tr>\n      <th>artist</th>\n      <td>28.0</td>\n      <td>31.392857</td>\n      <td>8.668116</td>\n      <td>19.0</td>\n      <td>25.00</td>\n      <td>30.0</td>\n      <td>39.00</td>\n      <td>48.0</td>\n    </tr>\n    <tr>\n      <th>doctor</th>\n      <td>7.0</td>\n      <td>43.571429</td>\n      <td>12.501428</td>\n      <td>28.0</td>\n      <td>35.50</td>\n      <td>45.0</td>\n      <td>48.50</td>\n      <td>64.0</td>\n    </tr>\n    <tr>\n      <th>educator</th>\n      <td>95.0</td>\n      <td>42.010526</td>\n      <td>10.413264</td>\n      <td>23.0</td>\n      <td>33.00</td>\n      <td>42.0</td>\n      <td>50.00</td>\n      <td>63.0</td>\n    </tr>\n    <tr>\n      <th>engineer</th>\n      <td>67.0</td>\n      <td>36.388060</td>\n      <td>11.199236</td>\n      <td>22.0</td>\n      <td>28.00</td>\n      <td>36.0</td>\n      <td>43.00</td>\n      <td>70.0</td>\n    </tr>\n    <tr>\n      <th>entertainment</th>\n      <td>18.0</td>\n      <td>29.222222</td>\n      <td>10.056052</td>\n      <td>15.0</td>\n      <td>23.00</td>\n      <td>25.0</td>\n      <td>33.00</td>\n      <td>50.0</td>\n    </tr>\n    <tr>\n      <th>executive</th>\n      <td>32.0</td>\n      <td>38.718750</td>\n      <td>10.608075</td>\n      <td>22.0</td>\n      <td>31.00</td>\n      <td>38.5</td>\n      <td>46.00</td>\n      <td>69.0</td>\n    </tr>\n    <tr>\n      <th>healthcare</th>\n      <td>16.0</td>\n      <td>41.562500</td>\n      <td>11.313524</td>\n      <td>22.0</td>\n      <td>30.50</td>\n      <td>44.5</td>\n      <td>49.25</td>\n      <td>62.0</td>\n    </tr>\n    <tr>\n      <th>homemaker</th>\n      <td>7.0</td>\n      <td>32.571429</td>\n      <td>10.737119</td>\n      <td>20.0</td>\n      <td>24.50</td>\n      <td>32.0</td>\n      <td>38.50</td>\n      <td>50.0</td>\n    </tr>\n    <tr>\n      <th>lawyer</th>\n      <td>12.0</td>\n      <td>36.750000</td>\n      <td>10.830303</td>\n      <td>21.0</td>\n      <td>28.75</td>\n      <td>34.0</td>\n      <td>47.75</td>\n      <td>53.0</td>\n    </tr>\n    <tr>\n      <th>librarian</th>\n      <td>51.0</td>\n      <td>40.000000</td>\n      <td>11.023611</td>\n      <td>23.0</td>\n      <td>30.00</td>\n      <td>39.0</td>\n      <td>49.00</td>\n      <td>69.0</td>\n    </tr>\n    <tr>\n      <th>marketing</th>\n      <td>26.0</td>\n      <td>37.615385</td>\n      <td>9.474500</td>\n      <td>24.0</td>\n      <td>30.25</td>\n      <td>36.0</td>\n      <td>42.50</td>\n      <td>55.0</td>\n    </tr>\n    <tr>\n      <th>none</th>\n      <td>9.0</td>\n      <td>26.555556</td>\n      <td>13.757826</td>\n      <td>11.0</td>\n      <td>16.00</td>\n      <td>26.0</td>\n      <td>33.00</td>\n      <td>55.0</td>\n    </tr>\n    <tr>\n      <th>other</th>\n      <td>105.0</td>\n      <td>34.523810</td>\n      <td>10.738227</td>\n      <td>13.0</td>\n      <td>26.00</td>\n      <td>32.0</td>\n      <td>44.00</td>\n      <td>64.0</td>\n    </tr>\n    <tr>\n      <th>programmer</th>\n      <td>66.0</td>\n      <td>33.121212</td>\n      <td>9.624512</td>\n      <td>20.0</td>\n      <td>27.00</td>\n      <td>30.0</td>\n      <td>38.00</td>\n      <td>63.0</td>\n    </tr>\n    <tr>\n      <th>retired</th>\n      <td>14.0</td>\n      <td>63.071429</td>\n      <td>5.757461</td>\n      <td>51.0</td>\n      <td>60.00</td>\n      <td>63.0</td>\n      <td>67.25</td>\n      <td>73.0</td>\n    </tr>\n    <tr>\n      <th>salesman</th>\n      <td>12.0</td>\n      <td>35.666667</td>\n      <td>14.079859</td>\n      <td>18.0</td>\n      <td>28.25</td>\n      <td>34.0</td>\n      <td>38.25</td>\n      <td>66.0</td>\n    </tr>\n    <tr>\n      <th>scientist</th>\n      <td>31.0</td>\n      <td>35.548387</td>\n      <td>7.392964</td>\n      <td>23.0</td>\n      <td>30.00</td>\n      <td>37.0</td>\n      <td>40.00</td>\n      <td>55.0</td>\n    </tr>\n    <tr>\n      <th>student</th>\n      <td>196.0</td>\n      <td>22.081633</td>\n      <td>5.284081</td>\n      <td>7.0</td>\n      <td>19.00</td>\n      <td>21.0</td>\n      <td>25.00</td>\n      <td>42.0</td>\n    </tr>\n    <tr>\n      <th>technician</th>\n      <td>27.0</td>\n      <td>33.148148</td>\n      <td>9.867210</td>\n      <td>21.0</td>\n      <td>24.00</td>\n      <td>30.0</td>\n      <td>40.00</td>\n      <td>55.0</td>\n    </tr>\n    <tr>\n      <th>writer</th>\n      <td>45.0</td>\n      <td>36.311111</td>\n      <td>11.423306</td>\n      <td>18.0</td>\n      <td>26.00</td>\n      <td>36.0</td>\n      <td>48.00</td>\n      <td>60.0</td>\n    </tr>\n  </tbody>\n</table>\n</div>"
     },
     "execution_count": 37,
     "metadata": {},
     "output_type": "execute_result"
    }
   ],
   "source": [
    "users.groupby('occupation').describe()\n"
   ],
   "metadata": {
    "collapsed": false,
    "ExecuteTime": {
     "end_time": "2023-09-25T18:32:26.251362Z",
     "start_time": "2023-09-25T18:32:26.196734Z"
    }
   }
  },
  {
   "cell_type": "code",
   "execution_count": 46,
   "metadata": {},
   "outputs": [
    {
     "data": {
      "text/plain": [
       "Int64Index([  1,   2,   3,   4,   5,   6,   7,   8,   9,  10,\n",
       "            ...\n",
       "            934, 935, 936, 937, 938, 939, 940, 941, 942, 943],\n",
       "           dtype='int64', name='user_id', length=943)"
      ]
     },
     "execution_count": 46,
     "metadata": {},
     "output_type": "execute_result"
    }
   ],
   "source": [
    "# \"the index\" (aka \"the labels\")\n",
    "users.index"
   ]
  },
  {
   "cell_type": "code",
   "execution_count": null,
   "outputs": [],
   "source": [],
   "metadata": {
    "collapsed": false
   }
  },
  {
   "cell_type": "markdown",
   "source": [
    "## 2. Filtering & Sorting\n",
    "\n",
    "### Step 1. how many female employees in the work place between 25- 55?\n"
   ],
   "metadata": {
    "collapsed": false
   }
  },
  {
   "cell_type": "code",
   "execution_count": 14,
   "outputs": [
    {
     "data": {
      "text/plain": "age           198\ngender        198\noccupation    198\nzip_code      198\ndtype: int64"
     },
     "execution_count": 14,
     "metadata": {},
     "output_type": "execute_result"
    }
   ],
   "source": [
    "users[((users['age'] > 24 )&( users['age']<56 ) & (users['gender']== 'F'))].count()"
   ],
   "metadata": {
    "collapsed": false,
    "ExecuteTime": {
     "end_time": "2023-09-27T01:11:30.962410Z",
     "start_time": "2023-09-27T01:11:30.931559Z"
    }
   }
  },
  {
   "cell_type": "markdown",
   "source": [
    "### Step 2. what is the maximum age and minimum age of students?"
   ],
   "metadata": {
    "collapsed": false
   }
  },
  {
   "cell_type": "code",
   "execution_count": 30,
   "outputs": [
    {
     "data": {
      "text/plain": "         age gender occupation zip_code\nuser_id                                \n30         7      M    student    55436\n471       10      M    student    77459\n880       13      M    student    83702\n674       13      F    student    55337\n609       13      F    student    55106\n...      ...    ...        ...      ...\n742       35      M    student    29210\n577       36      F    student    77845\n861       38      F    student    14085\n565       40      M    student    55422\n188       42      M    student    29440\n\n[196 rows x 4 columns]",
      "text/html": "<div>\n<style scoped>\n    .dataframe tbody tr th:only-of-type {\n        vertical-align: middle;\n    }\n\n    .dataframe tbody tr th {\n        vertical-align: top;\n    }\n\n    .dataframe thead th {\n        text-align: right;\n    }\n</style>\n<table border=\"1\" class=\"dataframe\">\n  <thead>\n    <tr style=\"text-align: right;\">\n      <th></th>\n      <th>age</th>\n      <th>gender</th>\n      <th>occupation</th>\n      <th>zip_code</th>\n    </tr>\n    <tr>\n      <th>user_id</th>\n      <th></th>\n      <th></th>\n      <th></th>\n      <th></th>\n    </tr>\n  </thead>\n  <tbody>\n    <tr>\n      <th>30</th>\n      <td>7</td>\n      <td>M</td>\n      <td>student</td>\n      <td>55436</td>\n    </tr>\n    <tr>\n      <th>471</th>\n      <td>10</td>\n      <td>M</td>\n      <td>student</td>\n      <td>77459</td>\n    </tr>\n    <tr>\n      <th>880</th>\n      <td>13</td>\n      <td>M</td>\n      <td>student</td>\n      <td>83702</td>\n    </tr>\n    <tr>\n      <th>674</th>\n      <td>13</td>\n      <td>F</td>\n      <td>student</td>\n      <td>55337</td>\n    </tr>\n    <tr>\n      <th>609</th>\n      <td>13</td>\n      <td>F</td>\n      <td>student</td>\n      <td>55106</td>\n    </tr>\n    <tr>\n      <th>...</th>\n      <td>...</td>\n      <td>...</td>\n      <td>...</td>\n      <td>...</td>\n    </tr>\n    <tr>\n      <th>742</th>\n      <td>35</td>\n      <td>M</td>\n      <td>student</td>\n      <td>29210</td>\n    </tr>\n    <tr>\n      <th>577</th>\n      <td>36</td>\n      <td>F</td>\n      <td>student</td>\n      <td>77845</td>\n    </tr>\n    <tr>\n      <th>861</th>\n      <td>38</td>\n      <td>F</td>\n      <td>student</td>\n      <td>14085</td>\n    </tr>\n    <tr>\n      <th>565</th>\n      <td>40</td>\n      <td>M</td>\n      <td>student</td>\n      <td>55422</td>\n    </tr>\n    <tr>\n      <th>188</th>\n      <td>42</td>\n      <td>M</td>\n      <td>student</td>\n      <td>29440</td>\n    </tr>\n  </tbody>\n</table>\n<p>196 rows × 4 columns</p>\n</div>"
     },
     "execution_count": 30,
     "metadata": {},
     "output_type": "execute_result"
    }
   ],
   "source": [
    "students = users[users['occupation'] == 'student'].sort_values(by = ['age'])\n",
    "students"
   ],
   "metadata": {
    "collapsed": false,
    "ExecuteTime": {
     "end_time": "2023-09-27T01:17:29.910549Z",
     "start_time": "2023-09-27T01:17:29.818256Z"
    }
   }
  },
  {
   "cell_type": "markdown",
   "source": [
    "Hence, we obtained the yougest student is 7 years old and oldest one is a 42 years-old man."
   ],
   "metadata": {
    "collapsed": false
   }
  },
  {
   "cell_type": "markdown",
   "metadata": {},
   "source": [
    "### Step 3. Find what occupation is end with -ian?"
   ]
  },
  {
   "cell_type": "code",
   "execution_count": 37,
   "metadata": {
    "ExecuteTime": {
     "end_time": "2023-09-27T01:24:22.357694Z",
     "start_time": "2023-09-27T01:24:22.326348Z"
    }
   },
   "outputs": [
    {
     "data": {
      "text/plain": "array(['technician', 'librarian'], dtype=object)"
     },
     "execution_count": 37,
     "metadata": {},
     "output_type": "execute_result"
    }
   ],
   "source": [
    "users[users.occupation.str.endswith('ian')]['occupation'].unique()"
   ]
  },
  {
   "cell_type": "markdown",
   "metadata": {},
   "source": [
    "### Step 4. Present only the age, gender, zipcode of educator and student"
   ]
  },
  {
   "cell_type": "code",
   "execution_count": 50,
   "metadata": {
    "ExecuteTime": {
     "end_time": "2023-09-27T01:36:30.917353Z",
     "start_time": "2023-09-27T01:36:30.884591Z"
    }
   },
   "outputs": [
    {
     "data": {
      "text/plain": "         age gender zip_code\nuser_id                     \n9         29      M    01002\n13        47      M    29206\n15        49      F    97301\n30         7      M    55436\n32        28      F    78741\n...      ...    ...      ...\n933       28      M    48105\n937       48      M    98072\n939       26      F    33319\n941       20      M    97229\n943       22      M    77841\n\n[291 rows x 3 columns]",
      "text/html": "<div>\n<style scoped>\n    .dataframe tbody tr th:only-of-type {\n        vertical-align: middle;\n    }\n\n    .dataframe tbody tr th {\n        vertical-align: top;\n    }\n\n    .dataframe thead th {\n        text-align: right;\n    }\n</style>\n<table border=\"1\" class=\"dataframe\">\n  <thead>\n    <tr style=\"text-align: right;\">\n      <th></th>\n      <th>age</th>\n      <th>gender</th>\n      <th>zip_code</th>\n    </tr>\n    <tr>\n      <th>user_id</th>\n      <th></th>\n      <th></th>\n      <th></th>\n    </tr>\n  </thead>\n  <tbody>\n    <tr>\n      <th>9</th>\n      <td>29</td>\n      <td>M</td>\n      <td>01002</td>\n    </tr>\n    <tr>\n      <th>13</th>\n      <td>47</td>\n      <td>M</td>\n      <td>29206</td>\n    </tr>\n    <tr>\n      <th>15</th>\n      <td>49</td>\n      <td>F</td>\n      <td>97301</td>\n    </tr>\n    <tr>\n      <th>30</th>\n      <td>7</td>\n      <td>M</td>\n      <td>55436</td>\n    </tr>\n    <tr>\n      <th>32</th>\n      <td>28</td>\n      <td>F</td>\n      <td>78741</td>\n    </tr>\n    <tr>\n      <th>...</th>\n      <td>...</td>\n      <td>...</td>\n      <td>...</td>\n    </tr>\n    <tr>\n      <th>933</th>\n      <td>28</td>\n      <td>M</td>\n      <td>48105</td>\n    </tr>\n    <tr>\n      <th>937</th>\n      <td>48</td>\n      <td>M</td>\n      <td>98072</td>\n    </tr>\n    <tr>\n      <th>939</th>\n      <td>26</td>\n      <td>F</td>\n      <td>33319</td>\n    </tr>\n    <tr>\n      <th>941</th>\n      <td>20</td>\n      <td>M</td>\n      <td>97229</td>\n    </tr>\n    <tr>\n      <th>943</th>\n      <td>22</td>\n      <td>M</td>\n      <td>77841</td>\n    </tr>\n  </tbody>\n</table>\n<p>291 rows × 3 columns</p>\n</div>"
     },
     "execution_count": 50,
     "metadata": {},
     "output_type": "execute_result"
    }
   ],
   "source": [
    "users.loc[users.occupation.isin(['educator','student']), ['age','gender', 'zip_code']]\n"
   ]
  },
  {
   "cell_type": "markdown",
   "source": [
    "## 3. Grouping"
   ],
   "metadata": {
    "collapsed": false
   }
  },
  {
   "cell_type": "markdown",
   "metadata": {},
   "source": [
    "### Step 1. What is the average age of each occupation?"
   ]
  },
  {
   "cell_type": "code",
   "execution_count": 51,
   "outputs": [
    {
     "data": {
      "text/plain": "occupation\nadministrator    38.746835\nartist           31.392857\ndoctor           43.571429\neducator         42.010526\nengineer         36.388060\nentertainment    29.222222\nexecutive        38.718750\nhealthcare       41.562500\nhomemaker        32.571429\nlawyer           36.750000\nlibrarian        40.000000\nmarketing        37.615385\nnone             26.555556\nother            34.523810\nprogrammer       33.121212\nretired          63.071429\nsalesman         35.666667\nscientist        35.548387\nstudent          22.081633\ntechnician       33.148148\nwriter           36.311111\nName: age, dtype: float64"
     },
     "execution_count": 51,
     "metadata": {},
     "output_type": "execute_result"
    }
   ],
   "source": [
    "users.groupby('occupation').age.mean()"
   ],
   "metadata": {
    "collapsed": false,
    "ExecuteTime": {
     "end_time": "2023-09-27T01:49:30.426492Z",
     "start_time": "2023-09-27T01:49:30.405015Z"
    }
   }
  },
  {
   "cell_type": "markdown",
   "metadata": {},
   "source": [
    "### Step 2. For each occupation print the statistics for age."
   ]
  },
  {
   "cell_type": "code",
   "execution_count": 52,
   "metadata": {
    "ExecuteTime": {
     "end_time": "2023-09-27T01:51:27.408488Z",
     "start_time": "2023-09-27T01:51:27.356446Z"
    }
   },
   "outputs": [
    {
     "data": {
      "text/plain": "               count       mean        std   min    25%   50%    75%   max\noccupation                                                                \nadministrator   79.0  38.746835  11.123397  21.0  30.00  37.0  48.00  70.0\nartist          28.0  31.392857   8.668116  19.0  25.00  30.0  39.00  48.0\ndoctor           7.0  43.571429  12.501428  28.0  35.50  45.0  48.50  64.0\neducator        95.0  42.010526  10.413264  23.0  33.00  42.0  50.00  63.0\nengineer        67.0  36.388060  11.199236  22.0  28.00  36.0  43.00  70.0\nentertainment   18.0  29.222222  10.056052  15.0  23.00  25.0  33.00  50.0\nexecutive       32.0  38.718750  10.608075  22.0  31.00  38.5  46.00  69.0\nhealthcare      16.0  41.562500  11.313524  22.0  30.50  44.5  49.25  62.0\nhomemaker        7.0  32.571429  10.737119  20.0  24.50  32.0  38.50  50.0\nlawyer          12.0  36.750000  10.830303  21.0  28.75  34.0  47.75  53.0\nlibrarian       51.0  40.000000  11.023611  23.0  30.00  39.0  49.00  69.0\nmarketing       26.0  37.615385   9.474500  24.0  30.25  36.0  42.50  55.0\nnone             9.0  26.555556  13.757826  11.0  16.00  26.0  33.00  55.0\nother          105.0  34.523810  10.738227  13.0  26.00  32.0  44.00  64.0\nprogrammer      66.0  33.121212   9.624512  20.0  27.00  30.0  38.00  63.0\nretired         14.0  63.071429   5.757461  51.0  60.00  63.0  67.25  73.0\nsalesman        12.0  35.666667  14.079859  18.0  28.25  34.0  38.25  66.0\nscientist       31.0  35.548387   7.392964  23.0  30.00  37.0  40.00  55.0\nstudent        196.0  22.081633   5.284081   7.0  19.00  21.0  25.00  42.0\ntechnician      27.0  33.148148   9.867210  21.0  24.00  30.0  40.00  55.0\nwriter          45.0  36.311111  11.423306  18.0  26.00  36.0  48.00  60.0",
      "text/html": "<div>\n<style scoped>\n    .dataframe tbody tr th:only-of-type {\n        vertical-align: middle;\n    }\n\n    .dataframe tbody tr th {\n        vertical-align: top;\n    }\n\n    .dataframe thead th {\n        text-align: right;\n    }\n</style>\n<table border=\"1\" class=\"dataframe\">\n  <thead>\n    <tr style=\"text-align: right;\">\n      <th></th>\n      <th>count</th>\n      <th>mean</th>\n      <th>std</th>\n      <th>min</th>\n      <th>25%</th>\n      <th>50%</th>\n      <th>75%</th>\n      <th>max</th>\n    </tr>\n    <tr>\n      <th>occupation</th>\n      <th></th>\n      <th></th>\n      <th></th>\n      <th></th>\n      <th></th>\n      <th></th>\n      <th></th>\n      <th></th>\n    </tr>\n  </thead>\n  <tbody>\n    <tr>\n      <th>administrator</th>\n      <td>79.0</td>\n      <td>38.746835</td>\n      <td>11.123397</td>\n      <td>21.0</td>\n      <td>30.00</td>\n      <td>37.0</td>\n      <td>48.00</td>\n      <td>70.0</td>\n    </tr>\n    <tr>\n      <th>artist</th>\n      <td>28.0</td>\n      <td>31.392857</td>\n      <td>8.668116</td>\n      <td>19.0</td>\n      <td>25.00</td>\n      <td>30.0</td>\n      <td>39.00</td>\n      <td>48.0</td>\n    </tr>\n    <tr>\n      <th>doctor</th>\n      <td>7.0</td>\n      <td>43.571429</td>\n      <td>12.501428</td>\n      <td>28.0</td>\n      <td>35.50</td>\n      <td>45.0</td>\n      <td>48.50</td>\n      <td>64.0</td>\n    </tr>\n    <tr>\n      <th>educator</th>\n      <td>95.0</td>\n      <td>42.010526</td>\n      <td>10.413264</td>\n      <td>23.0</td>\n      <td>33.00</td>\n      <td>42.0</td>\n      <td>50.00</td>\n      <td>63.0</td>\n    </tr>\n    <tr>\n      <th>engineer</th>\n      <td>67.0</td>\n      <td>36.388060</td>\n      <td>11.199236</td>\n      <td>22.0</td>\n      <td>28.00</td>\n      <td>36.0</td>\n      <td>43.00</td>\n      <td>70.0</td>\n    </tr>\n    <tr>\n      <th>entertainment</th>\n      <td>18.0</td>\n      <td>29.222222</td>\n      <td>10.056052</td>\n      <td>15.0</td>\n      <td>23.00</td>\n      <td>25.0</td>\n      <td>33.00</td>\n      <td>50.0</td>\n    </tr>\n    <tr>\n      <th>executive</th>\n      <td>32.0</td>\n      <td>38.718750</td>\n      <td>10.608075</td>\n      <td>22.0</td>\n      <td>31.00</td>\n      <td>38.5</td>\n      <td>46.00</td>\n      <td>69.0</td>\n    </tr>\n    <tr>\n      <th>healthcare</th>\n      <td>16.0</td>\n      <td>41.562500</td>\n      <td>11.313524</td>\n      <td>22.0</td>\n      <td>30.50</td>\n      <td>44.5</td>\n      <td>49.25</td>\n      <td>62.0</td>\n    </tr>\n    <tr>\n      <th>homemaker</th>\n      <td>7.0</td>\n      <td>32.571429</td>\n      <td>10.737119</td>\n      <td>20.0</td>\n      <td>24.50</td>\n      <td>32.0</td>\n      <td>38.50</td>\n      <td>50.0</td>\n    </tr>\n    <tr>\n      <th>lawyer</th>\n      <td>12.0</td>\n      <td>36.750000</td>\n      <td>10.830303</td>\n      <td>21.0</td>\n      <td>28.75</td>\n      <td>34.0</td>\n      <td>47.75</td>\n      <td>53.0</td>\n    </tr>\n    <tr>\n      <th>librarian</th>\n      <td>51.0</td>\n      <td>40.000000</td>\n      <td>11.023611</td>\n      <td>23.0</td>\n      <td>30.00</td>\n      <td>39.0</td>\n      <td>49.00</td>\n      <td>69.0</td>\n    </tr>\n    <tr>\n      <th>marketing</th>\n      <td>26.0</td>\n      <td>37.615385</td>\n      <td>9.474500</td>\n      <td>24.0</td>\n      <td>30.25</td>\n      <td>36.0</td>\n      <td>42.50</td>\n      <td>55.0</td>\n    </tr>\n    <tr>\n      <th>none</th>\n      <td>9.0</td>\n      <td>26.555556</td>\n      <td>13.757826</td>\n      <td>11.0</td>\n      <td>16.00</td>\n      <td>26.0</td>\n      <td>33.00</td>\n      <td>55.0</td>\n    </tr>\n    <tr>\n      <th>other</th>\n      <td>105.0</td>\n      <td>34.523810</td>\n      <td>10.738227</td>\n      <td>13.0</td>\n      <td>26.00</td>\n      <td>32.0</td>\n      <td>44.00</td>\n      <td>64.0</td>\n    </tr>\n    <tr>\n      <th>programmer</th>\n      <td>66.0</td>\n      <td>33.121212</td>\n      <td>9.624512</td>\n      <td>20.0</td>\n      <td>27.00</td>\n      <td>30.0</td>\n      <td>38.00</td>\n      <td>63.0</td>\n    </tr>\n    <tr>\n      <th>retired</th>\n      <td>14.0</td>\n      <td>63.071429</td>\n      <td>5.757461</td>\n      <td>51.0</td>\n      <td>60.00</td>\n      <td>63.0</td>\n      <td>67.25</td>\n      <td>73.0</td>\n    </tr>\n    <tr>\n      <th>salesman</th>\n      <td>12.0</td>\n      <td>35.666667</td>\n      <td>14.079859</td>\n      <td>18.0</td>\n      <td>28.25</td>\n      <td>34.0</td>\n      <td>38.25</td>\n      <td>66.0</td>\n    </tr>\n    <tr>\n      <th>scientist</th>\n      <td>31.0</td>\n      <td>35.548387</td>\n      <td>7.392964</td>\n      <td>23.0</td>\n      <td>30.00</td>\n      <td>37.0</td>\n      <td>40.00</td>\n      <td>55.0</td>\n    </tr>\n    <tr>\n      <th>student</th>\n      <td>196.0</td>\n      <td>22.081633</td>\n      <td>5.284081</td>\n      <td>7.0</td>\n      <td>19.00</td>\n      <td>21.0</td>\n      <td>25.00</td>\n      <td>42.0</td>\n    </tr>\n    <tr>\n      <th>technician</th>\n      <td>27.0</td>\n      <td>33.148148</td>\n      <td>9.867210</td>\n      <td>21.0</td>\n      <td>24.00</td>\n      <td>30.0</td>\n      <td>40.00</td>\n      <td>55.0</td>\n    </tr>\n    <tr>\n      <th>writer</th>\n      <td>45.0</td>\n      <td>36.311111</td>\n      <td>11.423306</td>\n      <td>18.0</td>\n      <td>26.00</td>\n      <td>36.0</td>\n      <td>48.00</td>\n      <td>60.0</td>\n    </tr>\n  </tbody>\n</table>\n</div>"
     },
     "execution_count": 52,
     "metadata": {},
     "output_type": "execute_result"
    }
   ],
   "source": [
    "users.groupby('occupation').age.describe()"
   ]
  },
  {
   "cell_type": "markdown",
   "metadata": {},
   "source": [
    "### Step 3. Print the mean, min and max values for occupation."
   ]
  },
  {
   "cell_type": "code",
   "execution_count": 53,
   "metadata": {
    "scrolled": true,
    "ExecuteTime": {
     "end_time": "2023-09-27T01:53:01.881793Z",
     "start_time": "2023-09-27T01:53:01.804281Z"
    }
   },
   "outputs": [
    {
     "name": "stderr",
     "output_type": "stream",
     "text": [
      "/var/folders/0m/hd5nyhdj19b3dcxl72fwby3c0000gn/T/ipykernel_15878/935683153.py:1: FutureWarning: ['gender', 'zip_code'] did not aggregate successfully. If any error is raised this will raise in a future version of pandas. Drop these columns/ops to avoid this warning.\n",
      "  users.groupby('occupation').agg(['mean', 'min', 'max'])\n"
     ]
    },
    {
     "data": {
      "text/plain": "                     age        \n                    mean min max\noccupation                      \nadministrator  38.746835  21  70\nartist         31.392857  19  48\ndoctor         43.571429  28  64\neducator       42.010526  23  63\nengineer       36.388060  22  70\nentertainment  29.222222  15  50\nexecutive      38.718750  22  69\nhealthcare     41.562500  22  62\nhomemaker      32.571429  20  50\nlawyer         36.750000  21  53\nlibrarian      40.000000  23  69\nmarketing      37.615385  24  55\nnone           26.555556  11  55\nother          34.523810  13  64\nprogrammer     33.121212  20  63\nretired        63.071429  51  73\nsalesman       35.666667  18  66\nscientist      35.548387  23  55\nstudent        22.081633   7  42\ntechnician     33.148148  21  55\nwriter         36.311111  18  60",
      "text/html": "<div>\n<style scoped>\n    .dataframe tbody tr th:only-of-type {\n        vertical-align: middle;\n    }\n\n    .dataframe tbody tr th {\n        vertical-align: top;\n    }\n\n    .dataframe thead tr th {\n        text-align: left;\n    }\n\n    .dataframe thead tr:last-of-type th {\n        text-align: right;\n    }\n</style>\n<table border=\"1\" class=\"dataframe\">\n  <thead>\n    <tr>\n      <th></th>\n      <th colspan=\"3\" halign=\"left\">age</th>\n    </tr>\n    <tr>\n      <th></th>\n      <th>mean</th>\n      <th>min</th>\n      <th>max</th>\n    </tr>\n    <tr>\n      <th>occupation</th>\n      <th></th>\n      <th></th>\n      <th></th>\n    </tr>\n  </thead>\n  <tbody>\n    <tr>\n      <th>administrator</th>\n      <td>38.746835</td>\n      <td>21</td>\n      <td>70</td>\n    </tr>\n    <tr>\n      <th>artist</th>\n      <td>31.392857</td>\n      <td>19</td>\n      <td>48</td>\n    </tr>\n    <tr>\n      <th>doctor</th>\n      <td>43.571429</td>\n      <td>28</td>\n      <td>64</td>\n    </tr>\n    <tr>\n      <th>educator</th>\n      <td>42.010526</td>\n      <td>23</td>\n      <td>63</td>\n    </tr>\n    <tr>\n      <th>engineer</th>\n      <td>36.388060</td>\n      <td>22</td>\n      <td>70</td>\n    </tr>\n    <tr>\n      <th>entertainment</th>\n      <td>29.222222</td>\n      <td>15</td>\n      <td>50</td>\n    </tr>\n    <tr>\n      <th>executive</th>\n      <td>38.718750</td>\n      <td>22</td>\n      <td>69</td>\n    </tr>\n    <tr>\n      <th>healthcare</th>\n      <td>41.562500</td>\n      <td>22</td>\n      <td>62</td>\n    </tr>\n    <tr>\n      <th>homemaker</th>\n      <td>32.571429</td>\n      <td>20</td>\n      <td>50</td>\n    </tr>\n    <tr>\n      <th>lawyer</th>\n      <td>36.750000</td>\n      <td>21</td>\n      <td>53</td>\n    </tr>\n    <tr>\n      <th>librarian</th>\n      <td>40.000000</td>\n      <td>23</td>\n      <td>69</td>\n    </tr>\n    <tr>\n      <th>marketing</th>\n      <td>37.615385</td>\n      <td>24</td>\n      <td>55</td>\n    </tr>\n    <tr>\n      <th>none</th>\n      <td>26.555556</td>\n      <td>11</td>\n      <td>55</td>\n    </tr>\n    <tr>\n      <th>other</th>\n      <td>34.523810</td>\n      <td>13</td>\n      <td>64</td>\n    </tr>\n    <tr>\n      <th>programmer</th>\n      <td>33.121212</td>\n      <td>20</td>\n      <td>63</td>\n    </tr>\n    <tr>\n      <th>retired</th>\n      <td>63.071429</td>\n      <td>51</td>\n      <td>73</td>\n    </tr>\n    <tr>\n      <th>salesman</th>\n      <td>35.666667</td>\n      <td>18</td>\n      <td>66</td>\n    </tr>\n    <tr>\n      <th>scientist</th>\n      <td>35.548387</td>\n      <td>23</td>\n      <td>55</td>\n    </tr>\n    <tr>\n      <th>student</th>\n      <td>22.081633</td>\n      <td>7</td>\n      <td>42</td>\n    </tr>\n    <tr>\n      <th>technician</th>\n      <td>33.148148</td>\n      <td>21</td>\n      <td>55</td>\n    </tr>\n    <tr>\n      <th>writer</th>\n      <td>36.311111</td>\n      <td>18</td>\n      <td>60</td>\n    </tr>\n  </tbody>\n</table>\n</div>"
     },
     "execution_count": 53,
     "metadata": {},
     "output_type": "execute_result"
    }
   ],
   "source": [
    "users.groupby('occupation').agg(['mean', 'min', 'max'])"
   ]
  },
  {
   "cell_type": "markdown",
   "metadata": {},
   "source": [
    "### Step 4. Discover the Male ratio per occupation and sort it from the most to the least"
   ]
  },
  {
   "cell_type": "code",
   "execution_count": 93,
   "metadata": {
    "ExecuteTime": {
     "end_time": "2023-09-28T01:00:15.032072Z",
     "start_time": "2023-09-28T01:00:15.003401Z"
    }
   },
   "outputs": [
    {
     "data": {
      "text/plain": "               gender\noccupation           \nadministrator      43\nartist             15\ndoctor              7\neducator           69\nengineer           65\nentertainment      16\nexecutive          29\nhealthcare          5\nhomemaker           1\nlawyer             10\nlibrarian          22\nmarketing          16\nnone                5\nother              69\nprogrammer         60\nretired            13\nsalesman            9\nscientist          28\nstudent           136\ntechnician         26\nwriter             26",
      "text/html": "<div>\n<style scoped>\n    .dataframe tbody tr th:only-of-type {\n        vertical-align: middle;\n    }\n\n    .dataframe tbody tr th {\n        vertical-align: top;\n    }\n\n    .dataframe thead th {\n        text-align: right;\n    }\n</style>\n<table border=\"1\" class=\"dataframe\">\n  <thead>\n    <tr style=\"text-align: right;\">\n      <th></th>\n      <th>gender</th>\n    </tr>\n    <tr>\n      <th>occupation</th>\n      <th></th>\n    </tr>\n  </thead>\n  <tbody>\n    <tr>\n      <th>administrator</th>\n      <td>43</td>\n    </tr>\n    <tr>\n      <th>artist</th>\n      <td>15</td>\n    </tr>\n    <tr>\n      <th>doctor</th>\n      <td>7</td>\n    </tr>\n    <tr>\n      <th>educator</th>\n      <td>69</td>\n    </tr>\n    <tr>\n      <th>engineer</th>\n      <td>65</td>\n    </tr>\n    <tr>\n      <th>entertainment</th>\n      <td>16</td>\n    </tr>\n    <tr>\n      <th>executive</th>\n      <td>29</td>\n    </tr>\n    <tr>\n      <th>healthcare</th>\n      <td>5</td>\n    </tr>\n    <tr>\n      <th>homemaker</th>\n      <td>1</td>\n    </tr>\n    <tr>\n      <th>lawyer</th>\n      <td>10</td>\n    </tr>\n    <tr>\n      <th>librarian</th>\n      <td>22</td>\n    </tr>\n    <tr>\n      <th>marketing</th>\n      <td>16</td>\n    </tr>\n    <tr>\n      <th>none</th>\n      <td>5</td>\n    </tr>\n    <tr>\n      <th>other</th>\n      <td>69</td>\n    </tr>\n    <tr>\n      <th>programmer</th>\n      <td>60</td>\n    </tr>\n    <tr>\n      <th>retired</th>\n      <td>13</td>\n    </tr>\n    <tr>\n      <th>salesman</th>\n      <td>9</td>\n    </tr>\n    <tr>\n      <th>scientist</th>\n      <td>28</td>\n    </tr>\n    <tr>\n      <th>student</th>\n      <td>136</td>\n    </tr>\n    <tr>\n      <th>technician</th>\n      <td>26</td>\n    </tr>\n    <tr>\n      <th>writer</th>\n      <td>26</td>\n    </tr>\n  </tbody>\n</table>\n</div>"
     },
     "execution_count": 93,
     "metadata": {},
     "output_type": "execute_result"
    }
   ],
   "source": [
    "male_occ = users[(users.gender == 'M')][['gender','occupation']].groupby('occupation').count()\n",
    "male_occ.sort_values(by = 'occupation')\n",
    "male_occ\n"
   ]
  },
  {
   "cell_type": "code",
   "execution_count": 95,
   "outputs": [
    {
     "data": {
      "text/plain": "               gender\noccupation           \nadministrator      79\nartist             28\ndoctor              7\neducator           95\nengineer           67\nentertainment      18\nexecutive          32\nhealthcare         16\nhomemaker           7\nlawyer             12\nlibrarian          51\nmarketing          26\nnone                9\nother             105\nprogrammer         66\nretired            14\nsalesman           12\nscientist          31\nstudent           196\ntechnician         27\nwriter             45",
      "text/html": "<div>\n<style scoped>\n    .dataframe tbody tr th:only-of-type {\n        vertical-align: middle;\n    }\n\n    .dataframe tbody tr th {\n        vertical-align: top;\n    }\n\n    .dataframe thead th {\n        text-align: right;\n    }\n</style>\n<table border=\"1\" class=\"dataframe\">\n  <thead>\n    <tr style=\"text-align: right;\">\n      <th></th>\n      <th>gender</th>\n    </tr>\n    <tr>\n      <th>occupation</th>\n      <th></th>\n    </tr>\n  </thead>\n  <tbody>\n    <tr>\n      <th>administrator</th>\n      <td>79</td>\n    </tr>\n    <tr>\n      <th>artist</th>\n      <td>28</td>\n    </tr>\n    <tr>\n      <th>doctor</th>\n      <td>7</td>\n    </tr>\n    <tr>\n      <th>educator</th>\n      <td>95</td>\n    </tr>\n    <tr>\n      <th>engineer</th>\n      <td>67</td>\n    </tr>\n    <tr>\n      <th>entertainment</th>\n      <td>18</td>\n    </tr>\n    <tr>\n      <th>executive</th>\n      <td>32</td>\n    </tr>\n    <tr>\n      <th>healthcare</th>\n      <td>16</td>\n    </tr>\n    <tr>\n      <th>homemaker</th>\n      <td>7</td>\n    </tr>\n    <tr>\n      <th>lawyer</th>\n      <td>12</td>\n    </tr>\n    <tr>\n      <th>librarian</th>\n      <td>51</td>\n    </tr>\n    <tr>\n      <th>marketing</th>\n      <td>26</td>\n    </tr>\n    <tr>\n      <th>none</th>\n      <td>9</td>\n    </tr>\n    <tr>\n      <th>other</th>\n      <td>105</td>\n    </tr>\n    <tr>\n      <th>programmer</th>\n      <td>66</td>\n    </tr>\n    <tr>\n      <th>retired</th>\n      <td>14</td>\n    </tr>\n    <tr>\n      <th>salesman</th>\n      <td>12</td>\n    </tr>\n    <tr>\n      <th>scientist</th>\n      <td>31</td>\n    </tr>\n    <tr>\n      <th>student</th>\n      <td>196</td>\n    </tr>\n    <tr>\n      <th>technician</th>\n      <td>27</td>\n    </tr>\n    <tr>\n      <th>writer</th>\n      <td>45</td>\n    </tr>\n  </tbody>\n</table>\n</div>"
     },
     "execution_count": 95,
     "metadata": {},
     "output_type": "execute_result"
    }
   ],
   "source": [
    "male_occ_amount = users[['gender','occupation']].groupby('occupation').count()\n",
    "male_occ_amount.sort_values(by = 'occupation')"
   ],
   "metadata": {
    "collapsed": false,
    "ExecuteTime": {
     "end_time": "2023-09-28T01:01:05.276012Z",
     "start_time": "2023-09-28T01:01:05.225171Z"
    }
   }
  },
  {
   "cell_type": "code",
   "execution_count": 101,
   "outputs": [
    {
     "data": {
      "text/plain": "               gender\noccupation           \nadministrator   54.43\nartist          53.57\ndoctor         100.00\neducator        72.63\nengineer        97.01\nentertainment   88.89\nexecutive       90.62\nhealthcare      31.25\nhomemaker       14.29\nlawyer          83.33\nlibrarian       43.14\nmarketing       61.54\nnone            55.56\nother           65.71\nprogrammer      90.91\nretired         92.86\nsalesman        75.00\nscientist       90.32\nstudent         69.39\ntechnician      96.30\nwriter          57.78",
      "text/html": "<div>\n<style scoped>\n    .dataframe tbody tr th:only-of-type {\n        vertical-align: middle;\n    }\n\n    .dataframe tbody tr th {\n        vertical-align: top;\n    }\n\n    .dataframe thead th {\n        text-align: right;\n    }\n</style>\n<table border=\"1\" class=\"dataframe\">\n  <thead>\n    <tr style=\"text-align: right;\">\n      <th></th>\n      <th>gender</th>\n    </tr>\n    <tr>\n      <th>occupation</th>\n      <th></th>\n    </tr>\n  </thead>\n  <tbody>\n    <tr>\n      <th>administrator</th>\n      <td>54.43</td>\n    </tr>\n    <tr>\n      <th>artist</th>\n      <td>53.57</td>\n    </tr>\n    <tr>\n      <th>doctor</th>\n      <td>100.00</td>\n    </tr>\n    <tr>\n      <th>educator</th>\n      <td>72.63</td>\n    </tr>\n    <tr>\n      <th>engineer</th>\n      <td>97.01</td>\n    </tr>\n    <tr>\n      <th>entertainment</th>\n      <td>88.89</td>\n    </tr>\n    <tr>\n      <th>executive</th>\n      <td>90.62</td>\n    </tr>\n    <tr>\n      <th>healthcare</th>\n      <td>31.25</td>\n    </tr>\n    <tr>\n      <th>homemaker</th>\n      <td>14.29</td>\n    </tr>\n    <tr>\n      <th>lawyer</th>\n      <td>83.33</td>\n    </tr>\n    <tr>\n      <th>librarian</th>\n      <td>43.14</td>\n    </tr>\n    <tr>\n      <th>marketing</th>\n      <td>61.54</td>\n    </tr>\n    <tr>\n      <th>none</th>\n      <td>55.56</td>\n    </tr>\n    <tr>\n      <th>other</th>\n      <td>65.71</td>\n    </tr>\n    <tr>\n      <th>programmer</th>\n      <td>90.91</td>\n    </tr>\n    <tr>\n      <th>retired</th>\n      <td>92.86</td>\n    </tr>\n    <tr>\n      <th>salesman</th>\n      <td>75.00</td>\n    </tr>\n    <tr>\n      <th>scientist</th>\n      <td>90.32</td>\n    </tr>\n    <tr>\n      <th>student</th>\n      <td>69.39</td>\n    </tr>\n    <tr>\n      <th>technician</th>\n      <td>96.30</td>\n    </tr>\n    <tr>\n      <th>writer</th>\n      <td>57.78</td>\n    </tr>\n  </tbody>\n</table>\n</div>"
     },
     "execution_count": 101,
     "metadata": {},
     "output_type": "execute_result"
    }
   ],
   "source": [
    "radio = round(male_occ / male_occ_amount *100, 2)\n",
    "radio"
   ],
   "metadata": {
    "collapsed": false,
    "ExecuteTime": {
     "end_time": "2023-09-28T01:02:56.298269Z",
     "start_time": "2023-09-28T01:02:56.276572Z"
    }
   }
  },
  {
   "cell_type": "markdown",
   "source": [
    "### Step 5. For each combination of occupation and gender, calculate the mean age"
   ],
   "metadata": {
    "collapsed": false
   }
  },
  {
   "cell_type": "code",
   "execution_count": 76,
   "outputs": [
    {
     "data": {
      "text/plain": "occupation     gender\nadministrator  F         40.638889\n               M         37.162791\nartist         F         30.307692\n               M         32.333333\ndoctor         M         43.571429\neducator       F         39.115385\n               M         43.101449\nengineer       F         29.500000\n               M         36.600000\nentertainment  F         31.000000\n               M         29.000000\nexecutive      F         44.000000\n               M         38.172414\nhealthcare     F         39.818182\n               M         45.400000\nhomemaker      F         34.166667\n               M         23.000000\nlawyer         F         39.500000\n               M         36.200000\nlibrarian      F         40.000000\n               M         40.000000\nmarketing      F         37.200000\n               M         37.875000\nnone           F         36.500000\n               M         18.600000\nother          F         35.472222\n               M         34.028986\nprogrammer     F         32.166667\n               M         33.216667\nretired        F         70.000000\n               M         62.538462\nsalesman       F         27.000000\n               M         38.555556\nscientist      F         28.333333\n               M         36.321429\nstudent        F         20.750000\n               M         22.669118\ntechnician     F         38.000000\n               M         32.961538\nwriter         F         37.631579\n               M         35.346154\nName: age, dtype: float64"
     },
     "execution_count": 76,
     "metadata": {},
     "output_type": "execute_result"
    }
   ],
   "source": [
    "users.groupby(['occupation', 'gender']).age.mean()"
   ],
   "metadata": {
    "collapsed": false,
    "ExecuteTime": {
     "end_time": "2023-09-28T00:54:12.511532Z",
     "start_time": "2023-09-28T00:54:12.484480Z"
    }
   }
  },
  {
   "cell_type": "markdown",
   "source": [
    "### Step 6. For each occupation present the percentage of women and men"
   ],
   "metadata": {
    "collapsed": false
   }
  },
  {
   "cell_type": "code",
   "execution_count": 103,
   "metadata": {
    "ExecuteTime": {
     "end_time": "2023-09-28T01:04:44.746512Z",
     "start_time": "2023-09-28T01:04:44.714861Z"
    }
   },
   "outputs": [
    {
     "data": {
      "text/plain": "                      gender\noccupation    gender        \nadministrator F           36\n              M           43\nartist        F           13\n              M           15\ndoctor        M            7\neducator      F           26\n              M           69\nengineer      F            2\n              M           65\nentertainment F            2\n              M           16\nexecutive     F            3\n              M           29\nhealthcare    F           11\n              M            5\nhomemaker     F            6\n              M            1\nlawyer        F            2\n              M           10\nlibrarian     F           29\n              M           22\nmarketing     F           10\n              M           16\nnone          F            4\n              M            5\nother         F           36\n              M           69\nprogrammer    F            6\n              M           60\nretired       F            1\n              M           13\nsalesman      F            3\n              M            9\nscientist     F            3\n              M           28\nstudent       F           60\n              M          136\ntechnician    F            1\n              M           26\nwriter        F           19\n              M           26",
      "text/html": "<div>\n<style scoped>\n    .dataframe tbody tr th:only-of-type {\n        vertical-align: middle;\n    }\n\n    .dataframe tbody tr th {\n        vertical-align: top;\n    }\n\n    .dataframe thead th {\n        text-align: right;\n    }\n</style>\n<table border=\"1\" class=\"dataframe\">\n  <thead>\n    <tr style=\"text-align: right;\">\n      <th></th>\n      <th></th>\n      <th>gender</th>\n    </tr>\n    <tr>\n      <th>occupation</th>\n      <th>gender</th>\n      <th></th>\n    </tr>\n  </thead>\n  <tbody>\n    <tr>\n      <th rowspan=\"2\" valign=\"top\">administrator</th>\n      <th>F</th>\n      <td>36</td>\n    </tr>\n    <tr>\n      <th>M</th>\n      <td>43</td>\n    </tr>\n    <tr>\n      <th rowspan=\"2\" valign=\"top\">artist</th>\n      <th>F</th>\n      <td>13</td>\n    </tr>\n    <tr>\n      <th>M</th>\n      <td>15</td>\n    </tr>\n    <tr>\n      <th>doctor</th>\n      <th>M</th>\n      <td>7</td>\n    </tr>\n    <tr>\n      <th rowspan=\"2\" valign=\"top\">educator</th>\n      <th>F</th>\n      <td>26</td>\n    </tr>\n    <tr>\n      <th>M</th>\n      <td>69</td>\n    </tr>\n    <tr>\n      <th rowspan=\"2\" valign=\"top\">engineer</th>\n      <th>F</th>\n      <td>2</td>\n    </tr>\n    <tr>\n      <th>M</th>\n      <td>65</td>\n    </tr>\n    <tr>\n      <th rowspan=\"2\" valign=\"top\">entertainment</th>\n      <th>F</th>\n      <td>2</td>\n    </tr>\n    <tr>\n      <th>M</th>\n      <td>16</td>\n    </tr>\n    <tr>\n      <th rowspan=\"2\" valign=\"top\">executive</th>\n      <th>F</th>\n      <td>3</td>\n    </tr>\n    <tr>\n      <th>M</th>\n      <td>29</td>\n    </tr>\n    <tr>\n      <th rowspan=\"2\" valign=\"top\">healthcare</th>\n      <th>F</th>\n      <td>11</td>\n    </tr>\n    <tr>\n      <th>M</th>\n      <td>5</td>\n    </tr>\n    <tr>\n      <th rowspan=\"2\" valign=\"top\">homemaker</th>\n      <th>F</th>\n      <td>6</td>\n    </tr>\n    <tr>\n      <th>M</th>\n      <td>1</td>\n    </tr>\n    <tr>\n      <th rowspan=\"2\" valign=\"top\">lawyer</th>\n      <th>F</th>\n      <td>2</td>\n    </tr>\n    <tr>\n      <th>M</th>\n      <td>10</td>\n    </tr>\n    <tr>\n      <th rowspan=\"2\" valign=\"top\">librarian</th>\n      <th>F</th>\n      <td>29</td>\n    </tr>\n    <tr>\n      <th>M</th>\n      <td>22</td>\n    </tr>\n    <tr>\n      <th rowspan=\"2\" valign=\"top\">marketing</th>\n      <th>F</th>\n      <td>10</td>\n    </tr>\n    <tr>\n      <th>M</th>\n      <td>16</td>\n    </tr>\n    <tr>\n      <th rowspan=\"2\" valign=\"top\">none</th>\n      <th>F</th>\n      <td>4</td>\n    </tr>\n    <tr>\n      <th>M</th>\n      <td>5</td>\n    </tr>\n    <tr>\n      <th rowspan=\"2\" valign=\"top\">other</th>\n      <th>F</th>\n      <td>36</td>\n    </tr>\n    <tr>\n      <th>M</th>\n      <td>69</td>\n    </tr>\n    <tr>\n      <th rowspan=\"2\" valign=\"top\">programmer</th>\n      <th>F</th>\n      <td>6</td>\n    </tr>\n    <tr>\n      <th>M</th>\n      <td>60</td>\n    </tr>\n    <tr>\n      <th rowspan=\"2\" valign=\"top\">retired</th>\n      <th>F</th>\n      <td>1</td>\n    </tr>\n    <tr>\n      <th>M</th>\n      <td>13</td>\n    </tr>\n    <tr>\n      <th rowspan=\"2\" valign=\"top\">salesman</th>\n      <th>F</th>\n      <td>3</td>\n    </tr>\n    <tr>\n      <th>M</th>\n      <td>9</td>\n    </tr>\n    <tr>\n      <th rowspan=\"2\" valign=\"top\">scientist</th>\n      <th>F</th>\n      <td>3</td>\n    </tr>\n    <tr>\n      <th>M</th>\n      <td>28</td>\n    </tr>\n    <tr>\n      <th rowspan=\"2\" valign=\"top\">student</th>\n      <th>F</th>\n      <td>60</td>\n    </tr>\n    <tr>\n      <th>M</th>\n      <td>136</td>\n    </tr>\n    <tr>\n      <th rowspan=\"2\" valign=\"top\">technician</th>\n      <th>F</th>\n      <td>1</td>\n    </tr>\n    <tr>\n      <th>M</th>\n      <td>26</td>\n    </tr>\n    <tr>\n      <th rowspan=\"2\" valign=\"top\">writer</th>\n      <th>F</th>\n      <td>19</td>\n    </tr>\n    <tr>\n      <th>M</th>\n      <td>26</td>\n    </tr>\n  </tbody>\n</table>\n</div>"
     },
     "execution_count": 103,
     "metadata": {},
     "output_type": "execute_result"
    }
   ],
   "source": [
    "# create a data frame and apply count to gender\n",
    "gender_ocup = users.groupby(['occupation', 'gender']).agg({'gender': 'count'})\n",
    "gender_ocup"
   ]
  },
  {
   "cell_type": "code",
   "execution_count": 104,
   "outputs": [
    {
     "data": {
      "text/plain": "occupation     gender\nadministrator  F          45.569620\n               M          54.430380\nartist         F          46.428571\n               M          53.571429\ndoctor         M         100.000000\neducator       F          27.368421\n               M          72.631579\nengineer       F           2.985075\n               M          97.014925\nentertainment  F          11.111111\n               M          88.888889\nexecutive      F           9.375000\n               M          90.625000\nhealthcare     F          68.750000\n               M          31.250000\nhomemaker      F          85.714286\n               M          14.285714\nlawyer         F          16.666667\n               M          83.333333\nlibrarian      F          56.862745\n               M          43.137255\nmarketing      F          38.461538\n               M          61.538462\nnone           F          44.444444\n               M          55.555556\nother          F          34.285714\n               M          65.714286\nprogrammer     F           9.090909\n               M          90.909091\nretired        F           7.142857\n               M          92.857143\nsalesman       F          25.000000\n               M          75.000000\nscientist      F           9.677419\n               M          90.322581\nstudent        F          30.612245\n               M          69.387755\ntechnician     F           3.703704\n               M          96.296296\nwriter         F          42.222222\n               M          57.777778\nName: gender, dtype: float64"
     },
     "execution_count": 104,
     "metadata": {},
     "output_type": "execute_result"
    }
   ],
   "source": [
    "\n",
    "# create a DataFrame and apply count for each occupation\n",
    "occup_count = users.groupby(['occupation']).agg('count')\n",
    "\n",
    "# divide the gender_ocup per the occup_count and multiply per 100\n",
    "occup_gender = gender_ocup.div(occup_count, level = \"occupation\") * 100\n",
    "\n",
    "# present all rows from the 'gender column'\n",
    "occup_gender.loc[: , 'gender']"
   ],
   "metadata": {
    "collapsed": false,
    "ExecuteTime": {
     "end_time": "2023-09-28T01:05:08.233154Z",
     "start_time": "2023-09-28T01:05:08.206751Z"
    }
   }
  },
  {
   "cell_type": "markdown",
   "metadata": {},
   "source": [
    "## 4. Apply"
   ]
  },
  {
   "cell_type": "markdown",
   "source": [
    "### Step 1. Create a lambda function that will capitalize strings."
   ],
   "metadata": {
    "collapsed": false
   }
  },
  {
   "cell_type": "code",
   "execution_count": 108,
   "outputs": [
    {
     "data": {
      "text/plain": "user_id\n1         Technician\n2              Other\n3             Writer\n4         Technician\n5              Other\n           ...      \n939          Student\n940    Administrator\n941          Student\n942        Librarian\n943          Student\nName: occupation, Length: 943, dtype: object"
     },
     "execution_count": 108,
     "metadata": {},
     "output_type": "execute_result"
    }
   ],
   "source": [
    "users.occupation.apply(lambda x: x.capitalize())"
   ],
   "metadata": {
    "collapsed": false,
    "ExecuteTime": {
     "end_time": "2023-09-28T01:11:38.104185Z",
     "start_time": "2023-09-28T01:11:38.094328Z"
    }
   }
  },
  {
   "cell_type": "markdown",
   "source": [
    "### Step 2. Create a function called Mature that returns a boolean value to a new column called is_adults (Consider Mature as older than 17 years old)"
   ],
   "metadata": {
    "collapsed": false
   }
  },
  {
   "cell_type": "code",
   "execution_count": 109,
   "outputs": [],
   "source": [
    "def mature(x):\n",
    "    if x >18:\n",
    "        return True\n",
    "    else:\n",
    "        return False\n"
   ],
   "metadata": {
    "collapsed": false,
    "ExecuteTime": {
     "end_time": "2023-09-28T01:28:53.264520Z",
     "start_time": "2023-09-28T01:28:52.974057Z"
    }
   }
  },
  {
   "cell_type": "code",
   "execution_count": 110,
   "outputs": [
    {
     "data": {
      "text/plain": "         age gender  occupation zip_code is_adults\nuser_id                                           \n1         24      M  technician    85711      True\n2         53      F       other    94043      True\n3         23      M      writer    32067      True\n4         24      M  technician    43537      True\n5         33      F       other    15213      True",
      "text/html": "<div>\n<style scoped>\n    .dataframe tbody tr th:only-of-type {\n        vertical-align: middle;\n    }\n\n    .dataframe tbody tr th {\n        vertical-align: top;\n    }\n\n    .dataframe thead th {\n        text-align: right;\n    }\n</style>\n<table border=\"1\" class=\"dataframe\">\n  <thead>\n    <tr style=\"text-align: right;\">\n      <th></th>\n      <th>age</th>\n      <th>gender</th>\n      <th>occupation</th>\n      <th>zip_code</th>\n      <th>is_adults</th>\n    </tr>\n    <tr>\n      <th>user_id</th>\n      <th></th>\n      <th></th>\n      <th></th>\n      <th></th>\n      <th></th>\n    </tr>\n  </thead>\n  <tbody>\n    <tr>\n      <th>1</th>\n      <td>24</td>\n      <td>M</td>\n      <td>technician</td>\n      <td>85711</td>\n      <td>True</td>\n    </tr>\n    <tr>\n      <th>2</th>\n      <td>53</td>\n      <td>F</td>\n      <td>other</td>\n      <td>94043</td>\n      <td>True</td>\n    </tr>\n    <tr>\n      <th>3</th>\n      <td>23</td>\n      <td>M</td>\n      <td>writer</td>\n      <td>32067</td>\n      <td>True</td>\n    </tr>\n    <tr>\n      <th>4</th>\n      <td>24</td>\n      <td>M</td>\n      <td>technician</td>\n      <td>43537</td>\n      <td>True</td>\n    </tr>\n    <tr>\n      <th>5</th>\n      <td>33</td>\n      <td>F</td>\n      <td>other</td>\n      <td>15213</td>\n      <td>True</td>\n    </tr>\n  </tbody>\n</table>\n</div>"
     },
     "execution_count": 110,
     "metadata": {},
     "output_type": "execute_result"
    }
   ],
   "source": [
    "users['is_adults'] = users['age'].apply(mature)\n",
    "users.head()\n"
   ],
   "metadata": {
    "collapsed": false,
    "ExecuteTime": {
     "end_time": "2023-09-28T01:29:19.339931Z",
     "start_time": "2023-09-28T01:29:19.200785Z"
    }
   }
  },
  {
   "cell_type": "markdown",
   "source": [
    "### Step 3. Multiply every number of the dataset by 10."
   ],
   "metadata": {
    "collapsed": false
   }
  },
  {
   "cell_type": "code",
   "execution_count": 118,
   "outputs": [],
   "source": [
    "def times10(x):\n",
    "    if x is int:\n",
    "        return x*10\n",
    "    else: \n",
    "        return x"
   ],
   "metadata": {
    "collapsed": false,
    "ExecuteTime": {
     "end_time": "2023-09-28T01:32:52.744220Z",
     "start_time": "2023-09-28T01:32:52.723872Z"
    }
   }
  },
  {
   "cell_type": "code",
   "execution_count": 120,
   "outputs": [
    {
     "data": {
      "text/plain": "         age gender     occupation zip_code is_adults\nuser_id                                              \n1         24      M     technician    85711      True\n2         53      F          other    94043      True\n3         23      M         writer    32067      True\n4         24      M     technician    43537      True\n5         33      F          other    15213      True\n6         42      M      executive    98101      True\n7         57      M  administrator    91344      True\n8         36      M  administrator    05201      True\n9         29      M        student    01002      True\n10        53      M         lawyer    90703      True",
      "text/html": "<div>\n<style scoped>\n    .dataframe tbody tr th:only-of-type {\n        vertical-align: middle;\n    }\n\n    .dataframe tbody tr th {\n        vertical-align: top;\n    }\n\n    .dataframe thead th {\n        text-align: right;\n    }\n</style>\n<table border=\"1\" class=\"dataframe\">\n  <thead>\n    <tr style=\"text-align: right;\">\n      <th></th>\n      <th>age</th>\n      <th>gender</th>\n      <th>occupation</th>\n      <th>zip_code</th>\n      <th>is_adults</th>\n    </tr>\n    <tr>\n      <th>user_id</th>\n      <th></th>\n      <th></th>\n      <th></th>\n      <th></th>\n      <th></th>\n    </tr>\n  </thead>\n  <tbody>\n    <tr>\n      <th>1</th>\n      <td>24</td>\n      <td>M</td>\n      <td>technician</td>\n      <td>85711</td>\n      <td>True</td>\n    </tr>\n    <tr>\n      <th>2</th>\n      <td>53</td>\n      <td>F</td>\n      <td>other</td>\n      <td>94043</td>\n      <td>True</td>\n    </tr>\n    <tr>\n      <th>3</th>\n      <td>23</td>\n      <td>M</td>\n      <td>writer</td>\n      <td>32067</td>\n      <td>True</td>\n    </tr>\n    <tr>\n      <th>4</th>\n      <td>24</td>\n      <td>M</td>\n      <td>technician</td>\n      <td>43537</td>\n      <td>True</td>\n    </tr>\n    <tr>\n      <th>5</th>\n      <td>33</td>\n      <td>F</td>\n      <td>other</td>\n      <td>15213</td>\n      <td>True</td>\n    </tr>\n    <tr>\n      <th>6</th>\n      <td>42</td>\n      <td>M</td>\n      <td>executive</td>\n      <td>98101</td>\n      <td>True</td>\n    </tr>\n    <tr>\n      <th>7</th>\n      <td>57</td>\n      <td>M</td>\n      <td>administrator</td>\n      <td>91344</td>\n      <td>True</td>\n    </tr>\n    <tr>\n      <th>8</th>\n      <td>36</td>\n      <td>M</td>\n      <td>administrator</td>\n      <td>05201</td>\n      <td>True</td>\n    </tr>\n    <tr>\n      <th>9</th>\n      <td>29</td>\n      <td>M</td>\n      <td>student</td>\n      <td>01002</td>\n      <td>True</td>\n    </tr>\n    <tr>\n      <th>10</th>\n      <td>53</td>\n      <td>M</td>\n      <td>lawyer</td>\n      <td>90703</td>\n      <td>True</td>\n    </tr>\n  </tbody>\n</table>\n</div>"
     },
     "execution_count": 120,
     "metadata": {},
     "output_type": "execute_result"
    }
   ],
   "source": [
    "new_table = users.applymap(times10).head(10)\n",
    "new_table"
   ],
   "metadata": {
    "collapsed": false,
    "ExecuteTime": {
     "end_time": "2023-09-28T01:33:21.687467Z",
     "start_time": "2023-09-28T01:33:21.648454Z"
    }
   }
  },
  {
   "cell_type": "markdown",
   "source": [
    "Introduction to Pandas **apply**, **applymap** and **map**:\n",
    "* apply() is used to apply a function along an axis of the DataFrame or on values of Series.\n",
    "* applymap() is used to apply a function to a DataFrame elementwise.\n",
    "* map() is used to substitute each value in a Series with another value."
   ],
   "metadata": {
    "collapsed": false
   }
  },
  {
   "cell_type": "markdown",
   "source": [
    "5. Merge"
   ],
   "metadata": {
    "collapsed": false
   }
  },
  {
   "cell_type": "markdown",
   "source": [
    "6. Stats\n",
    "\n",
    "1). Normal statistical info\n",
    ".head(10)\n",
    "del table['col']\n",
    "table['col'].value_counts()\n",
    "table.groupby(\"Name\").sum()\n",
    "table.sort_values(by = 'col', ascending = False/True)\n",
    "table[table.col == table.col.median()]\n",
    "table.col.std()\n",
    "\n",
    "table.isnull().sum()\n",
    "data.notnull().sum()\n",
    "\n",
    "\n",
    "\n",
    "2). Time-series\n",
    "\n"
   ],
   "metadata": {
    "collapsed": false
   }
  },
  {
   "cell_type": "markdown",
   "source": [
    "7. Time-series"
   ],
   "metadata": {
    "collapsed": false
   }
  }
 ],
 "metadata": {
  "anaconda-cloud": {},
  "kernelspec": {
   "display_name": "Python 3",
   "language": "python",
   "name": "python3"
  },
  "language_info": {
   "codemirror_mode": {
    "name": "ipython",
    "version": 3
   },
   "file_extension": ".py",
   "mimetype": "text/x-python",
   "name": "python",
   "nbconvert_exporter": "python",
   "pygments_lexer": "ipython3",
   "version": "3.7.3"
  }
 },
 "nbformat": 4,
 "nbformat_minor": 1
}
