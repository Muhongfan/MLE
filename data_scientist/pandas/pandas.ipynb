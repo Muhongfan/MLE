{
 "cells": [
  {
   "cell_type": "code",
   "execution_count": null,
   "outputs": [],
   "source": [],
   "metadata": {
    "collapsed": false
   },
   "id": "b86a54a51402e5ca"
  },
  {
   "cell_type": "markdown",
   "source": [
    "1. Joining and merging"
   ],
   "metadata": {
    "collapsed": false
   },
   "id": "3d312e65306961ea"
  },
  {
   "cell_type": "markdown",
   "source": [
    "Test Data:\n",
    "\n",
    "student_data1:\n",
    "  student_id              name  marks\n",
    "0         S1  Danniella Fenton    200\n",
    "1         S2      Ryder Storey    210\n",
    "2         S3      Bryce Jensen    190\n",
    "3         S4         Ed Bernal    222\n",
    "4         S5       Kwame Morin    199\n",
    "student_data2:\n",
    "  student_id              name  marks\n",
    "0         S4  Scarlette Fisher    201\n",
    "1         S5  Carla Williamson    200\n",
    "2         S6       Dante Morse    198\n",
    "3         S7    Kaiser William    219\n",
    "4         S8   Madeeha Preston    201"
   ],
   "metadata": {
    "collapsed": false
   },
   "id": "a2d97159d5e14007"
  },
  {
   "cell_type": "code",
   "execution_count": 1,
   "outputs": [],
   "source": [
    "import pandas as pd\n",
    "\n",
    "student_data1 = pd.DataFrame({\n",
    "        'student_id': ['S1', 'S2', 'S3', 'S4', 'S5'],\n",
    "         'name': ['Danniella Fenton', 'Ryder Storey', 'Bryce Jensen', 'Ed Bernal', 'Kwame Morin'], \n",
    "        'marks': [200, 210, 190, 222, 199]})\n",
    "\n",
    "student_data2 = pd.DataFrame({\n",
    "        'student_id': ['S4', 'S5', 'S6', 'S7', 'S8'],\n",
    "        'name': ['Scarlette Fisher', 'Carla Williamson', 'Dante Morse', 'Kaiser William', 'Madeeha Preston'], \n",
    "        'marks': [201, 200, 198, 219, 201]})\n",
    "\n"
   ],
   "metadata": {
    "collapsed": false,
    "ExecuteTime": {
     "end_time": "2023-09-22T16:07:39.197104Z",
     "start_time": "2023-09-22T16:07:38.427690Z"
    }
   },
   "id": "e472d65a26594d7d"
  },
  {
   "cell_type": "markdown",
   "source": [
    "### Q1: Join the two given dataframes along rows and assign all data."
   ],
   "metadata": {
    "collapsed": false
   },
   "id": "fcc8dc2978d3b64"
  },
  {
   "cell_type": "code",
   "execution_count": 8,
   "outputs": [
    {
     "data": {
      "text/plain": "  student_id              name  marks\n0         S1  Danniella Fenton    200\n1         S2      Ryder Storey    210\n2         S3      Bryce Jensen    190\n3         S4         Ed Bernal    222\n4         S5       Kwame Morin    199\n0         S4  Scarlette Fisher    201\n1         S5  Carla Williamson    200\n2         S6       Dante Morse    198\n3         S7    Kaiser William    219\n4         S8   Madeeha Preston    201",
      "text/html": "<div>\n<style scoped>\n    .dataframe tbody tr th:only-of-type {\n        vertical-align: middle;\n    }\n\n    .dataframe tbody tr th {\n        vertical-align: top;\n    }\n\n    .dataframe thead th {\n        text-align: right;\n    }\n</style>\n<table border=\"1\" class=\"dataframe\">\n  <thead>\n    <tr style=\"text-align: right;\">\n      <th></th>\n      <th>student_id</th>\n      <th>name</th>\n      <th>marks</th>\n    </tr>\n  </thead>\n  <tbody>\n    <tr>\n      <th>0</th>\n      <td>S1</td>\n      <td>Danniella Fenton</td>\n      <td>200</td>\n    </tr>\n    <tr>\n      <th>1</th>\n      <td>S2</td>\n      <td>Ryder Storey</td>\n      <td>210</td>\n    </tr>\n    <tr>\n      <th>2</th>\n      <td>S3</td>\n      <td>Bryce Jensen</td>\n      <td>190</td>\n    </tr>\n    <tr>\n      <th>3</th>\n      <td>S4</td>\n      <td>Ed Bernal</td>\n      <td>222</td>\n    </tr>\n    <tr>\n      <th>4</th>\n      <td>S5</td>\n      <td>Kwame Morin</td>\n      <td>199</td>\n    </tr>\n    <tr>\n      <th>0</th>\n      <td>S4</td>\n      <td>Scarlette Fisher</td>\n      <td>201</td>\n    </tr>\n    <tr>\n      <th>1</th>\n      <td>S5</td>\n      <td>Carla Williamson</td>\n      <td>200</td>\n    </tr>\n    <tr>\n      <th>2</th>\n      <td>S6</td>\n      <td>Dante Morse</td>\n      <td>198</td>\n    </tr>\n    <tr>\n      <th>3</th>\n      <td>S7</td>\n      <td>Kaiser William</td>\n      <td>219</td>\n    </tr>\n    <tr>\n      <th>4</th>\n      <td>S8</td>\n      <td>Madeeha Preston</td>\n      <td>201</td>\n    </tr>\n  </tbody>\n</table>\n</div>"
     },
     "execution_count": 8,
     "metadata": {},
     "output_type": "execute_result"
    }
   ],
   "source": [
    "q1 = pd.concat([student_data1, student_data2])\n",
    "q1"
   ],
   "metadata": {
    "collapsed": false,
    "ExecuteTime": {
     "end_time": "2023-09-22T16:18:55.354576Z",
     "start_time": "2023-09-22T16:18:55.161541Z"
    }
   },
   "id": "5d3651615730dd9d"
  },
  {
   "cell_type": "markdown",
   "source": [
    "### Q2: Join the two given dataframes along columns and assign all data.\n"
   ],
   "metadata": {
    "collapsed": false
   },
   "id": "9ca25dbbbacbb76c"
  },
  {
   "cell_type": "code",
   "execution_count": 9,
   "outputs": [
    {
     "data": {
      "text/plain": "  student_id              name  marks student_id              name  marks\n0         S1  Danniella Fenton    200         S4  Scarlette Fisher    201\n1         S2      Ryder Storey    210         S5  Carla Williamson    200\n2         S3      Bryce Jensen    190         S6       Dante Morse    198\n3         S4         Ed Bernal    222         S7    Kaiser William    219\n4         S5       Kwame Morin    199         S8   Madeeha Preston    201",
      "text/html": "<div>\n<style scoped>\n    .dataframe tbody tr th:only-of-type {\n        vertical-align: middle;\n    }\n\n    .dataframe tbody tr th {\n        vertical-align: top;\n    }\n\n    .dataframe thead th {\n        text-align: right;\n    }\n</style>\n<table border=\"1\" class=\"dataframe\">\n  <thead>\n    <tr style=\"text-align: right;\">\n      <th></th>\n      <th>student_id</th>\n      <th>name</th>\n      <th>marks</th>\n      <th>student_id</th>\n      <th>name</th>\n      <th>marks</th>\n    </tr>\n  </thead>\n  <tbody>\n    <tr>\n      <th>0</th>\n      <td>S1</td>\n      <td>Danniella Fenton</td>\n      <td>200</td>\n      <td>S4</td>\n      <td>Scarlette Fisher</td>\n      <td>201</td>\n    </tr>\n    <tr>\n      <th>1</th>\n      <td>S2</td>\n      <td>Ryder Storey</td>\n      <td>210</td>\n      <td>S5</td>\n      <td>Carla Williamson</td>\n      <td>200</td>\n    </tr>\n    <tr>\n      <th>2</th>\n      <td>S3</td>\n      <td>Bryce Jensen</td>\n      <td>190</td>\n      <td>S6</td>\n      <td>Dante Morse</td>\n      <td>198</td>\n    </tr>\n    <tr>\n      <th>3</th>\n      <td>S4</td>\n      <td>Ed Bernal</td>\n      <td>222</td>\n      <td>S7</td>\n      <td>Kaiser William</td>\n      <td>219</td>\n    </tr>\n    <tr>\n      <th>4</th>\n      <td>S5</td>\n      <td>Kwame Morin</td>\n      <td>199</td>\n      <td>S8</td>\n      <td>Madeeha Preston</td>\n      <td>201</td>\n    </tr>\n  </tbody>\n</table>\n</div>"
     },
     "execution_count": 9,
     "metadata": {},
     "output_type": "execute_result"
    }
   ],
   "source": [
    "q2 = pd.concat([student_data1, student_data2], axis = 1)\n",
    "q2"
   ],
   "metadata": {
    "collapsed": false,
    "ExecuteTime": {
     "end_time": "2023-09-22T16:19:04.904285Z",
     "start_time": "2023-09-22T16:19:04.829116Z"
    }
   },
   "id": "7ae2ca4295eba046"
  },
  {
   "cell_type": "markdown",
   "source": [
    "### Q3: append rows to an STUDENT_1 and display the combined data\n",
    "New Row(s)\n",
    "student_id                  S6\n",
    "name          Scarlette Fisher\n",
    "marks                      205\n",
    "dtype: object"
   ],
   "metadata": {
    "collapsed": false
   },
   "id": "dd435b3ba30217b"
  },
  {
   "cell_type": "code",
   "execution_count": 6,
   "outputs": [
    {
     "name": "stderr",
     "output_type": "stream",
     "text": [
      "/var/folders/0m/hd5nyhdj19b3dcxl72fwby3c0000gn/T/ipykernel_16228/3389376688.py:3: FutureWarning: The frame.append method is deprecated and will be removed from pandas in a future version. Use pandas.concat instead.\n",
      "  q3 = student_data1.append(new, ignore_index = True)\n"
     ]
    },
    {
     "data": {
      "text/plain": "  student_id              name  marks\n0         S1  Danniella Fenton    200\n1         S2      Ryder Storey    210\n2         S3      Bryce Jensen    190\n3         S4         Ed Bernal    222\n4         S5       Kwame Morin    199\n5         S6  Scarlette Fisher    205",
      "text/html": "<div>\n<style scoped>\n    .dataframe tbody tr th:only-of-type {\n        vertical-align: middle;\n    }\n\n    .dataframe tbody tr th {\n        vertical-align: top;\n    }\n\n    .dataframe thead th {\n        text-align: right;\n    }\n</style>\n<table border=\"1\" class=\"dataframe\">\n  <thead>\n    <tr style=\"text-align: right;\">\n      <th></th>\n      <th>student_id</th>\n      <th>name</th>\n      <th>marks</th>\n    </tr>\n  </thead>\n  <tbody>\n    <tr>\n      <th>0</th>\n      <td>S1</td>\n      <td>Danniella Fenton</td>\n      <td>200</td>\n    </tr>\n    <tr>\n      <th>1</th>\n      <td>S2</td>\n      <td>Ryder Storey</td>\n      <td>210</td>\n    </tr>\n    <tr>\n      <th>2</th>\n      <td>S3</td>\n      <td>Bryce Jensen</td>\n      <td>190</td>\n    </tr>\n    <tr>\n      <th>3</th>\n      <td>S4</td>\n      <td>Ed Bernal</td>\n      <td>222</td>\n    </tr>\n    <tr>\n      <th>4</th>\n      <td>S5</td>\n      <td>Kwame Morin</td>\n      <td>199</td>\n    </tr>\n    <tr>\n      <th>5</th>\n      <td>S6</td>\n      <td>Scarlette Fisher</td>\n      <td>205</td>\n    </tr>\n  </tbody>\n</table>\n</div>"
     },
     "execution_count": 6,
     "metadata": {},
     "output_type": "execute_result"
    }
   ],
   "source": [
    "new = pd.Series(['S6', 'Scarlette Fisher', 205], index = ['student_id', 'name', 'marks'])\n",
    "q3 = student_data1.append(new, ignore_index = True)\n",
    "q3"
   ],
   "metadata": {
    "collapsed": false,
    "ExecuteTime": {
     "end_time": "2023-09-22T16:12:15.555473Z",
     "start_time": "2023-09-22T16:12:15.538940Z"
    }
   },
   "id": "fb34b51f3f3eb887"
  },
  {
   "cell_type": "markdown",
   "source": [
    "### Q4: append a list of dictioneries or series to a existing DataFrame and display the combined data\n",
    "Dictionary:\n",
    "student_id                  S6\n",
    "name          Scarlette Fisher\n",
    "marks                      205\n",
    "student_id                  S7\n",
    "name              Bryce Jensen\n",
    "marks                      207\n",
    "dtype: object"
   ],
   "metadata": {
    "collapsed": false
   },
   "id": "7915de5e176457a5"
  },
  {
   "cell_type": "code",
   "execution_count": 7,
   "outputs": [
    {
     "name": "stderr",
     "output_type": "stream",
     "text": [
      "/var/folders/0m/hd5nyhdj19b3dcxl72fwby3c0000gn/T/ipykernel_16228/109534805.py:2: FutureWarning: The frame.append method is deprecated and will be removed from pandas in a future version. Use pandas.concat instead.\n",
      "  q4 = student_data1.append(dicts, ignore_index= True, sort = False)\n"
     ]
    },
    {
     "data": {
      "text/plain": "  student_id              name  marks\n0         S1  Danniella Fenton    200\n1         S2      Ryder Storey    210\n2         S3      Bryce Jensen    190\n3         S4         Ed Bernal    222\n4         S5       Kwame Morin    199\n5         S6  Scarlette Fisher    205\n6         S7      Bryce Jensen    207",
      "text/html": "<div>\n<style scoped>\n    .dataframe tbody tr th:only-of-type {\n        vertical-align: middle;\n    }\n\n    .dataframe tbody tr th {\n        vertical-align: top;\n    }\n\n    .dataframe thead th {\n        text-align: right;\n    }\n</style>\n<table border=\"1\" class=\"dataframe\">\n  <thead>\n    <tr style=\"text-align: right;\">\n      <th></th>\n      <th>student_id</th>\n      <th>name</th>\n      <th>marks</th>\n    </tr>\n  </thead>\n  <tbody>\n    <tr>\n      <th>0</th>\n      <td>S1</td>\n      <td>Danniella Fenton</td>\n      <td>200</td>\n    </tr>\n    <tr>\n      <th>1</th>\n      <td>S2</td>\n      <td>Ryder Storey</td>\n      <td>210</td>\n    </tr>\n    <tr>\n      <th>2</th>\n      <td>S3</td>\n      <td>Bryce Jensen</td>\n      <td>190</td>\n    </tr>\n    <tr>\n      <th>3</th>\n      <td>S4</td>\n      <td>Ed Bernal</td>\n      <td>222</td>\n    </tr>\n    <tr>\n      <th>4</th>\n      <td>S5</td>\n      <td>Kwame Morin</td>\n      <td>199</td>\n    </tr>\n    <tr>\n      <th>5</th>\n      <td>S6</td>\n      <td>Scarlette Fisher</td>\n      <td>205</td>\n    </tr>\n    <tr>\n      <th>6</th>\n      <td>S7</td>\n      <td>Bryce Jensen</td>\n      <td>207</td>\n    </tr>\n  </tbody>\n</table>\n</div>"
     },
     "execution_count": 7,
     "metadata": {},
     "output_type": "execute_result"
    }
   ],
   "source": [
    "dicts = [{'student_id': 'S6', 'name': 'Scarlette Fisher', 'marks': 205}, {'student_id':'S7', 'name': 'Bryce Jensen', 'marks':207}]\n",
    "q4 = student_data1.append(dicts, ignore_index= True, sort = False)\n",
    "q4"
   ],
   "metadata": {
    "collapsed": false,
    "ExecuteTime": {
     "end_time": "2023-09-22T16:17:07.157182Z",
     "start_time": "2023-09-22T16:17:07.093397Z"
    }
   },
   "id": "62cbf728aadcedbd"
  },
  {
   "cell_type": "markdown",
   "source": [
    "### Q5: join the two given dataframes along rows and merge with another dataframe along the common column id\n",
    "exam_data:\n",
    "   student_id  exam_id\n",
    "0          S1       23\n",
    "1          S2       45\n",
    "2          S3       12\n",
    "3          S4       67\n",
    "4          S5       21\n",
    "5          S7       55\n",
    "6          S8       33\n",
    "7          S9       14\n",
    "8         S10       56\n",
    "9         S11       83\n",
    "10        S12       88\n",
    "11        S13       12"
   ],
   "metadata": {
    "collapsed": false
   },
   "id": "cae0a7d7d2f123c6"
  },
  {
   "cell_type": "code",
   "execution_count": 11,
   "outputs": [
    {
     "data": {
      "text/plain": "  student_id              name  marks  exam_id\n0         S1  Danniella Fenton    200       23\n1         S2      Ryder Storey    210       45\n2         S3      Bryce Jensen    190       12\n3         S4         Ed Bernal    222       67\n4         S4  Scarlette Fisher    201       67\n5         S5       Kwame Morin    199       21\n6         S5  Carla Williamson    200       21\n7         S7    Kaiser William    219       55\n8         S8   Madeeha Preston    201       33",
      "text/html": "<div>\n<style scoped>\n    .dataframe tbody tr th:only-of-type {\n        vertical-align: middle;\n    }\n\n    .dataframe tbody tr th {\n        vertical-align: top;\n    }\n\n    .dataframe thead th {\n        text-align: right;\n    }\n</style>\n<table border=\"1\" class=\"dataframe\">\n  <thead>\n    <tr style=\"text-align: right;\">\n      <th></th>\n      <th>student_id</th>\n      <th>name</th>\n      <th>marks</th>\n      <th>exam_id</th>\n    </tr>\n  </thead>\n  <tbody>\n    <tr>\n      <th>0</th>\n      <td>S1</td>\n      <td>Danniella Fenton</td>\n      <td>200</td>\n      <td>23</td>\n    </tr>\n    <tr>\n      <th>1</th>\n      <td>S2</td>\n      <td>Ryder Storey</td>\n      <td>210</td>\n      <td>45</td>\n    </tr>\n    <tr>\n      <th>2</th>\n      <td>S3</td>\n      <td>Bryce Jensen</td>\n      <td>190</td>\n      <td>12</td>\n    </tr>\n    <tr>\n      <th>3</th>\n      <td>S4</td>\n      <td>Ed Bernal</td>\n      <td>222</td>\n      <td>67</td>\n    </tr>\n    <tr>\n      <th>4</th>\n      <td>S4</td>\n      <td>Scarlette Fisher</td>\n      <td>201</td>\n      <td>67</td>\n    </tr>\n    <tr>\n      <th>5</th>\n      <td>S5</td>\n      <td>Kwame Morin</td>\n      <td>199</td>\n      <td>21</td>\n    </tr>\n    <tr>\n      <th>6</th>\n      <td>S5</td>\n      <td>Carla Williamson</td>\n      <td>200</td>\n      <td>21</td>\n    </tr>\n    <tr>\n      <th>7</th>\n      <td>S7</td>\n      <td>Kaiser William</td>\n      <td>219</td>\n      <td>55</td>\n    </tr>\n    <tr>\n      <th>8</th>\n      <td>S8</td>\n      <td>Madeeha Preston</td>\n      <td>201</td>\n      <td>33</td>\n    </tr>\n  </tbody>\n</table>\n</div>"
     },
     "execution_count": 11,
     "metadata": {},
     "output_type": "execute_result"
    }
   ],
   "source": [
    "\n",
    "\n",
    "exam_data = pd.DataFrame({\n",
    "    'student_id':['S1', 'S2', 'S3', 'S4', 'S5', 'S7', 'S8', 'S9', 'S10', 'S11', 'S12', 'S13'],\n",
    "    'exam_id':[23, 45, 12, 67, 21, 55, 33, 14, 56, 83, 88, 12]\n",
    "                          })\n",
    "q5 = pd.merge(q1, exam_data, on = 'student_id')\n",
    "q5"
   ],
   "metadata": {
    "collapsed": false,
    "ExecuteTime": {
     "end_time": "2023-09-22T16:21:23.201605Z",
     "start_time": "2023-09-22T16:21:23.166817Z"
    }
   },
   "id": "79aa74b8910f87df"
  },
  {
   "cell_type": "markdown",
   "source": [
    "### Q6:join the two dataframes using the common column of both dataframes"
   ],
   "metadata": {
    "collapsed": false
   },
   "id": "8674e8e9a1a2e0b2"
  },
  {
   "cell_type": "code",
   "execution_count": 12,
   "outputs": [
    {
     "data": {
      "text/plain": "  student_id       name_x  marks_x            name_y  marks_y\n0         S4    Ed Bernal      222  Scarlette Fisher      201\n1         S5  Kwame Morin      199  Carla Williamson      200",
      "text/html": "<div>\n<style scoped>\n    .dataframe tbody tr th:only-of-type {\n        vertical-align: middle;\n    }\n\n    .dataframe tbody tr th {\n        vertical-align: top;\n    }\n\n    .dataframe thead th {\n        text-align: right;\n    }\n</style>\n<table border=\"1\" class=\"dataframe\">\n  <thead>\n    <tr style=\"text-align: right;\">\n      <th></th>\n      <th>student_id</th>\n      <th>name_x</th>\n      <th>marks_x</th>\n      <th>name_y</th>\n      <th>marks_y</th>\n    </tr>\n  </thead>\n  <tbody>\n    <tr>\n      <th>0</th>\n      <td>S4</td>\n      <td>Ed Bernal</td>\n      <td>222</td>\n      <td>Scarlette Fisher</td>\n      <td>201</td>\n    </tr>\n    <tr>\n      <th>1</th>\n      <td>S5</td>\n      <td>Kwame Morin</td>\n      <td>199</td>\n      <td>Carla Williamson</td>\n      <td>200</td>\n    </tr>\n  </tbody>\n</table>\n</div>"
     },
     "execution_count": 12,
     "metadata": {},
     "output_type": "execute_result"
    }
   ],
   "source": [
    "q6 = pd.merge(student_data1, student_data2, on = 'student_id', how='inner')\n",
    "q6"
   ],
   "metadata": {
    "collapsed": false,
    "ExecuteTime": {
     "end_time": "2023-09-22T16:23:56.284550Z",
     "start_time": "2023-09-22T16:23:56.233570Z"
    }
   },
   "id": "6f362b513194b729"
  },
  {
   "cell_type": "markdown",
   "source": [
    "###   Q7:  join the two dataframes with matching records from both sides where available"
   ],
   "metadata": {
    "collapsed": false
   },
   "id": "c38505cb5b35f87"
  },
  {
   "cell_type": "code",
   "execution_count": 13,
   "outputs": [
    {
     "data": {
      "text/plain": "  student_id            name_x  marks_x            name_y  marks_y\n0         S1  Danniella Fenton    200.0               NaN      NaN\n1         S2      Ryder Storey    210.0               NaN      NaN\n2         S3      Bryce Jensen    190.0               NaN      NaN\n3         S4         Ed Bernal    222.0  Scarlette Fisher    201.0\n4         S5       Kwame Morin    199.0  Carla Williamson    200.0\n5         S6               NaN      NaN       Dante Morse    198.0\n6         S7               NaN      NaN    Kaiser William    219.0\n7         S8               NaN      NaN   Madeeha Preston    201.0",
      "text/html": "<div>\n<style scoped>\n    .dataframe tbody tr th:only-of-type {\n        vertical-align: middle;\n    }\n\n    .dataframe tbody tr th {\n        vertical-align: top;\n    }\n\n    .dataframe thead th {\n        text-align: right;\n    }\n</style>\n<table border=\"1\" class=\"dataframe\">\n  <thead>\n    <tr style=\"text-align: right;\">\n      <th></th>\n      <th>student_id</th>\n      <th>name_x</th>\n      <th>marks_x</th>\n      <th>name_y</th>\n      <th>marks_y</th>\n    </tr>\n  </thead>\n  <tbody>\n    <tr>\n      <th>0</th>\n      <td>S1</td>\n      <td>Danniella Fenton</td>\n      <td>200.0</td>\n      <td>NaN</td>\n      <td>NaN</td>\n    </tr>\n    <tr>\n      <th>1</th>\n      <td>S2</td>\n      <td>Ryder Storey</td>\n      <td>210.0</td>\n      <td>NaN</td>\n      <td>NaN</td>\n    </tr>\n    <tr>\n      <th>2</th>\n      <td>S3</td>\n      <td>Bryce Jensen</td>\n      <td>190.0</td>\n      <td>NaN</td>\n      <td>NaN</td>\n    </tr>\n    <tr>\n      <th>3</th>\n      <td>S4</td>\n      <td>Ed Bernal</td>\n      <td>222.0</td>\n      <td>Scarlette Fisher</td>\n      <td>201.0</td>\n    </tr>\n    <tr>\n      <th>4</th>\n      <td>S5</td>\n      <td>Kwame Morin</td>\n      <td>199.0</td>\n      <td>Carla Williamson</td>\n      <td>200.0</td>\n    </tr>\n    <tr>\n      <th>5</th>\n      <td>S6</td>\n      <td>NaN</td>\n      <td>NaN</td>\n      <td>Dante Morse</td>\n      <td>198.0</td>\n    </tr>\n    <tr>\n      <th>6</th>\n      <td>S7</td>\n      <td>NaN</td>\n      <td>NaN</td>\n      <td>Kaiser William</td>\n      <td>219.0</td>\n    </tr>\n    <tr>\n      <th>7</th>\n      <td>S8</td>\n      <td>NaN</td>\n      <td>NaN</td>\n      <td>Madeeha Preston</td>\n      <td>201.0</td>\n    </tr>\n  </tbody>\n</table>\n</div>"
     },
     "execution_count": 13,
     "metadata": {},
     "output_type": "execute_result"
    }
   ],
   "source": [
    "q7 = pd.merge(student_data1, student_data2, on = 'student_id', how = 'outer')\n",
    "q7"
   ],
   "metadata": {
    "collapsed": false,
    "ExecuteTime": {
     "end_time": "2023-09-22T16:53:18.516189Z",
     "start_time": "2023-09-22T16:53:18.433246Z"
    }
   },
   "id": "bd84568c644d0184"
  },
  {
   "cell_type": "markdown",
   "source": [
    "### Q:  join (left join) the two dataframes using keys from left dataframe only.\n",
    "data1:\n",
    "  key1 key2   P   Q\n",
    "0   K0   K0  P0  Q0\n",
    "1   K0   K1  P1  Q1\n",
    "2   K1   K0  P2  Q2\n",
    "3   K2   K1  P3  Q3\n",
    "data2:\n",
    "  key1 key2   R   S\n",
    "0   K0   K0  R0  S0\n",
    "1   K1   K0  R1  S1\n",
    "2   K1   K0  R2  S2\n",
    "3   K2   K0  R3  S3"
   ],
   "metadata": {
    "collapsed": false
   },
   "id": "fce7ca8c268418bd"
  },
  {
   "cell_type": "code",
   "execution_count": 14,
   "outputs": [],
   "source": [
    "data1 = pd.DataFrame({'key1': ['K0', 'K0', 'K1', 'K2'],\n",
    "                     'key2': ['K0', 'K1', 'K0', 'K1'],\n",
    "                     'P': ['P0', 'P1', 'P2', 'P3'],\n",
    "                     'Q': ['Q0', 'Q1', 'Q2', 'Q3']}) \n",
    "data2 = pd.DataFrame({'key1': ['K0', 'K1', 'K1', 'K2'],\n",
    "                      'key2': ['K0', 'K0', 'K0', 'K0'],\n",
    "                      'R': ['R0', 'R1', 'R2', 'R3'],\n",
    "                      'S': ['S0', 'S1', 'S2', 'S3']})"
   ],
   "metadata": {
    "collapsed": false,
    "ExecuteTime": {
     "end_time": "2023-09-22T16:54:19.805183Z",
     "start_time": "2023-09-22T16:54:19.741205Z"
    }
   },
   "id": "5b81ada743341e40"
  },
  {
   "cell_type": "code",
   "execution_count": 20,
   "outputs": [
    {
     "data": {
      "text/plain": "  key1 key2   P   Q    R    S\n0   K0   K0  P0  Q0   R0   S0\n1   K0   K1  P1  Q1  NaN  NaN\n2   K1   K0  P2  Q2   R1   S1\n3   K1   K0  P2  Q2   R2   S2\n4   K2   K1  P3  Q3  NaN  NaN",
      "text/html": "<div>\n<style scoped>\n    .dataframe tbody tr th:only-of-type {\n        vertical-align: middle;\n    }\n\n    .dataframe tbody tr th {\n        vertical-align: top;\n    }\n\n    .dataframe thead th {\n        text-align: right;\n    }\n</style>\n<table border=\"1\" class=\"dataframe\">\n  <thead>\n    <tr style=\"text-align: right;\">\n      <th></th>\n      <th>key1</th>\n      <th>key2</th>\n      <th>P</th>\n      <th>Q</th>\n      <th>R</th>\n      <th>S</th>\n    </tr>\n  </thead>\n  <tbody>\n    <tr>\n      <th>0</th>\n      <td>K0</td>\n      <td>K0</td>\n      <td>P0</td>\n      <td>Q0</td>\n      <td>R0</td>\n      <td>S0</td>\n    </tr>\n    <tr>\n      <th>1</th>\n      <td>K0</td>\n      <td>K1</td>\n      <td>P1</td>\n      <td>Q1</td>\n      <td>NaN</td>\n      <td>NaN</td>\n    </tr>\n    <tr>\n      <th>2</th>\n      <td>K1</td>\n      <td>K0</td>\n      <td>P2</td>\n      <td>Q2</td>\n      <td>R1</td>\n      <td>S1</td>\n    </tr>\n    <tr>\n      <th>3</th>\n      <td>K1</td>\n      <td>K0</td>\n      <td>P2</td>\n      <td>Q2</td>\n      <td>R2</td>\n      <td>S2</td>\n    </tr>\n    <tr>\n      <th>4</th>\n      <td>K2</td>\n      <td>K1</td>\n      <td>P3</td>\n      <td>Q3</td>\n      <td>NaN</td>\n      <td>NaN</td>\n    </tr>\n  </tbody>\n</table>\n</div>"
     },
     "execution_count": 20,
     "metadata": {},
     "output_type": "execute_result"
    }
   ],
   "source": [
    "q8 = pd.merge(data1, data2, how = 'left', on= ['key1', 'key2'])\n",
    "q8_2 = pd.merge( data2, data1, how = 'left', on= ['key1', 'key2'])\n",
    "q8"
   ],
   "metadata": {
    "collapsed": false,
    "ExecuteTime": {
     "end_time": "2023-09-22T17:25:39.704173Z",
     "start_time": "2023-09-22T17:25:39.369973Z"
    }
   },
   "id": "6667b83e9d2a2de9"
  },
  {
   "cell_type": "code",
   "execution_count": null,
   "outputs": [],
   "source": [
    "### Q:  join two dataframes using keys from right dataframe only"
   ],
   "metadata": {
    "collapsed": false
   },
   "id": "457c7128d144d249"
  },
  {
   "cell_type": "code",
   "execution_count": 16,
   "outputs": [
    {
     "data": {
      "text/plain": "  key1 key2    P    Q   R   S\n0   K0   K0   P0   Q0  R0  S0\n1   K1   K0   P2   Q2  R1  S1\n2   K1   K0   P2   Q2  R2  S2\n3   K2   K0  NaN  NaN  R3  S3",
      "text/html": "<div>\n<style scoped>\n    .dataframe tbody tr th:only-of-type {\n        vertical-align: middle;\n    }\n\n    .dataframe tbody tr th {\n        vertical-align: top;\n    }\n\n    .dataframe thead th {\n        text-align: right;\n    }\n</style>\n<table border=\"1\" class=\"dataframe\">\n  <thead>\n    <tr style=\"text-align: right;\">\n      <th></th>\n      <th>key1</th>\n      <th>key2</th>\n      <th>P</th>\n      <th>Q</th>\n      <th>R</th>\n      <th>S</th>\n    </tr>\n  </thead>\n  <tbody>\n    <tr>\n      <th>0</th>\n      <td>K0</td>\n      <td>K0</td>\n      <td>P0</td>\n      <td>Q0</td>\n      <td>R0</td>\n      <td>S0</td>\n    </tr>\n    <tr>\n      <th>1</th>\n      <td>K1</td>\n      <td>K0</td>\n      <td>P2</td>\n      <td>Q2</td>\n      <td>R1</td>\n      <td>S1</td>\n    </tr>\n    <tr>\n      <th>2</th>\n      <td>K1</td>\n      <td>K0</td>\n      <td>P2</td>\n      <td>Q2</td>\n      <td>R2</td>\n      <td>S2</td>\n    </tr>\n    <tr>\n      <th>3</th>\n      <td>K2</td>\n      <td>K0</td>\n      <td>NaN</td>\n      <td>NaN</td>\n      <td>R3</td>\n      <td>S3</td>\n    </tr>\n  </tbody>\n</table>\n</div>"
     },
     "execution_count": 16,
     "metadata": {},
     "output_type": "execute_result"
    }
   ],
   "source": [
    "q9 = pd.merge(data1, data2, how='right', on=['key1', 'key2'])\n",
    "q9"
   ],
   "metadata": {
    "collapsed": false,
    "ExecuteTime": {
     "end_time": "2023-09-22T17:20:49.288141Z",
     "start_time": "2023-09-22T17:20:49.187004Z"
    }
   },
   "id": "b4d0a2935852ef76"
  },
  {
   "cell_type": "code",
   "execution_count": null,
   "outputs": [],
   "source": [
    "### Q:merge two given datasets using multiple join keys\n"
   ],
   "metadata": {
    "collapsed": false
   },
   "id": "6b22988d1306650c"
  },
  {
   "cell_type": "code",
   "execution_count": 18,
   "outputs": [
    {
     "data": {
      "text/plain": "  key1 key2   P   Q   R   S\n0   K0   K0  P0  Q0  R0  S0\n1   K1   K0  P2  Q2  R1  S1\n2   K1   K0  P2  Q2  R2  S2",
      "text/html": "<div>\n<style scoped>\n    .dataframe tbody tr th:only-of-type {\n        vertical-align: middle;\n    }\n\n    .dataframe tbody tr th {\n        vertical-align: top;\n    }\n\n    .dataframe thead th {\n        text-align: right;\n    }\n</style>\n<table border=\"1\" class=\"dataframe\">\n  <thead>\n    <tr style=\"text-align: right;\">\n      <th></th>\n      <th>key1</th>\n      <th>key2</th>\n      <th>P</th>\n      <th>Q</th>\n      <th>R</th>\n      <th>S</th>\n    </tr>\n  </thead>\n  <tbody>\n    <tr>\n      <th>0</th>\n      <td>K0</td>\n      <td>K0</td>\n      <td>P0</td>\n      <td>Q0</td>\n      <td>R0</td>\n      <td>S0</td>\n    </tr>\n    <tr>\n      <th>1</th>\n      <td>K1</td>\n      <td>K0</td>\n      <td>P2</td>\n      <td>Q2</td>\n      <td>R1</td>\n      <td>S1</td>\n    </tr>\n    <tr>\n      <th>2</th>\n      <td>K1</td>\n      <td>K0</td>\n      <td>P2</td>\n      <td>Q2</td>\n      <td>R2</td>\n      <td>S2</td>\n    </tr>\n  </tbody>\n</table>\n</div>"
     },
     "execution_count": 18,
     "metadata": {},
     "output_type": "execute_result"
    }
   ],
   "source": [
    "q10 = pd.merge(data1, data2, on = ['key1', 'key2'])\n",
    "q10"
   ],
   "metadata": {
    "collapsed": false,
    "ExecuteTime": {
     "end_time": "2023-09-22T17:22:58.371280Z",
     "start_time": "2023-09-22T17:22:58.296107Z"
    }
   },
   "id": "bdc3951f10cd1882"
  },
  {
   "cell_type": "code",
   "execution_count": 22,
   "outputs": [
    {
     "data": {
      "text/plain": "  key1 key2   P   Q   R   S\n0   K0   K0  P0  Q0  R0  S0\n1   K1   K0  P2  Q2  R1  S1\n2   K1   K0  P2  Q2  R2  S2",
      "text/html": "<div>\n<style scoped>\n    .dataframe tbody tr th:only-of-type {\n        vertical-align: middle;\n    }\n\n    .dataframe tbody tr th {\n        vertical-align: top;\n    }\n\n    .dataframe thead th {\n        text-align: right;\n    }\n</style>\n<table border=\"1\" class=\"dataframe\">\n  <thead>\n    <tr style=\"text-align: right;\">\n      <th></th>\n      <th>key1</th>\n      <th>key2</th>\n      <th>P</th>\n      <th>Q</th>\n      <th>R</th>\n      <th>S</th>\n    </tr>\n  </thead>\n  <tbody>\n    <tr>\n      <th>0</th>\n      <td>K0</td>\n      <td>K0</td>\n      <td>P0</td>\n      <td>Q0</td>\n      <td>R0</td>\n      <td>S0</td>\n    </tr>\n    <tr>\n      <th>1</th>\n      <td>K1</td>\n      <td>K0</td>\n      <td>P2</td>\n      <td>Q2</td>\n      <td>R1</td>\n      <td>S1</td>\n    </tr>\n    <tr>\n      <th>2</th>\n      <td>K1</td>\n      <td>K0</td>\n      <td>P2</td>\n      <td>Q2</td>\n      <td>R2</td>\n      <td>S2</td>\n    </tr>\n  </tbody>\n</table>\n</div>"
     },
     "execution_count": 22,
     "metadata": {},
     "output_type": "execute_result"
    }
   ],
   "source": [
    "q10_same = pd.merge(data1, data2, on = ['key1', 'key2'], how='inner')\n",
    "q10_same"
   ],
   "metadata": {
    "collapsed": false,
    "ExecuteTime": {
     "end_time": "2023-09-22T17:30:18.515850Z",
     "start_time": "2023-09-22T17:30:18.423306Z"
    }
   },
   "id": "d6fa5d894bd308cd"
  },
  {
   "cell_type": "code",
   "execution_count": null,
   "outputs": [],
   "source": [
    "### Q: existing series, using specified argument and override the existing columns names\n"
   ],
   "metadata": {
    "collapsed": false
   },
   "id": "b085d3e7f1f2184c"
  },
  {
   "cell_type": "code",
   "execution_count": 25,
   "outputs": [],
   "source": [
    "s1 = pd.Series([0, 1, 2, 3], name='col1')\n",
    "s2 = pd.Series([0, 1, 2, 3])\n",
    "s3 = pd.Series([0, 1, 4, 5], name='col3')"
   ],
   "metadata": {
    "collapsed": false,
    "ExecuteTime": {
     "end_time": "2023-09-22T17:34:28.046057Z",
     "start_time": "2023-09-22T17:34:27.987357Z"
    }
   },
   "id": "d2c6527cbb6dfafd"
  },
  {
   "cell_type": "code",
   "execution_count": 28,
   "outputs": [
    {
     "data": {
      "text/plain": "   col1  col2  col3\n0     0     0     0\n1     1     1     1\n2     2     2     4\n3     3     3     5",
      "text/html": "<div>\n<style scoped>\n    .dataframe tbody tr th:only-of-type {\n        vertical-align: middle;\n    }\n\n    .dataframe tbody tr th {\n        vertical-align: top;\n    }\n\n    .dataframe thead th {\n        text-align: right;\n    }\n</style>\n<table border=\"1\" class=\"dataframe\">\n  <thead>\n    <tr style=\"text-align: right;\">\n      <th></th>\n      <th>col1</th>\n      <th>col2</th>\n      <th>col3</th>\n    </tr>\n  </thead>\n  <tbody>\n    <tr>\n      <th>0</th>\n      <td>0</td>\n      <td>0</td>\n      <td>0</td>\n    </tr>\n    <tr>\n      <th>1</th>\n      <td>1</td>\n      <td>1</td>\n      <td>1</td>\n    </tr>\n    <tr>\n      <th>2</th>\n      <td>2</td>\n      <td>2</td>\n      <td>4</td>\n    </tr>\n    <tr>\n      <th>3</th>\n      <td>3</td>\n      <td>3</td>\n      <td>5</td>\n    </tr>\n  </tbody>\n</table>\n</div>"
     },
     "execution_count": 28,
     "metadata": {},
     "output_type": "execute_result"
    }
   ],
   "source": [
    "q11 = pd.concat([s1, s2, s3], axis = 1, keys = ['col1', 'col2', 'col3'])\n",
    "q11"
   ],
   "metadata": {
    "collapsed": false,
    "ExecuteTime": {
     "end_time": "2023-09-22T17:34:52.751673Z",
     "start_time": "2023-09-22T17:34:52.734198Z"
    }
   },
   "id": "766fe5139b73c1a5"
  },
  {
   "cell_type": "code",
   "execution_count": null,
   "outputs": [],
   "source": [
    "### Q: create a combination from two dataframes where a column id combination appears more than once in both dataframes"
   ],
   "metadata": {
    "collapsed": false
   },
   "id": "78cc61ea4d85f6c7"
  },
  {
   "cell_type": "code",
   "execution_count": 35,
   "outputs": [
    {
     "data": {
      "text/plain": "  key1 key2    P    Q    R    S\n0   K0   K0   P0   Q0   R0   S0\n1   K0   K1   P1   Q1  NaN  NaN\n2   K1   K0   P2   Q2   R1   S1\n3   K1   K0   P2   Q2   R2   S2\n4   K2   K1   P3   Q3  NaN  NaN\n5   K2   K0  NaN  NaN   R3   S3",
      "text/html": "<div>\n<style scoped>\n    .dataframe tbody tr th:only-of-type {\n        vertical-align: middle;\n    }\n\n    .dataframe tbody tr th {\n        vertical-align: top;\n    }\n\n    .dataframe thead th {\n        text-align: right;\n    }\n</style>\n<table border=\"1\" class=\"dataframe\">\n  <thead>\n    <tr style=\"text-align: right;\">\n      <th></th>\n      <th>key1</th>\n      <th>key2</th>\n      <th>P</th>\n      <th>Q</th>\n      <th>R</th>\n      <th>S</th>\n    </tr>\n  </thead>\n  <tbody>\n    <tr>\n      <th>0</th>\n      <td>K0</td>\n      <td>K0</td>\n      <td>P0</td>\n      <td>Q0</td>\n      <td>R0</td>\n      <td>S0</td>\n    </tr>\n    <tr>\n      <th>1</th>\n      <td>K0</td>\n      <td>K1</td>\n      <td>P1</td>\n      <td>Q1</td>\n      <td>NaN</td>\n      <td>NaN</td>\n    </tr>\n    <tr>\n      <th>2</th>\n      <td>K1</td>\n      <td>K0</td>\n      <td>P2</td>\n      <td>Q2</td>\n      <td>R1</td>\n      <td>S1</td>\n    </tr>\n    <tr>\n      <th>3</th>\n      <td>K1</td>\n      <td>K0</td>\n      <td>P2</td>\n      <td>Q2</td>\n      <td>R2</td>\n      <td>S2</td>\n    </tr>\n    <tr>\n      <th>4</th>\n      <td>K2</td>\n      <td>K1</td>\n      <td>P3</td>\n      <td>Q3</td>\n      <td>NaN</td>\n      <td>NaN</td>\n    </tr>\n    <tr>\n      <th>5</th>\n      <td>K2</td>\n      <td>K0</td>\n      <td>NaN</td>\n      <td>NaN</td>\n      <td>R3</td>\n      <td>S3</td>\n    </tr>\n  </tbody>\n</table>\n</div>"
     },
     "execution_count": 35,
     "metadata": {},
     "output_type": "execute_result"
    }
   ],
   "source": [
    "table = pd.merge(data1, data2, on = ['key1', 'key2'], how = 'outer')\n",
    "table\n"
   ],
   "metadata": {
    "collapsed": false,
    "ExecuteTime": {
     "end_time": "2023-09-22T17:46:25.150054Z",
     "start_time": "2023-09-22T17:46:25.070132Z"
    }
   },
   "id": "c1f423ce1fbaa81a"
  },
  {
   "cell_type": "markdown",
   "source": [],
   "metadata": {
    "collapsed": false
   },
   "id": "1a34a1e5e2479fcc"
  },
  {
   "cell_type": "code",
   "execution_count": 67,
   "outputs": [
    {
     "data": {
      "text/plain": "  key1 key2   P   Q   R   S\n2   K1   K0  P2  Q2  R1  S1\n3   K1   K0  P2  Q2  R2  S2",
      "text/html": "<div>\n<style scoped>\n    .dataframe tbody tr th:only-of-type {\n        vertical-align: middle;\n    }\n\n    .dataframe tbody tr th {\n        vertical-align: top;\n    }\n\n    .dataframe thead th {\n        text-align: right;\n    }\n</style>\n<table border=\"1\" class=\"dataframe\">\n  <thead>\n    <tr style=\"text-align: right;\">\n      <th></th>\n      <th>key1</th>\n      <th>key2</th>\n      <th>P</th>\n      <th>Q</th>\n      <th>R</th>\n      <th>S</th>\n    </tr>\n  </thead>\n  <tbody>\n    <tr>\n      <th>2</th>\n      <td>K1</td>\n      <td>K0</td>\n      <td>P2</td>\n      <td>Q2</td>\n      <td>R1</td>\n      <td>S1</td>\n    </tr>\n    <tr>\n      <th>3</th>\n      <td>K1</td>\n      <td>K0</td>\n      <td>P2</td>\n      <td>Q2</td>\n      <td>R2</td>\n      <td>S2</td>\n    </tr>\n  </tbody>\n</table>\n</div>"
     },
     "execution_count": 67,
     "metadata": {},
     "output_type": "execute_result"
    }
   ],
   "source": [
    "# col1 and col2 appears more than twice\n",
    "q12 = table.duplicated(subset=['key1','key2'], keep=False)\n",
    "table[q12]"
   ],
   "metadata": {
    "collapsed": false,
    "ExecuteTime": {
     "end_time": "2023-09-22T18:06:37.968318Z",
     "start_time": "2023-09-22T18:06:37.914557Z"
    }
   },
   "id": "5c864799c6220288"
  },
  {
   "cell_type": "code",
   "execution_count": 71,
   "outputs": [
    {
     "data": {
      "text/plain": "  key1 key2    P    Q   R   S\n3   K1   K0   P2   Q2  R2  S2\n5   K2   K0  NaN  NaN  R3  S3",
      "text/html": "<div>\n<style scoped>\n    .dataframe tbody tr th:only-of-type {\n        vertical-align: middle;\n    }\n\n    .dataframe tbody tr th {\n        vertical-align: top;\n    }\n\n    .dataframe thead th {\n        text-align: right;\n    }\n</style>\n<table border=\"1\" class=\"dataframe\">\n  <thead>\n    <tr style=\"text-align: right;\">\n      <th></th>\n      <th>key1</th>\n      <th>key2</th>\n      <th>P</th>\n      <th>Q</th>\n      <th>R</th>\n      <th>S</th>\n    </tr>\n  </thead>\n  <tbody>\n    <tr>\n      <th>3</th>\n      <td>K1</td>\n      <td>K0</td>\n      <td>P2</td>\n      <td>Q2</td>\n      <td>R2</td>\n      <td>S2</td>\n    </tr>\n    <tr>\n      <th>5</th>\n      <td>K2</td>\n      <td>K0</td>\n      <td>NaN</td>\n      <td>NaN</td>\n      <td>R3</td>\n      <td>S3</td>\n    </tr>\n  </tbody>\n</table>\n</div>"
     },
     "execution_count": 71,
     "metadata": {},
     "output_type": "execute_result"
    }
   ],
   "source": [
    "# col 1 or col 2 appears more than  twice\n",
    "duplicated_col = table[table['key1'].duplicated() & table['key2'].duplicated()]\n",
    "duplicated_col"
   ],
   "metadata": {
    "collapsed": false,
    "ExecuteTime": {
     "end_time": "2023-09-22T19:52:19.407424Z",
     "start_time": "2023-09-22T19:52:19.344024Z"
    }
   },
   "id": "14aef3b1cc5dc3dc"
  },
  {
   "cell_type": "markdown",
   "source": [
    "### Q: combine the columns of two potentially differently-indexed DataFrames into a single result DataFrame.\n",
    "\n",
    "d1:\n",
    "     A   B\n",
    "K0  A0  B0\n",
    "K1  A1  B1\n",
    "K2  A2  B2\n",
    "d2:\n",
    "     C   D\n",
    "K0  C0  D0\n",
    "K2  C2  D2\n",
    "K3  C3  D3"
   ],
   "metadata": {
    "collapsed": false
   },
   "id": "49ab7d9e894bf0bf"
  },
  {
   "cell_type": "code",
   "execution_count": 73,
   "outputs": [],
   "source": [
    "d1 = pd.DataFrame({ 'A': ['A0', 'A1','A2'], \n",
    "                        'B' : ['B0', 'B1', 'B2']}, \n",
    "                        index = ['K0', 'K1', 'K2'])\n",
    "d2 = pd.DataFrame({'C': ['C0', 'C2', 'C3'],\n",
    "                      'D': ['D0', 'D2', 'D3']},\n",
    "                     index=['K0', 'K2', 'K3'])      \n",
    "                     "
   ],
   "metadata": {
    "collapsed": false,
    "ExecuteTime": {
     "end_time": "2023-09-22T20:01:23.181602Z",
     "start_time": "2023-09-22T20:01:23.131942Z"
    }
   },
   "id": "86ef5e8c2698c4e1"
  },
  {
   "cell_type": "code",
   "execution_count": 74,
   "outputs": [
    {
     "data": {
      "text/plain": "     A   B    C    D\nK0  A0  B0   C0   D0\nK1  A1  B1  NaN  NaN\nK2  A2  B2   C2   D2",
      "text/html": "<div>\n<style scoped>\n    .dataframe tbody tr th:only-of-type {\n        vertical-align: middle;\n    }\n\n    .dataframe tbody tr th {\n        vertical-align: top;\n    }\n\n    .dataframe thead th {\n        text-align: right;\n    }\n</style>\n<table border=\"1\" class=\"dataframe\">\n  <thead>\n    <tr style=\"text-align: right;\">\n      <th></th>\n      <th>A</th>\n      <th>B</th>\n      <th>C</th>\n      <th>D</th>\n    </tr>\n  </thead>\n  <tbody>\n    <tr>\n      <th>K0</th>\n      <td>A0</td>\n      <td>B0</td>\n      <td>C0</td>\n      <td>D0</td>\n    </tr>\n    <tr>\n      <th>K1</th>\n      <td>A1</td>\n      <td>B1</td>\n      <td>NaN</td>\n      <td>NaN</td>\n    </tr>\n    <tr>\n      <th>K2</th>\n      <td>A2</td>\n      <td>B2</td>\n      <td>C2</td>\n      <td>D2</td>\n    </tr>\n  </tbody>\n</table>\n</div>"
     },
     "execution_count": 74,
     "metadata": {},
     "output_type": "execute_result"
    }
   ],
   "source": [
    "# Join\n",
    "q13 = d1.join(d2)\n",
    "q13"
   ],
   "metadata": {
    "collapsed": false,
    "ExecuteTime": {
     "end_time": "2023-09-22T20:01:25.493231Z",
     "start_time": "2023-09-22T20:01:25.402198Z"
    }
   },
   "id": "db9b127b967937b6"
  },
  {
   "cell_type": "code",
   "execution_count": 77,
   "outputs": [
    {
     "data": {
      "text/plain": "      A    B    C    D\nK0   A0   B0  NaN  NaN\nK1   A1   B1  NaN  NaN\nK2   A2   B2  NaN  NaN\nK0  NaN  NaN   C0   D0\nK2  NaN  NaN   C2   D2\nK3  NaN  NaN   C3   D3",
      "text/html": "<div>\n<style scoped>\n    .dataframe tbody tr th:only-of-type {\n        vertical-align: middle;\n    }\n\n    .dataframe tbody tr th {\n        vertical-align: top;\n    }\n\n    .dataframe thead th {\n        text-align: right;\n    }\n</style>\n<table border=\"1\" class=\"dataframe\">\n  <thead>\n    <tr style=\"text-align: right;\">\n      <th></th>\n      <th>A</th>\n      <th>B</th>\n      <th>C</th>\n      <th>D</th>\n    </tr>\n  </thead>\n  <tbody>\n    <tr>\n      <th>K0</th>\n      <td>A0</td>\n      <td>B0</td>\n      <td>NaN</td>\n      <td>NaN</td>\n    </tr>\n    <tr>\n      <th>K1</th>\n      <td>A1</td>\n      <td>B1</td>\n      <td>NaN</td>\n      <td>NaN</td>\n    </tr>\n    <tr>\n      <th>K2</th>\n      <td>A2</td>\n      <td>B2</td>\n      <td>NaN</td>\n      <td>NaN</td>\n    </tr>\n    <tr>\n      <th>K0</th>\n      <td>NaN</td>\n      <td>NaN</td>\n      <td>C0</td>\n      <td>D0</td>\n    </tr>\n    <tr>\n      <th>K2</th>\n      <td>NaN</td>\n      <td>NaN</td>\n      <td>C2</td>\n      <td>D2</td>\n    </tr>\n    <tr>\n      <th>K3</th>\n      <td>NaN</td>\n      <td>NaN</td>\n      <td>C3</td>\n      <td>D3</td>\n    </tr>\n  </tbody>\n</table>\n</div>"
     },
     "execution_count": 77,
     "metadata": {},
     "output_type": "execute_result"
    }
   ],
   "source": [
    "compare_concat = pd.concat([d1, d2])\n",
    "compare_concat "
   ],
   "metadata": {
    "collapsed": false,
    "ExecuteTime": {
     "end_time": "2023-09-22T20:09:34.761052Z",
     "start_time": "2023-09-22T20:09:34.677808Z"
    }
   },
   "id": "d26a7bb608a2834e"
  },
  {
   "cell_type": "markdown",
   "source": [
    "### Q: Combine two DataFrame objects by filling null values in one DataFrame with non-null values from other DataFrame.\n",
    "Original DataFrames:\n",
    "     A  B\n",
    "0  NaN  3\n",
    "1  0.0  4\n",
    "2  NaN  5\n",
    "   A    B\n",
    "0  1  3.0\n",
    "1  1  NaN\n",
    "2  3  3.0\n"
   ],
   "metadata": {
    "collapsed": false
   },
   "id": "2c30ce8ef015a721"
  },
  {
   "cell_type": "code",
   "execution_count": 83,
   "outputs": [
    {
     "data": {
      "text/plain": "     A  B\n0  NaN  3\n1  0.0  4\n2  NaN  5",
      "text/html": "<div>\n<style scoped>\n    .dataframe tbody tr th:only-of-type {\n        vertical-align: middle;\n    }\n\n    .dataframe tbody tr th {\n        vertical-align: top;\n    }\n\n    .dataframe thead th {\n        text-align: right;\n    }\n</style>\n<table border=\"1\" class=\"dataframe\">\n  <thead>\n    <tr style=\"text-align: right;\">\n      <th></th>\n      <th>A</th>\n      <th>B</th>\n    </tr>\n  </thead>\n  <tbody>\n    <tr>\n      <th>0</th>\n      <td>NaN</td>\n      <td>3</td>\n    </tr>\n    <tr>\n      <th>1</th>\n      <td>0.0</td>\n      <td>4</td>\n    </tr>\n    <tr>\n      <th>2</th>\n      <td>NaN</td>\n      <td>5</td>\n    </tr>\n  </tbody>\n</table>\n</div>"
     },
     "execution_count": 83,
     "metadata": {},
     "output_type": "execute_result"
    }
   ],
   "source": [
    "df1 = pd.DataFrame({'A': [None, 0.0, None], \n",
    "                      'B': ['3', '4', '5']})\n",
    "df2 = pd.DataFrame({ 'A': [1, 1, 3], \n",
    "                      'B': [3, None, 3]})\n",
    "df1"
   ],
   "metadata": {
    "collapsed": false,
    "ExecuteTime": {
     "end_time": "2023-09-22T20:24:06.123191Z",
     "start_time": "2023-09-22T20:24:06.088757Z"
    }
   },
   "id": "77d1ed0926a57230"
  },
  {
   "cell_type": "code",
   "execution_count": 84,
   "outputs": [
    {
     "data": {
      "text/plain": "     A  B\n0  1.0  3\n1  0.0  4\n2  3.0  5",
      "text/html": "<div>\n<style scoped>\n    .dataframe tbody tr th:only-of-type {\n        vertical-align: middle;\n    }\n\n    .dataframe tbody tr th {\n        vertical-align: top;\n    }\n\n    .dataframe thead th {\n        text-align: right;\n    }\n</style>\n<table border=\"1\" class=\"dataframe\">\n  <thead>\n    <tr style=\"text-align: right;\">\n      <th></th>\n      <th>A</th>\n      <th>B</th>\n    </tr>\n  </thead>\n  <tbody>\n    <tr>\n      <th>0</th>\n      <td>1.0</td>\n      <td>3</td>\n    </tr>\n    <tr>\n      <th>1</th>\n      <td>0.0</td>\n      <td>4</td>\n    </tr>\n    <tr>\n      <th>2</th>\n      <td>3.0</td>\n      <td>5</td>\n    </tr>\n  </tbody>\n</table>\n</div>"
     },
     "execution_count": 84,
     "metadata": {},
     "output_type": "execute_result"
    }
   ],
   "source": [
    "q14_1 = df1.combine_first(df2)\n",
    "q14_1"
   ],
   "metadata": {
    "collapsed": false,
    "ExecuteTime": {
     "end_time": "2023-09-22T20:24:41.359862Z",
     "start_time": "2023-09-22T20:24:41.297333Z"
    }
   },
   "id": "bc0b8448936bc721"
  },
  {
   "cell_type": "code",
   "execution_count": 85,
   "outputs": [
    {
     "data": {
      "text/plain": "     A    B\n0  1.0  3.0\n1  1.0    4\n2  3.0  3.0",
      "text/html": "<div>\n<style scoped>\n    .dataframe tbody tr th:only-of-type {\n        vertical-align: middle;\n    }\n\n    .dataframe tbody tr th {\n        vertical-align: top;\n    }\n\n    .dataframe thead th {\n        text-align: right;\n    }\n</style>\n<table border=\"1\" class=\"dataframe\">\n  <thead>\n    <tr style=\"text-align: right;\">\n      <th></th>\n      <th>A</th>\n      <th>B</th>\n    </tr>\n  </thead>\n  <tbody>\n    <tr>\n      <th>0</th>\n      <td>1.0</td>\n      <td>3.0</td>\n    </tr>\n    <tr>\n      <th>1</th>\n      <td>1.0</td>\n      <td>4</td>\n    </tr>\n    <tr>\n      <th>2</th>\n      <td>3.0</td>\n      <td>3.0</td>\n    </tr>\n  </tbody>\n</table>\n</div>"
     },
     "execution_count": 85,
     "metadata": {},
     "output_type": "execute_result"
    }
   ],
   "source": [
    "q14_2 = df2.combine_first(df1)\n",
    "q14_2"
   ],
   "metadata": {
    "collapsed": false,
    "ExecuteTime": {
     "end_time": "2023-09-22T20:24:53.266079Z",
     "start_time": "2023-09-22T20:24:53.203855Z"
    }
   },
   "id": "4dbfab1f4aca9a0f"
  },
  {
   "cell_type": "code",
   "execution_count": 88,
   "outputs": [
    {
     "data": {
      "text/plain": "[3, 4, 5]"
     },
     "execution_count": 88,
     "metadata": {},
     "output_type": "execute_result"
    }
   ],
   "source": [
    "x = 345\n",
    "y = sum(list(map(int, str(x))))\n",
    "# 12\n"
   ],
   "metadata": {
    "collapsed": false,
    "ExecuteTime": {
     "end_time": "2023-09-22T20:28:23.042Z",
     "start_time": "2023-09-22T20:28:22.980343Z"
    }
   },
   "id": "1cf7c6a2ceb356ca"
  },
  {
   "cell_type": "markdown",
   "source": [
    "2. Pandas Time Series\n",
    "\n",
    "1). Write a Pandas program to create\n",
    "a) Datetime object for Jan 15 2012.\n",
    "b) Specific date and time of 9:20 pm.\n",
    "c) Local date and time.\n",
    "d) A date without time.\n",
    "e) Current date.\n",
    "f) Time from a datetime.\n",
    "g) Current local time."
   ],
   "metadata": {
    "collapsed": false
   },
   "id": "522a4dff9d682461"
  },
  {
   "cell_type": "code",
   "execution_count": 94,
   "outputs": [
    {
     "name": "stdout",
     "output_type": "stream",
     "text": [
      "Datetime object for Jan 11 2012:\n",
      "2012-01-11 00:00:00\n",
      "\n",
      "Specific date and time of 9:20 pm\n",
      "2011-01-11 21:20:00\n",
      "\n",
      "Local date and time:\n",
      "2023-09-22 16:43:18.181859\n",
      "\n",
      "A date without time: \n",
      "2012-05-22\n",
      "\n",
      "Current date:\n",
      "2023-09-22\n",
      "\n",
      "Time from a datetime:\n",
      "18:12:00\n",
      "\n",
      "Current local time:\n",
      "16:43:18.182047\n"
     ]
    }
   ],
   "source": [
    "from datetime import datetime\n",
    "print(\"Datetime object for Jan 11 2012:\")\n",
    "print(datetime(2012, 1, 11))\n",
    "print(\"\\nSpecific date and time of 9:20 pm\") \n",
    "print(datetime(2011, 1, 11, 21, 20))\n",
    "print(\"\\nLocal date and time:\")\n",
    "print(datetime.now())\n",
    "print(\"\\nA date without time: \")\n",
    "print(datetime.date(datetime(2012, 5, 22)))\n",
    "print(\"\\nCurrent date:\")\n",
    "print(datetime.now().date())\n",
    "print(\"\\nTime from a datetime:\")\n",
    "print(datetime.time(datetime(2012, 12, 15, 18, 12)))\n",
    "print(\"\\nCurrent local time:\") \n",
    "print(datetime.now().time())\n",
    "\n"
   ],
   "metadata": {
    "collapsed": false,
    "ExecuteTime": {
     "end_time": "2023-09-22T20:43:18.244613Z",
     "start_time": "2023-09-22T20:43:18.192418Z"
    }
   },
   "id": "73463ed710d3b4ff"
  },
  {
   "cell_type": "markdown",
   "source": [
    "2). Write a Pandas program to create\n",
    "a) a specific date using timestamp.\n",
    "b) date and time using timestamp.\n",
    "c) a time adds in the current local date using timestamp.\n",
    "d) current date and time using timestamp."
   ],
   "metadata": {
    "collapsed": false
   },
   "id": "71b0a801002149db"
  },
  {
   "cell_type": "code",
   "execution_count": 95,
   "outputs": [
    {
     "name": "stdout",
     "output_type": "stream",
     "text": [
      "\n",
      "A specific date using timestamp:\n",
      "2016-11-10 00:00:00\n",
      "\n",
      "Date and time using timestamp:\n",
      "2012-05-03 11:30:00\n",
      "\n",
      "A time adds in the current local date using timestamp:\n",
      "2023-09-22 11:30:00\n",
      "\n",
      "Current date and time using timestamp:\n",
      "2023-09-22 16:44:20.797883\n"
     ]
    }
   ],
   "source": [
    "import pandas as pd\n",
    "print(\"\\nA specific date using timestamp:\")\n",
    "print(pd.Timestamp('2016-11-10'))\n",
    "print(\"\\nDate and time using timestamp:\")\n",
    "print(pd.Timestamp('2012-05-03 11:30'))\n",
    "print(\"\\nA time adds in the current local date using timestamp:\")\n",
    "print(pd.Timestamp('11:30'))\n",
    "print(\"\\nCurrent date and time using timestamp:\")\n",
    "print(pd.Timestamp(\"now\"))\n"
   ],
   "metadata": {
    "collapsed": false,
    "ExecuteTime": {
     "end_time": "2023-09-22T20:44:20.881117Z",
     "start_time": "2023-09-22T20:44:20.785810Z"
    }
   },
   "id": "8f870da78bf34247"
  },
  {
   "cell_type": "markdown",
   "source": [
    "3). create a date from a given year, month, day and another date from a given string formats"
   ],
   "metadata": {
    "collapsed": false
   },
   "id": "8f13b64fe78b450e"
  },
  {
   "cell_type": "code",
   "execution_count": 96,
   "outputs": [
    {
     "name": "stdout",
     "output_type": "stream",
     "text": [
      "Date from a given year, month, day:\n",
      "2020-12-25 00:00:00\n",
      "\n",
      "Date from a given string formats:\n",
      "2021-01-01 00:00:00\n"
     ]
    }
   ],
   "source": [
    "from datetime import datetime\n",
    "date1 = datetime(year=2020, month=12, day=25)\n",
    "print(\"Date from a given year, month, day:\")\n",
    "print(date1)\n",
    "from dateutil import parser\n",
    "date2 = parser.parse(\"1st of January, 2021\")\n",
    "print(\"\\nDate from a given string formats:\")\n",
    "print(date2)"
   ],
   "metadata": {
    "collapsed": false,
    "ExecuteTime": {
     "end_time": "2023-09-22T20:47:41.988519Z",
     "start_time": "2023-09-22T20:47:41.904080Z"
    }
   },
   "id": "83b432cd20697694"
  },
  {
   "cell_type": "markdown",
   "source": [
    "4). print the day after and before a specified date. Also print the days between two given dates"
   ],
   "metadata": {
    "collapsed": false
   },
   "id": "4667be280e681a5"
  },
  {
   "cell_type": "code",
   "execution_count": 97,
   "outputs": [
    {
     "name": "stdout",
     "output_type": "stream",
     "text": [
      "Current date: 2012-10-30 00:00:00\n",
      "Tomorrow: 2012-10-31 00:00:00\n",
      "Yesterday: 2012-10-29 00:00:00\n",
      "\n",
      "Difference between two dates:  14 days, 0:00:00\n"
     ]
    }
   ],
   "source": [
    "import pandas as pd\n",
    "import datetime\n",
    "from datetime import datetime, date\n",
    "today = datetime(2012, 10, 30)\n",
    "print(\"Current date:\", today)\n",
    "tomorrow = today + pd.Timedelta(days=1)\n",
    "print(\"Tomorrow:\", tomorrow)\n",
    "yesterday = today - pd.Timedelta(days=1)\n",
    "print(\"Yesterday:\", yesterday)\n",
    "date1 = datetime(2016, 8, 2)\n",
    "date2 = datetime(2016, 7, 19)\n",
    "print(\"\\nDifference between two dates: \",(date1 - date2))\n"
   ],
   "metadata": {
    "collapsed": false,
    "ExecuteTime": {
     "end_time": "2023-09-22T20:48:57.621593Z",
     "start_time": "2023-09-22T20:48:57.459569Z"
    }
   },
   "id": "a423f0120621665a"
  },
  {
   "cell_type": "markdown",
   "source": [
    "3. Filter\n",
    "### select first 2 rows, 2 columns and specific two columns\n"
   ],
   "metadata": {
    "collapsed": false
   },
   "id": "31f3925962bd2e98"
  },
  {
   "cell_type": "code",
   "execution_count": 100,
   "outputs": [],
   "source": [
    "import pandas as pd\n",
    "\n",
    "df = pd.read_csv('world_alcohol.csv')"
   ],
   "metadata": {
    "collapsed": false,
    "ExecuteTime": {
     "end_time": "2023-09-23T00:36:55.715258Z",
     "start_time": "2023-09-23T00:36:55.642673Z"
    }
   },
   "id": "c31d92fcb5dd251"
  },
  {
   "cell_type": "code",
   "execution_count": 102,
   "outputs": [
    {
     "data": {
      "text/plain": "   Year       WHO region   Country Beverage Types  Display Value\n0  1986  Western Pacific  Viet Nam           Wine            0.0\n1  1986         Americas   Uruguay          Other            0.5",
      "text/html": "<div>\n<style scoped>\n    .dataframe tbody tr th:only-of-type {\n        vertical-align: middle;\n    }\n\n    .dataframe tbody tr th {\n        vertical-align: top;\n    }\n\n    .dataframe thead th {\n        text-align: right;\n    }\n</style>\n<table border=\"1\" class=\"dataframe\">\n  <thead>\n    <tr style=\"text-align: right;\">\n      <th></th>\n      <th>Year</th>\n      <th>WHO region</th>\n      <th>Country</th>\n      <th>Beverage Types</th>\n      <th>Display Value</th>\n    </tr>\n  </thead>\n  <tbody>\n    <tr>\n      <th>0</th>\n      <td>1986</td>\n      <td>Western Pacific</td>\n      <td>Viet Nam</td>\n      <td>Wine</td>\n      <td>0.0</td>\n    </tr>\n    <tr>\n      <th>1</th>\n      <td>1986</td>\n      <td>Americas</td>\n      <td>Uruguay</td>\n      <td>Other</td>\n      <td>0.5</td>\n    </tr>\n  </tbody>\n</table>\n</div>"
     },
     "execution_count": 102,
     "metadata": {},
     "output_type": "execute_result"
    }
   ],
   "source": [
    "row_2= df.iloc[:2]\n",
    "row_2"
   ],
   "metadata": {
    "collapsed": false,
    "ExecuteTime": {
     "end_time": "2023-09-23T00:37:05.015046Z",
     "start_time": "2023-09-23T00:37:04.972051Z"
    }
   },
   "id": "d77db51fd4570692"
  },
  {
   "cell_type": "code",
   "execution_count": 110,
   "outputs": [
    {
     "data": {
      "text/plain": "      Year       WHO region\n0     1986  Western Pacific\n1     1986         Americas\n2     1985           Africa\n3     1986         Americas\n4     1987         Americas\n...    ...              ...\n3252  1984           Africa\n3253  1986  Western Pacific\n3254  1986           Europe\n3255  1987  Western Pacific\n3256  1986           Africa\n\n[3257 rows x 2 columns]",
      "text/html": "<div>\n<style scoped>\n    .dataframe tbody tr th:only-of-type {\n        vertical-align: middle;\n    }\n\n    .dataframe tbody tr th {\n        vertical-align: top;\n    }\n\n    .dataframe thead th {\n        text-align: right;\n    }\n</style>\n<table border=\"1\" class=\"dataframe\">\n  <thead>\n    <tr style=\"text-align: right;\">\n      <th></th>\n      <th>Year</th>\n      <th>WHO region</th>\n    </tr>\n  </thead>\n  <tbody>\n    <tr>\n      <th>0</th>\n      <td>1986</td>\n      <td>Western Pacific</td>\n    </tr>\n    <tr>\n      <th>1</th>\n      <td>1986</td>\n      <td>Americas</td>\n    </tr>\n    <tr>\n      <th>2</th>\n      <td>1985</td>\n      <td>Africa</td>\n    </tr>\n    <tr>\n      <th>3</th>\n      <td>1986</td>\n      <td>Americas</td>\n    </tr>\n    <tr>\n      <th>4</th>\n      <td>1987</td>\n      <td>Americas</td>\n    </tr>\n    <tr>\n      <th>...</th>\n      <td>...</td>\n      <td>...</td>\n    </tr>\n    <tr>\n      <th>3252</th>\n      <td>1984</td>\n      <td>Africa</td>\n    </tr>\n    <tr>\n      <th>3253</th>\n      <td>1986</td>\n      <td>Western Pacific</td>\n    </tr>\n    <tr>\n      <th>3254</th>\n      <td>1986</td>\n      <td>Europe</td>\n    </tr>\n    <tr>\n      <th>3255</th>\n      <td>1987</td>\n      <td>Western Pacific</td>\n    </tr>\n    <tr>\n      <th>3256</th>\n      <td>1986</td>\n      <td>Africa</td>\n    </tr>\n  </tbody>\n</table>\n<p>3257 rows × 2 columns</p>\n</div>"
     },
     "execution_count": 110,
     "metadata": {},
     "output_type": "execute_result"
    }
   ],
   "source": [
    "col_2 = df.iloc[:, :2]\n",
    "col_2"
   ],
   "metadata": {
    "collapsed": false,
    "ExecuteTime": {
     "end_time": "2023-09-23T00:39:15.014343Z",
     "start_time": "2023-09-23T00:39:14.924370Z"
    }
   },
   "id": "118756e12252360c"
  },
  {
   "cell_type": "code",
   "execution_count": 111,
   "outputs": [
    {
     "data": {
      "text/plain": "      Display Value  Year\n0              0.00  1986\n1              0.50  1986\n2              1.62  1985\n3              4.27  1986\n4              1.98  1987\n...             ...   ...\n3252           0.46  1984\n3253           0.05  1986\n3254           2.54  1986\n3255           0.00  1987\n3256           5.15  1986\n\n[3257 rows x 2 columns]",
      "text/html": "<div>\n<style scoped>\n    .dataframe tbody tr th:only-of-type {\n        vertical-align: middle;\n    }\n\n    .dataframe tbody tr th {\n        vertical-align: top;\n    }\n\n    .dataframe thead th {\n        text-align: right;\n    }\n</style>\n<table border=\"1\" class=\"dataframe\">\n  <thead>\n    <tr style=\"text-align: right;\">\n      <th></th>\n      <th>Display Value</th>\n      <th>Year</th>\n    </tr>\n  </thead>\n  <tbody>\n    <tr>\n      <th>0</th>\n      <td>0.00</td>\n      <td>1986</td>\n    </tr>\n    <tr>\n      <th>1</th>\n      <td>0.50</td>\n      <td>1986</td>\n    </tr>\n    <tr>\n      <th>2</th>\n      <td>1.62</td>\n      <td>1985</td>\n    </tr>\n    <tr>\n      <th>3</th>\n      <td>4.27</td>\n      <td>1986</td>\n    </tr>\n    <tr>\n      <th>4</th>\n      <td>1.98</td>\n      <td>1987</td>\n    </tr>\n    <tr>\n      <th>...</th>\n      <td>...</td>\n      <td>...</td>\n    </tr>\n    <tr>\n      <th>3252</th>\n      <td>0.46</td>\n      <td>1984</td>\n    </tr>\n    <tr>\n      <th>3253</th>\n      <td>0.05</td>\n      <td>1986</td>\n    </tr>\n    <tr>\n      <th>3254</th>\n      <td>2.54</td>\n      <td>1986</td>\n    </tr>\n    <tr>\n      <th>3255</th>\n      <td>0.00</td>\n      <td>1987</td>\n    </tr>\n    <tr>\n      <th>3256</th>\n      <td>5.15</td>\n      <td>1986</td>\n    </tr>\n  </tbody>\n</table>\n<p>3257 rows × 2 columns</p>\n</div>"
     },
     "execution_count": 111,
     "metadata": {},
     "output_type": "execute_result"
    }
   ],
   "source": [
    "first_col = df[['Display Value', 'Year']]\n",
    "first_col"
   ],
   "metadata": {
    "collapsed": false,
    "ExecuteTime": {
     "end_time": "2023-09-23T00:39:18.087736Z",
     "start_time": "2023-09-23T00:39:18.034451Z"
    }
   },
   "id": "28afcc6ccd889c09"
  },
  {
   "cell_type": "code",
   "execution_count": null,
   "outputs": [],
   "source": [
    "### Q:select random number of rows, fraction of random rows from World alcohol consumption dataset"
   ],
   "metadata": {
    "collapsed": false
   },
   "id": "bd081f3ebcf29ebb"
  },
  {
   "cell_type": "code",
   "execution_count": 112,
   "outputs": [
    {
     "data": {
      "text/plain": "      Year             WHO region            Country Beverage Types  \\\n2024  1985                 Africa  Equatorial Guinea        Spirits   \n124   1985                 Europe            Hungary        Spirits   \n575   1987  Eastern Mediterranean              Yemen          Other   \n1977  1987        Western Pacific           Malaysia          Other   \n9     1984                 Africa            Nigeria          Other   \n\n      Display Value  \n2024           0.00  \n124            7.01  \n575             NaN  \n1977            NaN  \n9              6.10  ",
      "text/html": "<div>\n<style scoped>\n    .dataframe tbody tr th:only-of-type {\n        vertical-align: middle;\n    }\n\n    .dataframe tbody tr th {\n        vertical-align: top;\n    }\n\n    .dataframe thead th {\n        text-align: right;\n    }\n</style>\n<table border=\"1\" class=\"dataframe\">\n  <thead>\n    <tr style=\"text-align: right;\">\n      <th></th>\n      <th>Year</th>\n      <th>WHO region</th>\n      <th>Country</th>\n      <th>Beverage Types</th>\n      <th>Display Value</th>\n    </tr>\n  </thead>\n  <tbody>\n    <tr>\n      <th>2024</th>\n      <td>1985</td>\n      <td>Africa</td>\n      <td>Equatorial Guinea</td>\n      <td>Spirits</td>\n      <td>0.00</td>\n    </tr>\n    <tr>\n      <th>124</th>\n      <td>1985</td>\n      <td>Europe</td>\n      <td>Hungary</td>\n      <td>Spirits</td>\n      <td>7.01</td>\n    </tr>\n    <tr>\n      <th>575</th>\n      <td>1987</td>\n      <td>Eastern Mediterranean</td>\n      <td>Yemen</td>\n      <td>Other</td>\n      <td>NaN</td>\n    </tr>\n    <tr>\n      <th>1977</th>\n      <td>1987</td>\n      <td>Western Pacific</td>\n      <td>Malaysia</td>\n      <td>Other</td>\n      <td>NaN</td>\n    </tr>\n    <tr>\n      <th>9</th>\n      <td>1984</td>\n      <td>Africa</td>\n      <td>Nigeria</td>\n      <td>Other</td>\n      <td>6.10</td>\n    </tr>\n  </tbody>\n</table>\n</div>"
     },
     "execution_count": 112,
     "metadata": {},
     "output_type": "execute_result"
    }
   ],
   "source": [
    "df.sample(5)"
   ],
   "metadata": {
    "collapsed": false,
    "ExecuteTime": {
     "end_time": "2023-09-23T00:41:28.664405Z",
     "start_time": "2023-09-23T00:41:28.625178Z"
    }
   },
   "id": "fd3f44b6567796f6"
  },
  {
   "cell_type": "code",
   "execution_count": 113,
   "outputs": [
    {
     "data": {
      "text/plain": "      Year             WHO region  \\\n558   1986               Americas   \n711   1989  Eastern Mediterranean   \n2359  1989  Eastern Mediterranean   \n1095  1987        South-East Asia   \n2749  1984  Eastern Mediterranean   \n...    ...                    ...   \n2164  1989                 Europe   \n1660  1984                 Africa   \n1357  1986                 Africa   \n3158  1987               Americas   \n466   1984                 Africa   \n\n                                                Country Beverage Types  \\\n558                                            Honduras           Wine   \n711                                            Pakistan        Spirits   \n2359                                             Kuwait          Other   \n1095                                             Bhutan           Beer   \n2749                                            Morocco          Other   \n...                                                 ...            ...   \n2164  United Kingdom of Great Britain and Northern I...        Spirits   \n1660                                             Gambia           Wine   \n1357                                              Congo           Beer   \n3158                                              Chile           Wine   \n466                                          Mozambique           Wine   \n\n      Display Value  \n558            0.02  \n711            0.00  \n2359            NaN  \n1095           0.46  \n2749           0.00  \n...             ...  \n2164           2.18  \n1660           0.14  \n1357           2.33  \n3158           5.41  \n466            0.01  \n\n[65 rows x 5 columns]",
      "text/html": "<div>\n<style scoped>\n    .dataframe tbody tr th:only-of-type {\n        vertical-align: middle;\n    }\n\n    .dataframe tbody tr th {\n        vertical-align: top;\n    }\n\n    .dataframe thead th {\n        text-align: right;\n    }\n</style>\n<table border=\"1\" class=\"dataframe\">\n  <thead>\n    <tr style=\"text-align: right;\">\n      <th></th>\n      <th>Year</th>\n      <th>WHO region</th>\n      <th>Country</th>\n      <th>Beverage Types</th>\n      <th>Display Value</th>\n    </tr>\n  </thead>\n  <tbody>\n    <tr>\n      <th>558</th>\n      <td>1986</td>\n      <td>Americas</td>\n      <td>Honduras</td>\n      <td>Wine</td>\n      <td>0.02</td>\n    </tr>\n    <tr>\n      <th>711</th>\n      <td>1989</td>\n      <td>Eastern Mediterranean</td>\n      <td>Pakistan</td>\n      <td>Spirits</td>\n      <td>0.00</td>\n    </tr>\n    <tr>\n      <th>2359</th>\n      <td>1989</td>\n      <td>Eastern Mediterranean</td>\n      <td>Kuwait</td>\n      <td>Other</td>\n      <td>NaN</td>\n    </tr>\n    <tr>\n      <th>1095</th>\n      <td>1987</td>\n      <td>South-East Asia</td>\n      <td>Bhutan</td>\n      <td>Beer</td>\n      <td>0.46</td>\n    </tr>\n    <tr>\n      <th>2749</th>\n      <td>1984</td>\n      <td>Eastern Mediterranean</td>\n      <td>Morocco</td>\n      <td>Other</td>\n      <td>0.00</td>\n    </tr>\n    <tr>\n      <th>...</th>\n      <td>...</td>\n      <td>...</td>\n      <td>...</td>\n      <td>...</td>\n      <td>...</td>\n    </tr>\n    <tr>\n      <th>2164</th>\n      <td>1989</td>\n      <td>Europe</td>\n      <td>United Kingdom of Great Britain and Northern I...</td>\n      <td>Spirits</td>\n      <td>2.18</td>\n    </tr>\n    <tr>\n      <th>1660</th>\n      <td>1984</td>\n      <td>Africa</td>\n      <td>Gambia</td>\n      <td>Wine</td>\n      <td>0.14</td>\n    </tr>\n    <tr>\n      <th>1357</th>\n      <td>1986</td>\n      <td>Africa</td>\n      <td>Congo</td>\n      <td>Beer</td>\n      <td>2.33</td>\n    </tr>\n    <tr>\n      <th>3158</th>\n      <td>1987</td>\n      <td>Americas</td>\n      <td>Chile</td>\n      <td>Wine</td>\n      <td>5.41</td>\n    </tr>\n    <tr>\n      <th>466</th>\n      <td>1984</td>\n      <td>Africa</td>\n      <td>Mozambique</td>\n      <td>Wine</td>\n      <td>0.01</td>\n    </tr>\n  </tbody>\n</table>\n<p>65 rows × 5 columns</p>\n</div>"
     },
     "execution_count": 113,
     "metadata": {},
     "output_type": "execute_result"
    }
   ],
   "source": [
    "df.sample(frac = 0.02)"
   ],
   "metadata": {
    "collapsed": false,
    "ExecuteTime": {
     "end_time": "2023-09-23T00:41:45.660666Z",
     "start_time": "2023-09-23T00:41:45.559425Z"
    }
   },
   "id": "35d09e72aa7a1528"
  },
  {
   "cell_type": "code",
   "execution_count": null,
   "outputs": [],
   "source": [
    "### Q:  find and drop the missing values"
   ],
   "metadata": {
    "collapsed": false
   },
   "id": "cba62b5122e111df"
  },
  {
   "cell_type": "code",
   "execution_count": null,
   "outputs": [],
   "source": [
    "df.isnull()\n",
    "df.dropna()"
   ],
   "metadata": {
    "collapsed": false
   },
   "id": "b55f5c0953c723b6"
  },
  {
   "cell_type": "code",
   "execution_count": null,
   "outputs": [],
   "source": [
    "### Q:remove the duplicates from 'WHO region' column "
   ],
   "metadata": {
    "collapsed": false
   },
   "id": "985f03a639113a95"
  },
  {
   "cell_type": "code",
   "execution_count": 115,
   "outputs": [
    {
     "data": {
      "text/plain": "    Year             WHO region       Country Beverage Types  Display Value\n0   1986        Western Pacific      Viet Nam           Wine           0.00\n1   1986               Americas       Uruguay          Other           0.50\n2   1985                 Africa  Cte d'Ivoire           Wine           1.62\n13  1984  Eastern Mediterranean   Afghanistan          Other           0.00\n18  1984                 Europe        Norway        Spirits           1.62\n20  1986        South-East Asia       Myanmar           Wine           0.00",
      "text/html": "<div>\n<style scoped>\n    .dataframe tbody tr th:only-of-type {\n        vertical-align: middle;\n    }\n\n    .dataframe tbody tr th {\n        vertical-align: top;\n    }\n\n    .dataframe thead th {\n        text-align: right;\n    }\n</style>\n<table border=\"1\" class=\"dataframe\">\n  <thead>\n    <tr style=\"text-align: right;\">\n      <th></th>\n      <th>Year</th>\n      <th>WHO region</th>\n      <th>Country</th>\n      <th>Beverage Types</th>\n      <th>Display Value</th>\n    </tr>\n  </thead>\n  <tbody>\n    <tr>\n      <th>0</th>\n      <td>1986</td>\n      <td>Western Pacific</td>\n      <td>Viet Nam</td>\n      <td>Wine</td>\n      <td>0.00</td>\n    </tr>\n    <tr>\n      <th>1</th>\n      <td>1986</td>\n      <td>Americas</td>\n      <td>Uruguay</td>\n      <td>Other</td>\n      <td>0.50</td>\n    </tr>\n    <tr>\n      <th>2</th>\n      <td>1985</td>\n      <td>Africa</td>\n      <td>Cte d'Ivoire</td>\n      <td>Wine</td>\n      <td>1.62</td>\n    </tr>\n    <tr>\n      <th>13</th>\n      <td>1984</td>\n      <td>Eastern Mediterranean</td>\n      <td>Afghanistan</td>\n      <td>Other</td>\n      <td>0.00</td>\n    </tr>\n    <tr>\n      <th>18</th>\n      <td>1984</td>\n      <td>Europe</td>\n      <td>Norway</td>\n      <td>Spirits</td>\n      <td>1.62</td>\n    </tr>\n    <tr>\n      <th>20</th>\n      <td>1986</td>\n      <td>South-East Asia</td>\n      <td>Myanmar</td>\n      <td>Wine</td>\n      <td>0.00</td>\n    </tr>\n  </tbody>\n</table>\n</div>"
     },
     "execution_count": 115,
     "metadata": {},
     "output_type": "execute_result"
    }
   ],
   "source": [
    "f4 = df.drop_duplicates('WHO region')\n",
    "f4"
   ],
   "metadata": {
    "collapsed": false,
    "ExecuteTime": {
     "end_time": "2023-09-23T00:44:40.335890Z",
     "start_time": "2023-09-23T00:44:40.334354Z"
    }
   },
   "id": "d93e808a6a074180"
  },
  {
   "cell_type": "code",
   "execution_count": null,
   "outputs": [],
   "source": [
    "### Q: find out the alcohol consumption of a given year"
   ],
   "metadata": {
    "collapsed": false
   },
   "id": "4ead6796ca40c8d4"
  },
  {
   "cell_type": "code",
   "execution_count": 116,
   "outputs": [
    {
     "data": {
      "text/plain": "      Year       WHO region                           Country Beverage Types  \\\n2     1985           Africa                      Cte d'Ivoire           Wine   \n7     1985           Africa                            Angola        Spirits   \n12    1985  Western Pacific  Lao People's Democratic Republic           Beer   \n14    1985  Western Pacific                          Viet Nam        Spirits   \n24    1985           Africa                           Comoros          Other   \n...    ...              ...                               ...            ...   \n3197  1985           Africa                 Equatorial Guinea           Beer   \n3217  1985           Africa                           Lesotho           Beer   \n3225  1985  Western Pacific                         Singapore        Spirits   \n3243  1985           Europe                          Slovakia           Wine   \n3245  1985  South-East Asia                             India        Spirits   \n\n      Display Value  \n2              1.62  \n7              0.39  \n12             0.00  \n14             0.05  \n24              NaN  \n...             ...  \n3197           0.25  \n3217           1.07  \n3225           0.64  \n3243           2.60  \n3245           1.24  \n\n[650 rows x 5 columns]",
      "text/html": "<div>\n<style scoped>\n    .dataframe tbody tr th:only-of-type {\n        vertical-align: middle;\n    }\n\n    .dataframe tbody tr th {\n        vertical-align: top;\n    }\n\n    .dataframe thead th {\n        text-align: right;\n    }\n</style>\n<table border=\"1\" class=\"dataframe\">\n  <thead>\n    <tr style=\"text-align: right;\">\n      <th></th>\n      <th>Year</th>\n      <th>WHO region</th>\n      <th>Country</th>\n      <th>Beverage Types</th>\n      <th>Display Value</th>\n    </tr>\n  </thead>\n  <tbody>\n    <tr>\n      <th>2</th>\n      <td>1985</td>\n      <td>Africa</td>\n      <td>Cte d'Ivoire</td>\n      <td>Wine</td>\n      <td>1.62</td>\n    </tr>\n    <tr>\n      <th>7</th>\n      <td>1985</td>\n      <td>Africa</td>\n      <td>Angola</td>\n      <td>Spirits</td>\n      <td>0.39</td>\n    </tr>\n    <tr>\n      <th>12</th>\n      <td>1985</td>\n      <td>Western Pacific</td>\n      <td>Lao People's Democratic Republic</td>\n      <td>Beer</td>\n      <td>0.00</td>\n    </tr>\n    <tr>\n      <th>14</th>\n      <td>1985</td>\n      <td>Western Pacific</td>\n      <td>Viet Nam</td>\n      <td>Spirits</td>\n      <td>0.05</td>\n    </tr>\n    <tr>\n      <th>24</th>\n      <td>1985</td>\n      <td>Africa</td>\n      <td>Comoros</td>\n      <td>Other</td>\n      <td>NaN</td>\n    </tr>\n    <tr>\n      <th>...</th>\n      <td>...</td>\n      <td>...</td>\n      <td>...</td>\n      <td>...</td>\n      <td>...</td>\n    </tr>\n    <tr>\n      <th>3197</th>\n      <td>1985</td>\n      <td>Africa</td>\n      <td>Equatorial Guinea</td>\n      <td>Beer</td>\n      <td>0.25</td>\n    </tr>\n    <tr>\n      <th>3217</th>\n      <td>1985</td>\n      <td>Africa</td>\n      <td>Lesotho</td>\n      <td>Beer</td>\n      <td>1.07</td>\n    </tr>\n    <tr>\n      <th>3225</th>\n      <td>1985</td>\n      <td>Western Pacific</td>\n      <td>Singapore</td>\n      <td>Spirits</td>\n      <td>0.64</td>\n    </tr>\n    <tr>\n      <th>3243</th>\n      <td>1985</td>\n      <td>Europe</td>\n      <td>Slovakia</td>\n      <td>Wine</td>\n      <td>2.60</td>\n    </tr>\n    <tr>\n      <th>3245</th>\n      <td>1985</td>\n      <td>South-East Asia</td>\n      <td>India</td>\n      <td>Spirits</td>\n      <td>1.24</td>\n    </tr>\n  </tbody>\n</table>\n<p>650 rows × 5 columns</p>\n</div>"
     },
     "execution_count": 116,
     "metadata": {},
     "output_type": "execute_result"
    }
   ],
   "source": [
    "f5 = df[df['Year'] == 1985]\n",
    "f5"
   ],
   "metadata": {
    "collapsed": false,
    "ExecuteTime": {
     "end_time": "2023-09-23T00:45:55.430359Z",
     "start_time": "2023-09-23T00:45:55.202983Z"
    }
   },
   "id": "847951b15a8b230f"
  },
  {
   "cell_type": "code",
   "execution_count": 116,
   "outputs": [],
   "source": [
    "### Q: find out the alcohol consumption details in the year '1987' or '1989'"
   ],
   "metadata": {
    "collapsed": false,
    "ExecuteTime": {
     "end_time": "2023-09-23T00:45:55.640502Z",
     "start_time": "2023-09-23T00:45:55.544528Z"
    }
   },
   "id": "721356886455e1d9"
  },
  {
   "cell_type": "code",
   "execution_count": null,
   "outputs": [],
   "source": [],
   "metadata": {
    "collapsed": false
   },
   "id": "3249707497a36cc6"
  },
  {
   "cell_type": "code",
   "execution_count": 125,
   "outputs": [
    {
     "data": {
      "text/plain": "      Year       WHO region                Country Beverage Types  \\\n4     1987         Americas  Saint Kitts and Nevis           Beer   \n5     1987         Americas              Guatemala          Other   \n6     1987           Africa              Mauritius           Wine   \n10    1987           Africa               Botswana           Wine   \n11    1989         Americas              Guatemala           Beer   \n...    ...              ...                    ...            ...   \n3237  1987         Americas                 Canada          Other   \n3246  1989           Europe                 Poland           Beer   \n3249  1989           Europe                 Turkey          Other   \n3250  1987           Europe                Iceland          Other   \n3255  1987  Western Pacific       Papua New Guinea          Other   \n\n      Display Value  \n4              1.98  \n5              0.00  \n6              0.13  \n10             0.20  \n11             0.62  \n...             ...  \n3237            NaN  \n3246           2.03  \n3249           0.00  \n3250           0.01  \n3255           0.00  \n\n[1310 rows x 5 columns]",
      "text/html": "<div>\n<style scoped>\n    .dataframe tbody tr th:only-of-type {\n        vertical-align: middle;\n    }\n\n    .dataframe tbody tr th {\n        vertical-align: top;\n    }\n\n    .dataframe thead th {\n        text-align: right;\n    }\n</style>\n<table border=\"1\" class=\"dataframe\">\n  <thead>\n    <tr style=\"text-align: right;\">\n      <th></th>\n      <th>Year</th>\n      <th>WHO region</th>\n      <th>Country</th>\n      <th>Beverage Types</th>\n      <th>Display Value</th>\n    </tr>\n  </thead>\n  <tbody>\n    <tr>\n      <th>4</th>\n      <td>1987</td>\n      <td>Americas</td>\n      <td>Saint Kitts and Nevis</td>\n      <td>Beer</td>\n      <td>1.98</td>\n    </tr>\n    <tr>\n      <th>5</th>\n      <td>1987</td>\n      <td>Americas</td>\n      <td>Guatemala</td>\n      <td>Other</td>\n      <td>0.00</td>\n    </tr>\n    <tr>\n      <th>6</th>\n      <td>1987</td>\n      <td>Africa</td>\n      <td>Mauritius</td>\n      <td>Wine</td>\n      <td>0.13</td>\n    </tr>\n    <tr>\n      <th>10</th>\n      <td>1987</td>\n      <td>Africa</td>\n      <td>Botswana</td>\n      <td>Wine</td>\n      <td>0.20</td>\n    </tr>\n    <tr>\n      <th>11</th>\n      <td>1989</td>\n      <td>Americas</td>\n      <td>Guatemala</td>\n      <td>Beer</td>\n      <td>0.62</td>\n    </tr>\n    <tr>\n      <th>...</th>\n      <td>...</td>\n      <td>...</td>\n      <td>...</td>\n      <td>...</td>\n      <td>...</td>\n    </tr>\n    <tr>\n      <th>3237</th>\n      <td>1987</td>\n      <td>Americas</td>\n      <td>Canada</td>\n      <td>Other</td>\n      <td>NaN</td>\n    </tr>\n    <tr>\n      <th>3246</th>\n      <td>1989</td>\n      <td>Europe</td>\n      <td>Poland</td>\n      <td>Beer</td>\n      <td>2.03</td>\n    </tr>\n    <tr>\n      <th>3249</th>\n      <td>1989</td>\n      <td>Europe</td>\n      <td>Turkey</td>\n      <td>Other</td>\n      <td>0.00</td>\n    </tr>\n    <tr>\n      <th>3250</th>\n      <td>1987</td>\n      <td>Europe</td>\n      <td>Iceland</td>\n      <td>Other</td>\n      <td>0.01</td>\n    </tr>\n    <tr>\n      <th>3255</th>\n      <td>1987</td>\n      <td>Western Pacific</td>\n      <td>Papua New Guinea</td>\n      <td>Other</td>\n      <td>0.00</td>\n    </tr>\n  </tbody>\n</table>\n<p>1310 rows × 5 columns</p>\n</div>"
     },
     "execution_count": 125,
     "metadata": {},
     "output_type": "execute_result"
    }
   ],
   "source": [
    "\n",
    "f6 = df[(df['Year']==1987) | (df['Year']==1989)]\n",
    "\n",
    "f6"
   ],
   "metadata": {
    "collapsed": false,
    "ExecuteTime": {
     "end_time": "2023-09-23T00:52:58.759669Z",
     "start_time": "2023-09-23T00:52:58.699609Z"
    }
   },
   "id": "11c5df2d9ab7f193"
  },
  {
   "cell_type": "code",
   "execution_count": null,
   "outputs": [],
   "source": [
    "### Q: find out the 'WHO region, 'Country', 'Beverage Types' in the year '1986' or '1989' where WHO region is 'Americas' or 'Europe' from the world alcohol consumption dataset"
   ],
   "metadata": {
    "collapsed": false
   },
   "id": "66dbe34664dd459e"
  },
  {
   "cell_type": "code",
   "execution_count": 132,
   "outputs": [
    {
     "data": {
      "text/plain": "   WHO region              Country Beverage Types\n1    Americas              Uruguay          Other\n3    Americas             Colombia           Beer\n8    Americas  Antigua and Barbuda        Spirits\n11   Americas            Guatemala           Beer\n21   Americas           Costa Rica        Spirits",
      "text/html": "<div>\n<style scoped>\n    .dataframe tbody tr th:only-of-type {\n        vertical-align: middle;\n    }\n\n    .dataframe tbody tr th {\n        vertical-align: top;\n    }\n\n    .dataframe thead th {\n        text-align: right;\n    }\n</style>\n<table border=\"1\" class=\"dataframe\">\n  <thead>\n    <tr style=\"text-align: right;\">\n      <th></th>\n      <th>WHO region</th>\n      <th>Country</th>\n      <th>Beverage Types</th>\n    </tr>\n  </thead>\n  <tbody>\n    <tr>\n      <th>1</th>\n      <td>Americas</td>\n      <td>Uruguay</td>\n      <td>Other</td>\n    </tr>\n    <tr>\n      <th>3</th>\n      <td>Americas</td>\n      <td>Colombia</td>\n      <td>Beer</td>\n    </tr>\n    <tr>\n      <th>8</th>\n      <td>Americas</td>\n      <td>Antigua and Barbuda</td>\n      <td>Spirits</td>\n    </tr>\n    <tr>\n      <th>11</th>\n      <td>Americas</td>\n      <td>Guatemala</td>\n      <td>Beer</td>\n    </tr>\n    <tr>\n      <th>21</th>\n      <td>Americas</td>\n      <td>Costa Rica</td>\n      <td>Spirits</td>\n    </tr>\n  </tbody>\n</table>\n</div>"
     },
     "execution_count": 132,
     "metadata": {},
     "output_type": "execute_result"
    }
   ],
   "source": [
    "f7 = df[((df['Year'] == 1986) | (df['Year'] == 1989))&((df['WHO region'] == 'Americas')| (df['WHO region'] == 'Europe'))][['WHO region','Country','Beverage Types']].head()\n",
    "\n",
    "\n",
    "f7.head()"
   ],
   "metadata": {
    "collapsed": false,
    "ExecuteTime": {
     "end_time": "2023-09-23T01:15:49.727202Z",
     "start_time": "2023-09-23T01:15:49.634856Z"
    }
   },
   "id": "1f96377879d155f4"
  },
  {
   "cell_type": "code",
   "execution_count": null,
   "outputs": [],
   "source": [
    "### Q: filter the specified columns and records by range"
   ],
   "metadata": {
    "collapsed": false
   },
   "id": "76031aead45ff9dd"
  },
  {
   "cell_type": "code",
   "execution_count": 135,
   "outputs": [
    {
     "data": {
      "text/plain": "        WHO region Beverage Types\n0  Western Pacific           Wine\n1         Americas          Other\n2           Africa           Wine\n3         Americas           Beer\n4         Americas           Beer",
      "text/html": "<div>\n<style scoped>\n    .dataframe tbody tr th:only-of-type {\n        vertical-align: middle;\n    }\n\n    .dataframe tbody tr th {\n        vertical-align: top;\n    }\n\n    .dataframe thead th {\n        text-align: right;\n    }\n</style>\n<table border=\"1\" class=\"dataframe\">\n  <thead>\n    <tr style=\"text-align: right;\">\n      <th></th>\n      <th>WHO region</th>\n      <th>Beverage Types</th>\n    </tr>\n  </thead>\n  <tbody>\n    <tr>\n      <th>0</th>\n      <td>Western Pacific</td>\n      <td>Wine</td>\n    </tr>\n    <tr>\n      <th>1</th>\n      <td>Americas</td>\n      <td>Other</td>\n    </tr>\n    <tr>\n      <th>2</th>\n      <td>Africa</td>\n      <td>Wine</td>\n    </tr>\n    <tr>\n      <th>3</th>\n      <td>Americas</td>\n      <td>Beer</td>\n    </tr>\n    <tr>\n      <th>4</th>\n      <td>Americas</td>\n      <td>Beer</td>\n    </tr>\n  </tbody>\n</table>\n</div>"
     },
     "execution_count": 135,
     "metadata": {},
     "output_type": "execute_result"
    }
   ],
   "source": [
    "f8 = df.loc[0:4, [\"WHO region\", \"Beverage Types\"]]\n",
    "f8\n",
    "\n"
   ],
   "metadata": {
    "collapsed": false,
    "ExecuteTime": {
     "end_time": "2023-09-23T01:28:49.207966Z",
     "start_time": "2023-09-23T01:28:49.118827Z"
    }
   },
   "id": "b89c827c4b4da5ce"
  },
  {
   "cell_type": "code",
   "execution_count": 137,
   "outputs": [
    {
     "data": {
      "text/plain": "        WHO region Beverage Types\n0  Western Pacific           Wine\n1         Americas          Other\n2           Africa           Wine\n3         Americas           Beer\n4         Americas           Beer",
      "text/html": "<div>\n<style scoped>\n    .dataframe tbody tr th:only-of-type {\n        vertical-align: middle;\n    }\n\n    .dataframe tbody tr th {\n        vertical-align: top;\n    }\n\n    .dataframe thead th {\n        text-align: right;\n    }\n</style>\n<table border=\"1\" class=\"dataframe\">\n  <thead>\n    <tr style=\"text-align: right;\">\n      <th></th>\n      <th>WHO region</th>\n      <th>Beverage Types</th>\n    </tr>\n  </thead>\n  <tbody>\n    <tr>\n      <th>0</th>\n      <td>Western Pacific</td>\n      <td>Wine</td>\n    </tr>\n    <tr>\n      <th>1</th>\n      <td>Americas</td>\n      <td>Other</td>\n    </tr>\n    <tr>\n      <th>2</th>\n      <td>Africa</td>\n      <td>Wine</td>\n    </tr>\n    <tr>\n      <th>3</th>\n      <td>Americas</td>\n      <td>Beer</td>\n    </tr>\n    <tr>\n      <th>4</th>\n      <td>Americas</td>\n      <td>Beer</td>\n    </tr>\n  </tbody>\n</table>\n</div>"
     },
     "execution_count": 137,
     "metadata": {},
     "output_type": "execute_result"
    }
   ],
   "source": [
    "# or consider .iloc\n",
    "# but index of iloc[:x], x --> x-1\n",
    "f8 = df.iloc[0:5, [1, 3]]\n",
    "f8"
   ],
   "metadata": {
    "collapsed": false,
    "ExecuteTime": {
     "end_time": "2023-09-23T01:29:15.082408Z",
     "start_time": "2023-09-23T01:29:15.015566Z"
    }
   },
   "id": "c39d6ffa0d8e4a26"
  },
  {
   "cell_type": "code",
   "execution_count": null,
   "outputs": [],
   "source": [
    "### Q:  filter those records where WHO region contains \"Ea\" \n"
   ],
   "metadata": {
    "collapsed": false
   },
   "id": "f220793bfb0027c2"
  },
  {
   "cell_type": "code",
   "execution_count": 139,
   "outputs": [
    {
     "data": {
      "text/plain": "      Year             WHO region                                Country  \\\n13    1984  Eastern Mediterranean                            Afghanistan   \n20    1986        South-East Asia                                Myanmar   \n25    1984  Eastern Mediterranean                                Tunisia   \n27    1984  Eastern Mediterranean                                Bahrain   \n36    1987  Eastern Mediterranean                                  Egypt   \n...    ...                    ...                                    ...   \n3223  1984        South-East Asia  Democratic People's Republic of Korea   \n3231  1989  Eastern Mediterranean                                Morocco   \n3241  1984  Eastern Mediterranean                               Djibouti   \n3244  1986  Eastern Mediterranean                   United Arab Emirates   \n3245  1985        South-East Asia                                  India   \n\n     Beverage Types  Display Value  \n13            Other           0.00  \n20             Wine           0.00  \n25            Other           0.00  \n27             Beer           2.22  \n36             Beer           0.07  \n...             ...            ...  \n3223           Beer           0.37  \n3231        Spirits           0.07  \n3241           Wine           0.51  \n3244          Other           0.00  \n3245        Spirits           1.24  \n\n[600 rows x 5 columns]",
      "text/html": "<div>\n<style scoped>\n    .dataframe tbody tr th:only-of-type {\n        vertical-align: middle;\n    }\n\n    .dataframe tbody tr th {\n        vertical-align: top;\n    }\n\n    .dataframe thead th {\n        text-align: right;\n    }\n</style>\n<table border=\"1\" class=\"dataframe\">\n  <thead>\n    <tr style=\"text-align: right;\">\n      <th></th>\n      <th>Year</th>\n      <th>WHO region</th>\n      <th>Country</th>\n      <th>Beverage Types</th>\n      <th>Display Value</th>\n    </tr>\n  </thead>\n  <tbody>\n    <tr>\n      <th>13</th>\n      <td>1984</td>\n      <td>Eastern Mediterranean</td>\n      <td>Afghanistan</td>\n      <td>Other</td>\n      <td>0.00</td>\n    </tr>\n    <tr>\n      <th>20</th>\n      <td>1986</td>\n      <td>South-East Asia</td>\n      <td>Myanmar</td>\n      <td>Wine</td>\n      <td>0.00</td>\n    </tr>\n    <tr>\n      <th>25</th>\n      <td>1984</td>\n      <td>Eastern Mediterranean</td>\n      <td>Tunisia</td>\n      <td>Other</td>\n      <td>0.00</td>\n    </tr>\n    <tr>\n      <th>27</th>\n      <td>1984</td>\n      <td>Eastern Mediterranean</td>\n      <td>Bahrain</td>\n      <td>Beer</td>\n      <td>2.22</td>\n    </tr>\n    <tr>\n      <th>36</th>\n      <td>1987</td>\n      <td>Eastern Mediterranean</td>\n      <td>Egypt</td>\n      <td>Beer</td>\n      <td>0.07</td>\n    </tr>\n    <tr>\n      <th>...</th>\n      <td>...</td>\n      <td>...</td>\n      <td>...</td>\n      <td>...</td>\n      <td>...</td>\n    </tr>\n    <tr>\n      <th>3223</th>\n      <td>1984</td>\n      <td>South-East Asia</td>\n      <td>Democratic People's Republic of Korea</td>\n      <td>Beer</td>\n      <td>0.37</td>\n    </tr>\n    <tr>\n      <th>3231</th>\n      <td>1989</td>\n      <td>Eastern Mediterranean</td>\n      <td>Morocco</td>\n      <td>Spirits</td>\n      <td>0.07</td>\n    </tr>\n    <tr>\n      <th>3241</th>\n      <td>1984</td>\n      <td>Eastern Mediterranean</td>\n      <td>Djibouti</td>\n      <td>Wine</td>\n      <td>0.51</td>\n    </tr>\n    <tr>\n      <th>3244</th>\n      <td>1986</td>\n      <td>Eastern Mediterranean</td>\n      <td>United Arab Emirates</td>\n      <td>Other</td>\n      <td>0.00</td>\n    </tr>\n    <tr>\n      <th>3245</th>\n      <td>1985</td>\n      <td>South-East Asia</td>\n      <td>India</td>\n      <td>Spirits</td>\n      <td>1.24</td>\n    </tr>\n  </tbody>\n</table>\n<p>600 rows × 5 columns</p>\n</div>"
     },
     "execution_count": 139,
     "metadata": {},
     "output_type": "execute_result"
    }
   ],
   "source": [
    "f9 = df[df['WHO region'].str.contains(\"Ea\")]\n",
    "f9"
   ],
   "metadata": {
    "collapsed": false,
    "ExecuteTime": {
     "end_time": "2023-09-23T01:32:02.889195Z",
     "start_time": "2023-09-23T01:32:02.833884Z"
    }
   },
   "id": "6a04c723bb8f08c1"
  },
  {
   "cell_type": "code",
   "execution_count": null,
   "outputs": [],
   "source": [
    "### Q: filter records where WHO region is in Africa, Eastern Mediterranean, Europe"
   ],
   "metadata": {
    "collapsed": false
   },
   "id": "7afdb0f4daf9b9ed"
  },
  {
   "cell_type": "code",
   "execution_count": 145,
   "outputs": [
    {
     "data": {
      "text/plain": "      Year WHO region                   Country Beverage Types  Display Value\n2     1985     Africa              Cte d'Ivoire           Wine           1.62\n6     1987     Africa                 Mauritius           Wine           0.13\n7     1985     Africa                    Angola        Spirits           0.39\n9     1984     Africa                   Nigeria          Other           6.10\n10    1987     Africa                  Botswana           Wine           0.20\n...    ...        ...                       ...            ...            ...\n3250  1987     Europe                   Iceland          Other           0.01\n3251  1984     Africa                    Angola           Wine           0.57\n3252  1984     Africa  Central African Republic           Wine           0.46\n3254  1986     Europe               Switzerland        Spirits           2.54\n3256  1986     Africa                 Swaziland          Other           5.15\n\n[2059 rows x 5 columns]",
      "text/html": "<div>\n<style scoped>\n    .dataframe tbody tr th:only-of-type {\n        vertical-align: middle;\n    }\n\n    .dataframe tbody tr th {\n        vertical-align: top;\n    }\n\n    .dataframe thead th {\n        text-align: right;\n    }\n</style>\n<table border=\"1\" class=\"dataframe\">\n  <thead>\n    <tr style=\"text-align: right;\">\n      <th></th>\n      <th>Year</th>\n      <th>WHO region</th>\n      <th>Country</th>\n      <th>Beverage Types</th>\n      <th>Display Value</th>\n    </tr>\n  </thead>\n  <tbody>\n    <tr>\n      <th>2</th>\n      <td>1985</td>\n      <td>Africa</td>\n      <td>Cte d'Ivoire</td>\n      <td>Wine</td>\n      <td>1.62</td>\n    </tr>\n    <tr>\n      <th>6</th>\n      <td>1987</td>\n      <td>Africa</td>\n      <td>Mauritius</td>\n      <td>Wine</td>\n      <td>0.13</td>\n    </tr>\n    <tr>\n      <th>7</th>\n      <td>1985</td>\n      <td>Africa</td>\n      <td>Angola</td>\n      <td>Spirits</td>\n      <td>0.39</td>\n    </tr>\n    <tr>\n      <th>9</th>\n      <td>1984</td>\n      <td>Africa</td>\n      <td>Nigeria</td>\n      <td>Other</td>\n      <td>6.10</td>\n    </tr>\n    <tr>\n      <th>10</th>\n      <td>1987</td>\n      <td>Africa</td>\n      <td>Botswana</td>\n      <td>Wine</td>\n      <td>0.20</td>\n    </tr>\n    <tr>\n      <th>...</th>\n      <td>...</td>\n      <td>...</td>\n      <td>...</td>\n      <td>...</td>\n      <td>...</td>\n    </tr>\n    <tr>\n      <th>3250</th>\n      <td>1987</td>\n      <td>Europe</td>\n      <td>Iceland</td>\n      <td>Other</td>\n      <td>0.01</td>\n    </tr>\n    <tr>\n      <th>3251</th>\n      <td>1984</td>\n      <td>Africa</td>\n      <td>Angola</td>\n      <td>Wine</td>\n      <td>0.57</td>\n    </tr>\n    <tr>\n      <th>3252</th>\n      <td>1984</td>\n      <td>Africa</td>\n      <td>Central African Republic</td>\n      <td>Wine</td>\n      <td>0.46</td>\n    </tr>\n    <tr>\n      <th>3254</th>\n      <td>1986</td>\n      <td>Europe</td>\n      <td>Switzerland</td>\n      <td>Spirits</td>\n      <td>2.54</td>\n    </tr>\n    <tr>\n      <th>3256</th>\n      <td>1986</td>\n      <td>Africa</td>\n      <td>Swaziland</td>\n      <td>Other</td>\n      <td>5.15</td>\n    </tr>\n  </tbody>\n</table>\n<p>2059 rows × 5 columns</p>\n</div>"
     },
     "execution_count": 145,
     "metadata": {},
     "output_type": "execute_result"
    }
   ],
   "source": [
    "f10 = df[df['WHO region'].isin(['Africa', 'Eastern Mediterranean', 'Europe'])]\n",
    "f10"
   ],
   "metadata": {
    "collapsed": false,
    "ExecuteTime": {
     "end_time": "2023-09-23T01:35:16.191797Z",
     "start_time": "2023-09-23T01:35:16.135455Z"
    }
   },
   "id": "471e2d16fa7e3df2"
  },
  {
   "cell_type": "code",
   "execution_count": null,
   "outputs": [],
   "source": [
    "### Q:  filter those records which not appears in a given list "
   ],
   "metadata": {
    "collapsed": false
   },
   "id": "784fd801b2980f36"
  },
  {
   "cell_type": "code",
   "execution_count": 147,
   "outputs": [
    {
     "data": {
      "text/plain": "      Year       WHO region                Country Beverage Types  \\\n0     1986  Western Pacific               Viet Nam           Wine   \n1     1986         Americas                Uruguay          Other   \n3     1986         Americas               Colombia           Beer   \n4     1987         Americas  Saint Kitts and Nevis           Beer   \n5     1987         Americas              Guatemala          Other   \n...    ...              ...                    ...            ...   \n3238  1984  Western Pacific                   Fiji           Wine   \n3239  1986  Western Pacific               Viet Nam        Spirits   \n3245  1985  South-East Asia                  India        Spirits   \n3253  1986  Western Pacific                   Fiji        Spirits   \n3255  1987  Western Pacific       Papua New Guinea          Other   \n\n      Display Value  \n0              0.00  \n1              0.50  \n3              4.27  \n4              1.98  \n5              0.00  \n...             ...  \n3238           0.13  \n3239           0.05  \n3245           1.24  \n3253           0.05  \n3255           0.00  \n\n[1198 rows x 5 columns]",
      "text/html": "<div>\n<style scoped>\n    .dataframe tbody tr th:only-of-type {\n        vertical-align: middle;\n    }\n\n    .dataframe tbody tr th {\n        vertical-align: top;\n    }\n\n    .dataframe thead th {\n        text-align: right;\n    }\n</style>\n<table border=\"1\" class=\"dataframe\">\n  <thead>\n    <tr style=\"text-align: right;\">\n      <th></th>\n      <th>Year</th>\n      <th>WHO region</th>\n      <th>Country</th>\n      <th>Beverage Types</th>\n      <th>Display Value</th>\n    </tr>\n  </thead>\n  <tbody>\n    <tr>\n      <th>0</th>\n      <td>1986</td>\n      <td>Western Pacific</td>\n      <td>Viet Nam</td>\n      <td>Wine</td>\n      <td>0.00</td>\n    </tr>\n    <tr>\n      <th>1</th>\n      <td>1986</td>\n      <td>Americas</td>\n      <td>Uruguay</td>\n      <td>Other</td>\n      <td>0.50</td>\n    </tr>\n    <tr>\n      <th>3</th>\n      <td>1986</td>\n      <td>Americas</td>\n      <td>Colombia</td>\n      <td>Beer</td>\n      <td>4.27</td>\n    </tr>\n    <tr>\n      <th>4</th>\n      <td>1987</td>\n      <td>Americas</td>\n      <td>Saint Kitts and Nevis</td>\n      <td>Beer</td>\n      <td>1.98</td>\n    </tr>\n    <tr>\n      <th>5</th>\n      <td>1987</td>\n      <td>Americas</td>\n      <td>Guatemala</td>\n      <td>Other</td>\n      <td>0.00</td>\n    </tr>\n    <tr>\n      <th>...</th>\n      <td>...</td>\n      <td>...</td>\n      <td>...</td>\n      <td>...</td>\n      <td>...</td>\n    </tr>\n    <tr>\n      <th>3238</th>\n      <td>1984</td>\n      <td>Western Pacific</td>\n      <td>Fiji</td>\n      <td>Wine</td>\n      <td>0.13</td>\n    </tr>\n    <tr>\n      <th>3239</th>\n      <td>1986</td>\n      <td>Western Pacific</td>\n      <td>Viet Nam</td>\n      <td>Spirits</td>\n      <td>0.05</td>\n    </tr>\n    <tr>\n      <th>3245</th>\n      <td>1985</td>\n      <td>South-East Asia</td>\n      <td>India</td>\n      <td>Spirits</td>\n      <td>1.24</td>\n    </tr>\n    <tr>\n      <th>3253</th>\n      <td>1986</td>\n      <td>Western Pacific</td>\n      <td>Fiji</td>\n      <td>Spirits</td>\n      <td>0.05</td>\n    </tr>\n    <tr>\n      <th>3255</th>\n      <td>1987</td>\n      <td>Western Pacific</td>\n      <td>Papua New Guinea</td>\n      <td>Other</td>\n      <td>0.00</td>\n    </tr>\n  </tbody>\n</table>\n<p>1198 rows × 5 columns</p>\n</div>"
     },
     "execution_count": 147,
     "metadata": {},
     "output_type": "execute_result"
    }
   ],
   "source": [
    "who_region = [\"Africa\", \"Eastern Mediterranean\", \"Europe\"]\n",
    "f11 =  df[~df[\"WHO region\"].isin(who_region)]\n",
    "f11"
   ],
   "metadata": {
    "collapsed": false,
    "ExecuteTime": {
     "end_time": "2023-09-23T01:37:00.440541Z",
     "start_time": "2023-09-23T01:37:00.340523Z"
    }
   },
   "id": "143e774444d9c501"
  },
  {
   "cell_type": "code",
   "execution_count": null,
   "outputs": [],
   "source": [
    "### Q: filter all records where the average consumption of beverages per person from .5 to 2.50"
   ],
   "metadata": {
    "collapsed": false
   },
   "id": "9b6ea48edd0a9895"
  },
  {
   "cell_type": "code",
   "execution_count": 150,
   "outputs": [
    {
     "data": {
      "text/plain": "      Year             WHO region                Country Beverage Types  \\\n2     1985                 Africa           Cte d'Ivoire           Wine   \n4     1987               Americas  Saint Kitts and Nevis           Beer   \n8     1986               Americas    Antigua and Barbuda        Spirits   \n11    1989               Americas              Guatemala           Beer   \n17    1989                 Africa             Seychelles           Beer   \n...    ...                    ...                    ...            ...   \n3236  1986                 Africa             Seychelles           Beer   \n3241  1984  Eastern Mediterranean               Djibouti           Wine   \n3245  1985        South-East Asia                  India        Spirits   \n3246  1989                 Europe                 Poland           Beer   \n3251  1984                 Africa                 Angola           Wine   \n\n      Display Value  \n2              1.62  \n4              1.98  \n8              1.55  \n11             0.62  \n17             2.23  \n...             ...  \n3236           2.16  \n3241           0.51  \n3245           1.24  \n3246           2.03  \n3251           0.57  \n\n[802 rows x 5 columns]",
      "text/html": "<div>\n<style scoped>\n    .dataframe tbody tr th:only-of-type {\n        vertical-align: middle;\n    }\n\n    .dataframe tbody tr th {\n        vertical-align: top;\n    }\n\n    .dataframe thead th {\n        text-align: right;\n    }\n</style>\n<table border=\"1\" class=\"dataframe\">\n  <thead>\n    <tr style=\"text-align: right;\">\n      <th></th>\n      <th>Year</th>\n      <th>WHO region</th>\n      <th>Country</th>\n      <th>Beverage Types</th>\n      <th>Display Value</th>\n    </tr>\n  </thead>\n  <tbody>\n    <tr>\n      <th>2</th>\n      <td>1985</td>\n      <td>Africa</td>\n      <td>Cte d'Ivoire</td>\n      <td>Wine</td>\n      <td>1.62</td>\n    </tr>\n    <tr>\n      <th>4</th>\n      <td>1987</td>\n      <td>Americas</td>\n      <td>Saint Kitts and Nevis</td>\n      <td>Beer</td>\n      <td>1.98</td>\n    </tr>\n    <tr>\n      <th>8</th>\n      <td>1986</td>\n      <td>Americas</td>\n      <td>Antigua and Barbuda</td>\n      <td>Spirits</td>\n      <td>1.55</td>\n    </tr>\n    <tr>\n      <th>11</th>\n      <td>1989</td>\n      <td>Americas</td>\n      <td>Guatemala</td>\n      <td>Beer</td>\n      <td>0.62</td>\n    </tr>\n    <tr>\n      <th>17</th>\n      <td>1989</td>\n      <td>Africa</td>\n      <td>Seychelles</td>\n      <td>Beer</td>\n      <td>2.23</td>\n    </tr>\n    <tr>\n      <th>...</th>\n      <td>...</td>\n      <td>...</td>\n      <td>...</td>\n      <td>...</td>\n      <td>...</td>\n    </tr>\n    <tr>\n      <th>3236</th>\n      <td>1986</td>\n      <td>Africa</td>\n      <td>Seychelles</td>\n      <td>Beer</td>\n      <td>2.16</td>\n    </tr>\n    <tr>\n      <th>3241</th>\n      <td>1984</td>\n      <td>Eastern Mediterranean</td>\n      <td>Djibouti</td>\n      <td>Wine</td>\n      <td>0.51</td>\n    </tr>\n    <tr>\n      <th>3245</th>\n      <td>1985</td>\n      <td>South-East Asia</td>\n      <td>India</td>\n      <td>Spirits</td>\n      <td>1.24</td>\n    </tr>\n    <tr>\n      <th>3246</th>\n      <td>1989</td>\n      <td>Europe</td>\n      <td>Poland</td>\n      <td>Beer</td>\n      <td>2.03</td>\n    </tr>\n    <tr>\n      <th>3251</th>\n      <td>1984</td>\n      <td>Africa</td>\n      <td>Angola</td>\n      <td>Wine</td>\n      <td>0.57</td>\n    </tr>\n  </tbody>\n</table>\n<p>802 rows × 5 columns</p>\n</div>"
     },
     "execution_count": 150,
     "metadata": {},
     "output_type": "execute_result"
    }
   ],
   "source": [
    "f12 = df[(df['Display Value']> 0.5)&(df['Display Value']<2.5)]\n",
    "f12"
   ],
   "metadata": {
    "collapsed": false,
    "ExecuteTime": {
     "end_time": "2023-09-23T01:38:48.207677Z",
     "start_time": "2023-09-23T01:38:48.135692Z"
    }
   },
   "id": "383b52a713f1e7b4"
  },
  {
   "cell_type": "code",
   "execution_count": null,
   "outputs": [],
   "source": [
    "### Q: filter rows based on row numbers ended with 0, like 0, 10, 20, 30"
   ],
   "metadata": {
    "collapsed": false
   },
   "id": "9142be9ee878ce93"
  },
  {
   "cell_type": "code",
   "execution_count": 151,
   "outputs": [
    {
     "data": {
      "text/plain": "      Year             WHO region       Country Beverage Types  Display Value\n0     1986        Western Pacific      Viet Nam           Wine           0.00\n10    1987                 Africa      Botswana           Wine           0.20\n20    1986        South-East Asia       Myanmar           Wine           0.00\n30    1986                 Africa  Sierra Leone          Other           4.48\n40    1987                 Europe       Austria        Spirits           1.90\n...    ...                    ...           ...            ...            ...\n3210  1986  Eastern Mediterranean      Djibouti          Other           0.00\n3220  1986                 Africa      Zimbabwe        Spirits           5.57\n3230  1987                 Europe        France        Spirits           2.77\n3240  1986                 Europe      Slovenia           Beer           3.71\n3250  1987                 Europe       Iceland          Other           0.01\n\n[326 rows x 5 columns]",
      "text/html": "<div>\n<style scoped>\n    .dataframe tbody tr th:only-of-type {\n        vertical-align: middle;\n    }\n\n    .dataframe tbody tr th {\n        vertical-align: top;\n    }\n\n    .dataframe thead th {\n        text-align: right;\n    }\n</style>\n<table border=\"1\" class=\"dataframe\">\n  <thead>\n    <tr style=\"text-align: right;\">\n      <th></th>\n      <th>Year</th>\n      <th>WHO region</th>\n      <th>Country</th>\n      <th>Beverage Types</th>\n      <th>Display Value</th>\n    </tr>\n  </thead>\n  <tbody>\n    <tr>\n      <th>0</th>\n      <td>1986</td>\n      <td>Western Pacific</td>\n      <td>Viet Nam</td>\n      <td>Wine</td>\n      <td>0.00</td>\n    </tr>\n    <tr>\n      <th>10</th>\n      <td>1987</td>\n      <td>Africa</td>\n      <td>Botswana</td>\n      <td>Wine</td>\n      <td>0.20</td>\n    </tr>\n    <tr>\n      <th>20</th>\n      <td>1986</td>\n      <td>South-East Asia</td>\n      <td>Myanmar</td>\n      <td>Wine</td>\n      <td>0.00</td>\n    </tr>\n    <tr>\n      <th>30</th>\n      <td>1986</td>\n      <td>Africa</td>\n      <td>Sierra Leone</td>\n      <td>Other</td>\n      <td>4.48</td>\n    </tr>\n    <tr>\n      <th>40</th>\n      <td>1987</td>\n      <td>Europe</td>\n      <td>Austria</td>\n      <td>Spirits</td>\n      <td>1.90</td>\n    </tr>\n    <tr>\n      <th>...</th>\n      <td>...</td>\n      <td>...</td>\n      <td>...</td>\n      <td>...</td>\n      <td>...</td>\n    </tr>\n    <tr>\n      <th>3210</th>\n      <td>1986</td>\n      <td>Eastern Mediterranean</td>\n      <td>Djibouti</td>\n      <td>Other</td>\n      <td>0.00</td>\n    </tr>\n    <tr>\n      <th>3220</th>\n      <td>1986</td>\n      <td>Africa</td>\n      <td>Zimbabwe</td>\n      <td>Spirits</td>\n      <td>5.57</td>\n    </tr>\n    <tr>\n      <th>3230</th>\n      <td>1987</td>\n      <td>Europe</td>\n      <td>France</td>\n      <td>Spirits</td>\n      <td>2.77</td>\n    </tr>\n    <tr>\n      <th>3240</th>\n      <td>1986</td>\n      <td>Europe</td>\n      <td>Slovenia</td>\n      <td>Beer</td>\n      <td>3.71</td>\n    </tr>\n    <tr>\n      <th>3250</th>\n      <td>1987</td>\n      <td>Europe</td>\n      <td>Iceland</td>\n      <td>Other</td>\n      <td>0.01</td>\n    </tr>\n  </tbody>\n</table>\n<p>326 rows × 5 columns</p>\n</div>"
     },
     "execution_count": 151,
     "metadata": {},
     "output_type": "execute_result"
    }
   ],
   "source": [
    "f13 = df.filter(regex='0$', axis=0)\n",
    "f13"
   ],
   "metadata": {
    "collapsed": false,
    "ExecuteTime": {
     "end_time": "2023-09-23T01:40:18.682785Z",
     "start_time": "2023-09-23T01:40:18.628107Z"
    }
   },
   "id": "61e4d1a38a2de20b"
  },
  {
   "cell_type": "markdown",
   "source": [
    "### Q: select consecutive columns and also select rows with Index label 0 to 9 "
   ],
   "metadata": {
    "collapsed": false
   },
   "id": "d1e690fc9014dc0c"
  },
  {
   "cell_type": "code",
   "execution_count": null,
   "outputs": [],
   "source": [
    "f14 = "
   ],
   "metadata": {
    "collapsed": false
   },
   "id": "306726215c9a02d4"
  },
  {
   "cell_type": "code",
   "execution_count": null,
   "outputs": [],
   "source": [],
   "metadata": {
    "collapsed": false
   },
   "id": "cbc75fe76d5b08a4"
  },
  {
   "cell_type": "code",
   "execution_count": null,
   "outputs": [],
   "source": [],
   "metadata": {
    "collapsed": false
   },
   "id": "1697b395fdef0172"
  },
  {
   "cell_type": "code",
   "execution_count": null,
   "outputs": [],
   "source": [],
   "metadata": {
    "collapsed": false
   },
   "id": "e23ddce00a9eebb7"
  },
  {
   "cell_type": "code",
   "execution_count": null,
   "outputs": [],
   "source": [],
   "metadata": {
    "collapsed": false
   },
   "id": "7c6021fb4a4dca53"
  },
  {
   "cell_type": "code",
   "execution_count": null,
   "outputs": [],
   "source": [],
   "metadata": {
    "collapsed": false
   },
   "id": "f06f975276d5ff93"
  },
  {
   "cell_type": "code",
   "execution_count": null,
   "outputs": [],
   "source": [
    "# Rank"
   ],
   "metadata": {
    "collapsed": false
   },
   "id": "c2dddebaf36e9407"
  },
  {
   "cell_type": "markdown",
   "source": [
    "176. Second Hignest Salary\n",
    "+-------------+------+\n",
    "| Column Name | Type |\n",
    "+-------------+------+\n",
    "| id          | int  |\n",
    "| salary      | int  |\n",
    "+-------------+------+\n",
    "id is the primary key (column with unique values) for this table.\n",
    "Each row of this table contains information about the salary of an employee.\n",
    "\n",
    "Write a solution to find the second highest salary from the Employee table. If there is no second highest salary, return null (return None in Pandas).\n",
    "\n",
    "Example 1:\n",
    "\n",
    "Input: \n",
    "Employee table:\n",
    "+----+--------+\n",
    "| id | salary |\n",
    "+----+--------+\n",
    "| 1  | 100    |\n",
    "| 2  | 200    |\n",
    "| 3  | 300    |\n",
    "+----+--------+\n",
    "Output: \n",
    "+---------------------+\n",
    "| SecondHighestSalary |\n",
    "+---------------------+\n",
    "| 200                 |\n",
    "+---------------------+\n",
    "Example 2:\n",
    "\n",
    "Input: \n",
    "Employee table:\n",
    "+----+--------+\n",
    "| id | salary |\n",
    "+----+--------+\n",
    "| 1  | 100    |\n",
    "+----+--------+\n",
    "Output: \n",
    "+---------------------+\n",
    "| SecondHighestSalary |\n",
    "+---------------------+\n",
    "| null                |\n",
    "+---------------------+\n",
    "\n",
    "Approach:\n",
    "* Drop Duplicates and Get Unique Salaries: Use drop_duplicates() function on the 'salary' column to get unique salary values.\n",
    "\n",
    "* Sort Salaries in Descending Order: Sort it with sort_values(ascending=False) in descending order.\n",
    "\n",
    "* Retrieve the Salary: Check if the unique salaries contain at least two values (length >= 2). If it does, then the second highest salary exists, and we can retrieve it using .iloc[-1], if not, return 'None'. \n",
    "\n",
    "* Return the Result: Create a new DataFrame with value under the column 'SecondHighestSalary'. "
   ],
   "metadata": {
    "collapsed": false
   },
   "id": "86d22b14095bd37c"
  },
  {
   "cell_type": "code",
   "execution_count": null,
   "outputs": [],
   "source": [
    "import pandas as pd\n",
    "\n",
    "def second_highest_salary(employee: pd.DataFrame) -> pd.DataFrame:\n",
    "  salaries = employee['salary'].drop_duplicates().sort_values(ascending = False)\n",
    "  print(salaries)\n",
    "  if len(salaries) < 2:\n",
    "      return pd.DataFrame({'SecondHighestSalary': [None]})\n",
    "  second_highest = salaries.iloc[1]\n",
    "  return pd.DataFrame({'SecondHighestSalary': [second_highest]})\n",
    "    \n"
   ],
   "metadata": {
    "collapsed": false
   },
   "id": "eaa43a14fc1acd72"
  },
  {
   "cell_type": "markdown",
   "source": [
    "### Additional reference\n",
    "177. Nth Hignest Salary\n",
    "Approach:\n",
    "* Drop Duplicates and Get Unique Salaries: Use drop_duplicates() function on the 'salary' column to get unique salary values.\n",
    "\n",
    "* Sort Salaries in Descending Order: Sort it with sort_values(ascending=False) in descending order.\n",
    "\n",
    "* Retrieve the Salary: Check if the unique salaries contain at least two values (length >= N). If it does, then the Nth highest salary exists, and we can retrieve it using .iloc[N-1], if not, return 'None'. \n",
    "\n",
    "* Return the Result: Create a new DataFrame with value under the column 'getNthHighestSalary(n)'. "
   ],
   "metadata": {
    "collapsed": false
   },
   "id": "18746c1f0475ff21"
  },
  {
   "cell_type": "code",
   "execution_count": 152,
   "outputs": [
    {
     "ename": "SyntaxError",
     "evalue": "incomplete input (1327182483.py, line 5)",
     "output_type": "error",
     "traceback": [
      "\u001B[0;36m  Cell \u001B[0;32mIn[152], line 5\u001B[0;36m\u001B[0m\n\u001B[0;31m    if len(salaries) < N:\u001B[0m\n\u001B[0m                         ^\u001B[0m\n\u001B[0;31mSyntaxError\u001B[0m\u001B[0;31m:\u001B[0m incomplete input\n"
     ]
    }
   ],
   "source": [
    "import pandas as pd\n",
    "\n",
    "def nth_highest_salary(employee: pd.DataFrame, N: int) -> pd.DataFrame:\n",
    "  salaries = employee['salary'].drop_duplicates().sort_values(ascending = False)\n",
    "  if len(salaries) < N:\n",
    "      return pd.DataFrame({f'getNthHighestSalary({N})': [None]})\n",
    "  N_highest = employee['salary'].iloc[N-1]\n",
    "  return pd.DataFrame({f'getNthHighestSalary({N})': [N_highest]})"
   ],
   "metadata": {
    "collapsed": false,
    "ExecuteTime": {
     "end_time": "2023-09-23T14:04:05.314841Z",
     "start_time": "2023-09-23T14:04:05.167588Z"
    }
   },
   "id": "6c164a50b0524580"
  },
  {
   "cell_type": "markdown",
   "source": [
    "178. Rank scores\n",
    "+-------------+---------+\n",
    "| Column Name | Type    |\n",
    "+-------------+---------+\n",
    "| id          | int     |\n",
    "| score       | decimal |\n",
    "+-------------+---------+\n",
    "id is the primary key (column with unique values) for this table.\n",
    "Each row of this table contains the score of a game. Score is a floating point value with two decimal places.\n",
    " \n",
    "Write a solution to find the rank of the scores. The ranking should be calculated according to the following rules:\n",
    "\n",
    "The scores should be ranked from the highest to the lowest.\n",
    "If there is a tie between two scores, both should have the same ranking.\n",
    "After a tie, the next ranking number should be the next consecutive integer value. In other words, there should be no holes between ranks.\n",
    "Return the result table ordered by score in descending order.\n",
    "\n",
    "Example 1:\n",
    "\n",
    "Input: \n",
    "Scores table:\n",
    "+----+-------+\n",
    "| id | score |\n",
    "+----+-------+\n",
    "| 1  | 3.50  |\n",
    "| 2  | 3.65  |\n",
    "| 3  | 4.00  |\n",
    "| 4  | 3.85  |\n",
    "| 5  | 4.00  |\n",
    "| 6  | 3.65  |\n",
    "+----+-------+\n",
    "Output: \n",
    "+-------+------+\n",
    "| score | rank |\n",
    "+-------+------+\n",
    "| 4.00  | 1    |\n",
    "| 4.00  | 1    |\n",
    "| 3.85  | 2    |\n",
    "| 3.65  | 3    |\n",
    "| 3.65  | 3    |\n",
    "| 3.50  | 4    |\n",
    "+-------+------+\n",
    "\n",
    "Approach:\n",
    "* Sort scores in Descending Order by 'score'\n",
    "* Rank the scores with dense rank\n",
    "* Return the result\n"
   ],
   "metadata": {
    "collapsed": false
   },
   "id": "c2493663480b6839"
  },
  {
   "cell_type": "code",
   "execution_count": null,
   "outputs": [],
   "source": [
    "import pandas as pd\n",
    "\n",
    "def order_scores(scores: pd.DataFrame) -> pd.DataFrame:\n",
    "    sorted_score = scores.sort_values(by = 'score', ascending=False)\n",
    "    sorted_score['rank'] = (sorted_score['score'].rank(method = 'dense', ascending = False))\n",
    "    return sorted_score[['score', 'rank']]"
   ],
   "metadata": {
    "collapsed": false
   },
   "id": "f5c3b25e24954487"
  },
  {
   "cell_type": "markdown",
   "source": [
    "180. Consecutive Number\n",
    "+-------------+---------+\n",
    "| Column Name | Type    |\n",
    "+-------------+---------+\n",
    "| id          | int     |\n",
    "| num         | varchar |\n",
    "+-------------+---------+\n",
    "In SQL, id is the primary key for this table.\n",
    "id is an autoincrement column.\n",
    "\n",
    "Find all numbers that appear at least three times consecutively.\n",
    "\n",
    "Return the result table in any order.\n",
    "\n",
    "The result format is in the following example.\n",
    "\n",
    " \n",
    "\n",
    "Example 1:\n",
    "\n",
    "Input: \n",
    "Logs table:\n",
    "+----+-----+\n",
    "| id | num |\n",
    "+----+-----+\n",
    "| 1  | 1   |\n",
    "| 2  | 1   |\n",
    "| 3  | 1   |\n",
    "| 4  | 2   |\n",
    "| 5  | 1   |\n",
    "| 6  | 2   |\n",
    "| 7  | 2   |\n",
    "+----+-----+\n",
    "Output: \n",
    "+-----------------+\n",
    "| ConsecutiveNums |\n",
    "+-----------------+\n",
    "| 1               |\n",
    "+-----------------+\n",
    "Explanation: 1 is the only number that appears consecutively for at least three times.\n",
    "\n",
    "Approach:\n",
    "* rolling window and set the flag: rolling window .rolling(window = n) within 3 steps constrained to unique() if the consecutive numbers exist\n",
    "* if flag, return the num without duplicates\n",
    "\n",
    "**Note: x.nunique(): number of unique keys; x.unique(): unique keys**\n"
   ],
   "metadata": {
    "collapsed": false
   },
   "id": "bc9d4eab70fa05e6"
  },
  {
   "cell_type": "code",
   "execution_count": null,
   "outputs": [],
   "source": [
    "def consecutive_numbers(logs: pd.DataFrame) -> pd.DataFrame:\n",
    "  logs['flags'] = logs['num'].rolling(window = 3).apply(lambda x: x.nunique()==1)\n",
    "  logs_flag = logs[logs['flags']==1][['num']].drop_duplicates()['num']\n",
    "  return pd.DataFrame({'ConsecutiveNums': logs_flag})\n"
   ],
   "metadata": {
    "collapsed": false
   },
   "id": "457a3839acea09ed"
  },
  {
   "cell_type": "markdown",
   "source": [
    "184. Departmet highest salary\n",
    "Table: Employee\n",
    "\n",
    "+--------------+---------+\n",
    "| Column Name  | Type    |\n",
    "+--------------+---------+\n",
    "| id           | int     |\n",
    "| name         | varchar |\n",
    "| salary       | int     |\n",
    "| departmentId | int     |\n",
    "+--------------+---------+\n",
    "id is the primary key (column with unique values) for this table.\n",
    "departmentId is a foreign key (reference columns) of the ID from the Department table.\n",
    "Each row of this table indicates the ID, name, and salary of an employee. It also contains the ID of their department.\n",
    " \n",
    "\n",
    "Table: Department\n",
    "\n",
    "+-------------+---------+\n",
    "| Column Name | Type    |\n",
    "+-------------+---------+\n",
    "| id          | int     |\n",
    "| name        | varchar |\n",
    "+-------------+---------+\n",
    "id is the primary key (column with unique values) for this table. It is guaranteed that department name is not NULL.\n",
    "Each row of this table indicates the ID of a department and its name.\n",
    " \n",
    "\n",
    "Write a solution to find employees who have the highest salary in each of the departments.\n",
    "\n",
    "Return the result table in any order.\n",
    "\n",
    "Input: \n",
    "Employee table:\n",
    "+----+-------+--------+--------------+\n",
    "| id | name  | salary | departmentId |\n",
    "+----+-------+--------+--------------+\n",
    "| 1  | Joe   | 70000  | 1            |\n",
    "| 2  | Jim   | 90000  | 1            |\n",
    "| 3  | Henry | 80000  | 2            |\n",
    "| 4  | Sam   | 60000  | 2            |\n",
    "| 5  | Max   | 90000  | 1            |\n",
    "+----+-------+--------+--------------+\n",
    "Department table:\n",
    "+----+-------+\n",
    "| id | name  |\n",
    "+----+-------+\n",
    "| 1  | IT    |\n",
    "| 2  | Sales |\n",
    "+----+-------+\n",
    "Output: \n",
    "+------------+----------+--------+\n",
    "| Department | Employee | Salary |\n",
    "+------------+----------+--------+\n",
    "| IT         | Jim      | 90000  |\n",
    "| Sales      | Henry    | 80000  |\n",
    "| IT         | Max      | 90000  |\n",
    "+------------+----------+--------+\n",
    "Explanation: Max and Jim both have the highest salary in the IT department and Henry has the highest salary in the Sales department.\n",
    "\n",
    "Approach: \n",
    "* Merge two tables: .merge(table1, table2, left_on = 'left_key', right_on = 'right_key', how = 'merge_method')\n",
    "* Aggregate the group: .group_by('expected_group') to aggregate the group\n",
    "* Select the highest salary:.apply(lambda x: x[x.salary == x.salary.max()])\n",
    "* Arrange the merged table to the expected format: .rename(columns ={' ' : ' '}), .drop([' ', ' ']).reset_index()"
   ],
   "metadata": {
    "collapsed": false
   },
   "id": "29e985860d2cf12"
  },
  {
   "cell_type": "code",
   "execution_count": null,
   "outputs": [],
   "source": [
    "def department_highest_salary(employee: pd.DataFrame, department: pd.DataFrame) -> pd.DataFrame:\n",
    "    df = pd.merge(employee, department, left_on = 'departmentId', right_id = 'id')\n",
    "    df = df.grouby('name_y').apply(lambda x: x[x.salary ==x.salary.max()])\n",
    "    df = df.rename(columns = {'name_y': 'Department', 'name_x': 'Employee'})\n",
    "    df = df.drop(columns=['id_x', 'id_y'])\n",
    "    result = df[['Department', 'Employee', 'salary']]\n",
    "    return result\n"
   ],
   "metadata": {
    "collapsed": false
   },
   "id": "30e213dc2bc8afec"
  },
  {
   "cell_type": "markdown",
   "source": [
    "550. Game player analysis \n",
    "551. Table: Activity\n",
    "\n",
    "+--------------+---------+\n",
    "| Column Name  | Type    |\n",
    "+--------------+---------+\n",
    "| player_id    | int     |\n",
    "| device_id    | int     |\n",
    "| event_date   | date    |\n",
    "| games_played | int     |\n",
    "+--------------+---------+\n",
    "(player_id, event_date) is the primary key (combination of columns with unique values) of this table.\n",
    "This table shows the activity of players of some games.\n",
    "Each row is a record of a player who logged in and played a number of games (possibly 0) before logging out on someday using some device.\n",
    " \n",
    "\n",
    "Write a solution to report the fraction of players that logged in again on the day after the day they first logged in, rounded to 2 decimal places. In other words, you need to count the number of players that logged in for at least two consecutive days starting from their first login date, then divide that number by the total number of players.\n",
    "\n",
    "The result format is in the following example.\n",
    "\n",
    " \n",
    "\n",
    "Example 1:\n",
    "\n",
    "Input: \n",
    "Activity table:\n",
    "+-----------+-----------+------------+--------------+\n",
    "| player_id | device_id | event_date | games_played |\n",
    "+-----------+-----------+------------+--------------+\n",
    "| 1         | 2         | 2016-03-01 | 5            |\n",
    "| 1         | 2         | 2016-03-02 | 6            |\n",
    "| 2         | 3         | 2017-06-25 | 1            |\n",
    "| 3         | 1         | 2016-03-02 | 0            |\n",
    "| 3         | 4         | 2018-07-03 | 5            |\n",
    "+-----------+-----------+------------+--------------+\n",
    "Output: \n",
    "+-----------+\n",
    "| fraction  |\n",
    "+-----------+\n",
    "| 0.33      |\n",
    "+-----------+\n",
    "Explanation: \n",
    "Only the player with id 1 logged back in after the first day he had logged in so the answer is 1/3 = 0.33\n",
    "\n",
    "Approach:\n",
    "* Group by the layer's record for login day : .groupby('') for grouping by the players' records, .transformer(lambda) to apply the lambda to the values\n",
    "* find if the login date is event_date (consecutive time)\n",
    "* return the result, with the number of consecutive days players"
   ],
   "metadata": {
    "collapsed": false
   },
   "id": "1b71fb750aa0714b"
  },
  {
   "cell_type": "markdown",
   "source": [],
   "metadata": {
    "collapsed": false
   },
   "id": "989e7e7dd9cc90f2"
  },
  {
   "cell_type": "markdown",
   "source": [],
   "metadata": {
    "collapsed": false
   },
   "id": "c0dcfc14ce9137c"
  },
  {
   "cell_type": "code",
   "execution_count": 2,
   "outputs": [
    {
     "data": {
      "text/plain": "                    A    B\n2020-01-01 2020-01-01  1.0\n2020-01-02 2020-01-01  3.0\n2020-01-03 2020-01-02  6.0",
      "text/html": "<div>\n<style scoped>\n    .dataframe tbody tr th:only-of-type {\n        vertical-align: middle;\n    }\n\n    .dataframe tbody tr th {\n        vertical-align: top;\n    }\n\n    .dataframe thead th {\n        text-align: right;\n    }\n</style>\n<table border=\"1\" class=\"dataframe\">\n  <thead>\n    <tr style=\"text-align: right;\">\n      <th></th>\n      <th>A</th>\n      <th>B</th>\n    </tr>\n  </thead>\n  <tbody>\n    <tr>\n      <th>2020-01-01</th>\n      <td>2020-01-01</td>\n      <td>1.0</td>\n    </tr>\n    <tr>\n      <th>2020-01-02</th>\n      <td>2020-01-01</td>\n      <td>3.0</td>\n    </tr>\n    <tr>\n      <th>2020-01-03</th>\n      <td>2020-01-02</td>\n      <td>6.0</td>\n    </tr>\n  </tbody>\n</table>\n</div>"
     },
     "execution_count": 2,
     "metadata": {},
     "output_type": "execute_result"
    }
   ],
   "source": [
    "import pandas as pd\n",
    "df = pd.DataFrame({\n",
    "    'A': [pd.to_datetime('2020-01-01'),\n",
    "          pd.to_datetime('2020-01-01'),\n",
    "          pd.to_datetime('2020-01-02'),],\n",
    "    'B': [1, 2, 3], },\n",
    "    index=pd.date_range('2020', periods=3))\n",
    "df.rolling('2D', on='A').sum()"
   ],
   "metadata": {
    "collapsed": false,
    "ExecuteTime": {
     "end_time": "2023-09-24T19:08:01.349539Z",
     "start_time": "2023-09-24T19:08:00.402745Z"
    }
   },
   "id": "580e79fb0c89dc1"
  },
  {
   "cell_type": "code",
   "execution_count": null,
   "outputs": [],
   "source": [],
   "metadata": {
    "collapsed": false
   },
   "id": "b4e1861cbbc5e26d"
  }
 ],
 "metadata": {
  "kernelspec": {
   "display_name": "Python 3",
   "language": "python",
   "name": "python3"
  },
  "language_info": {
   "codemirror_mode": {
    "name": "ipython",
    "version": 2
   },
   "file_extension": ".py",
   "mimetype": "text/x-python",
   "name": "python",
   "nbconvert_exporter": "python",
   "pygments_lexer": "ipython2",
   "version": "2.7.6"
  }
 },
 "nbformat": 4,
 "nbformat_minor": 5
}
