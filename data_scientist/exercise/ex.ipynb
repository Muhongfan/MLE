{
 "cells": [
  {
   "cell_type": "code",
   "execution_count": 2,
   "id": "initial_id",
   "metadata": {
    "collapsed": true,
    "ExecuteTime": {
     "end_time": "2023-09-30T17:56:42.690904Z",
     "start_time": "2023-09-30T17:56:41.896191Z"
    }
   },
   "outputs": [],
   "source": [
    "import pandas as pd"
   ]
  },
  {
   "cell_type": "code",
   "execution_count": 13,
   "outputs": [
    {
     "data": {
      "text/plain": "'bytes_hosts_access_log_00.txt'"
     },
     "execution_count": 13,
     "metadata": {},
     "output_type": "execute_result"
    }
   ],
   "source": [
    "file_name = \"hosts_access_log_00.txt\"\n",
    "# output_name = \"bytes_\"+ file_name\n",
    "# output_name"
   ],
   "metadata": {
    "collapsed": false,
    "ExecuteTime": {
     "end_time": "2023-09-30T18:05:35.592921Z",
     "start_time": "2023-09-30T18:05:35.577673Z"
    }
   },
   "id": "1aea93056cbe0b14"
  },
  {
   "cell_type": "code",
   "execution_count": 41,
   "outputs": [
    {
     "data": {
      "text/plain": "                      0   1                      2        3  \\\n0  unicomp6.unicomp.net  --  [01/Jul/1995:00:00:06  -04001]   \n1    burger.letters.com  --  [01/Jul/1995:00:00:11  -04001]   \n2    burger.letters.com  --  [01/Jul/1995:00:00:12  -04001]   \n3    burger.letters.com  --  [01/Jul/1995:00:00:12  -04001]   \n4           d104.aa.net  --  [01/Jul/1995:00:00:13  -04001]   \n5  unicomp6.unicomp.net  --  [01/Jul/1995:00:00:14  -04001]   \n6  unicomp6.unicomp.net  --  [01/Jul/1995:00:00:14  -04001]   \n7  unicomp6.unicomp.net  --  [01/Jul/1995:00:00:14  -04001]   \n8           d104.aa.net  --  [01/Jul/1995:00:00:15  -04001]   \n9           d104.aa.net  --  [01/Jul/1995:00:00:15   -0400]   \n\n                                                   4    5      6  \n0                    GET /shuttle/countdown/ HTTP/1.  200   3985  \n1       GET /shuttle/countdown/liftoff.html HTTP/1.0  304      0  \n2         GET /images / NASA- logosmall.gif HTTP/1.0  304      0  \n3  GET /shuttle/countdown/video/livevideo.gif HTT...  200      0  \n4                   GET /shuttle/countdown/ HTTP/1.0  200   3985  \n5          GET /shuttle/countdown/count.gif HTTP/1.0  200  40310  \n6           GET /images/NASA- logosmall.gif HTTP/1.0  200    786  \n7            GET /images/KSC- logosmall.gif HTTP/1.0  200   1204  \n8          GET /shuttle/countdown/count.gif HTTP/1.0  200  40310  \n9            GET /images/NASA-logosmall.gif HTTP/1.0  200    786  ",
      "text/html": "<div>\n<style scoped>\n    .dataframe tbody tr th:only-of-type {\n        vertical-align: middle;\n    }\n\n    .dataframe tbody tr th {\n        vertical-align: top;\n    }\n\n    .dataframe thead th {\n        text-align: right;\n    }\n</style>\n<table border=\"1\" class=\"dataframe\">\n  <thead>\n    <tr style=\"text-align: right;\">\n      <th></th>\n      <th>0</th>\n      <th>1</th>\n      <th>2</th>\n      <th>3</th>\n      <th>4</th>\n      <th>5</th>\n      <th>6</th>\n    </tr>\n  </thead>\n  <tbody>\n    <tr>\n      <th>0</th>\n      <td>unicomp6.unicomp.net</td>\n      <td>--</td>\n      <td>[01/Jul/1995:00:00:06</td>\n      <td>-04001]</td>\n      <td>GET /shuttle/countdown/ HTTP/1.</td>\n      <td>200</td>\n      <td>3985</td>\n    </tr>\n    <tr>\n      <th>1</th>\n      <td>burger.letters.com</td>\n      <td>--</td>\n      <td>[01/Jul/1995:00:00:11</td>\n      <td>-04001]</td>\n      <td>GET /shuttle/countdown/liftoff.html HTTP/1.0</td>\n      <td>304</td>\n      <td>0</td>\n    </tr>\n    <tr>\n      <th>2</th>\n      <td>burger.letters.com</td>\n      <td>--</td>\n      <td>[01/Jul/1995:00:00:12</td>\n      <td>-04001]</td>\n      <td>GET /images / NASA- logosmall.gif HTTP/1.0</td>\n      <td>304</td>\n      <td>0</td>\n    </tr>\n    <tr>\n      <th>3</th>\n      <td>burger.letters.com</td>\n      <td>--</td>\n      <td>[01/Jul/1995:00:00:12</td>\n      <td>-04001]</td>\n      <td>GET /shuttle/countdown/video/livevideo.gif HTT...</td>\n      <td>200</td>\n      <td>0</td>\n    </tr>\n    <tr>\n      <th>4</th>\n      <td>d104.aa.net</td>\n      <td>--</td>\n      <td>[01/Jul/1995:00:00:13</td>\n      <td>-04001]</td>\n      <td>GET /shuttle/countdown/ HTTP/1.0</td>\n      <td>200</td>\n      <td>3985</td>\n    </tr>\n    <tr>\n      <th>5</th>\n      <td>unicomp6.unicomp.net</td>\n      <td>--</td>\n      <td>[01/Jul/1995:00:00:14</td>\n      <td>-04001]</td>\n      <td>GET /shuttle/countdown/count.gif HTTP/1.0</td>\n      <td>200</td>\n      <td>40310</td>\n    </tr>\n    <tr>\n      <th>6</th>\n      <td>unicomp6.unicomp.net</td>\n      <td>--</td>\n      <td>[01/Jul/1995:00:00:14</td>\n      <td>-04001]</td>\n      <td>GET /images/NASA- logosmall.gif HTTP/1.0</td>\n      <td>200</td>\n      <td>786</td>\n    </tr>\n    <tr>\n      <th>7</th>\n      <td>unicomp6.unicomp.net</td>\n      <td>--</td>\n      <td>[01/Jul/1995:00:00:14</td>\n      <td>-04001]</td>\n      <td>GET /images/KSC- logosmall.gif HTTP/1.0</td>\n      <td>200</td>\n      <td>1204</td>\n    </tr>\n    <tr>\n      <th>8</th>\n      <td>d104.aa.net</td>\n      <td>--</td>\n      <td>[01/Jul/1995:00:00:15</td>\n      <td>-04001]</td>\n      <td>GET /shuttle/countdown/count.gif HTTP/1.0</td>\n      <td>200</td>\n      <td>40310</td>\n    </tr>\n    <tr>\n      <th>9</th>\n      <td>d104.aa.net</td>\n      <td>--</td>\n      <td>[01/Jul/1995:00:00:15</td>\n      <td>-0400]</td>\n      <td>GET /images/NASA-logosmall.gif HTTP/1.0</td>\n      <td>200</td>\n      <td>786</td>\n    </tr>\n  </tbody>\n</table>\n</div>"
     },
     "execution_count": 41,
     "metadata": {},
     "output_type": "execute_result"
    }
   ],
   "source": [
    "df = pd.read_csv('/Users/amberm/PycharmProjects/MLE/data_scientist/exercise/' + file_name,  sep=\" \", header = None)\n",
    "df"
   ],
   "metadata": {
    "collapsed": false,
    "ExecuteTime": {
     "end_time": "2023-09-30T19:05:11.564635Z",
     "start_time": "2023-09-30T19:05:11.387694Z"
    }
   },
   "id": "6261ea5c64ca897a"
  },
  {
   "cell_type": "code",
   "execution_count": 19,
   "outputs": [],
   "source": [
    "df.columns = ['Hostname', '-', '-', 'Timestamp', 'Request', 'Respond code', 'bytes' ]"
   ],
   "metadata": {
    "collapsed": false,
    "ExecuteTime": {
     "end_time": "2023-09-30T18:07:33.681293Z",
     "start_time": "2023-09-30T18:07:32.495319Z"
    }
   },
   "id": "fcab36e079717ce0"
  },
  {
   "cell_type": "code",
   "execution_count": 20,
   "outputs": [
    {
     "data": {
      "text/plain": "               Hostname   -                      - Timestamp  \\\n0  unicomp6.unicomp.net  --  [01/Jul/1995:00:00:06   -04001]   \n1    burger.letters.com  --  [01/Jul/1995:00:00:11   -04001]   \n2    burger.letters.com  --  [01/Jul/1995:00:00:12   -04001]   \n3    burger.letters.com  --  [01/Jul/1995:00:00:12   -04001]   \n4           d104.aa.net  --  [01/Jul/1995:00:00:13   -04001]   \n5  unicomp6.unicomp.net  --  [01/Jul/1995:00:00:14   -04001]   \n6  unicomp6.unicomp.net  --  [01/Jul/1995:00:00:14   -04001]   \n7  unicomp6.unicomp.net  --  [01/Jul/1995:00:00:14   -04001]   \n8           d104.aa.net  --  [01/Jul/1995:00:00:15   -04001]   \n9           d104.aa.net  --  [01/Jul/1995:00:00:15    -0400]   \n\n                                             Request  Respond code  bytes  \n0                    GET /shuttle/countdown/ HTTP/1.           200   3985  \n1       GET /shuttle/countdown/liftoff.html HTTP/1.0           304      0  \n2         GET /images / NASA- logosmall.gif HTTP/1.0           304      0  \n3  GET /shuttle/countdown/video/livevideo.gif HTT...           200      0  \n4                   GET /shuttle/countdown/ HTTP/1.0           200   3985  \n5          GET /shuttle/countdown/count.gif HTTP/1.0           200  40310  \n6           GET /images/NASA- logosmall.gif HTTP/1.0           200    786  \n7            GET /images/KSC- logosmall.gif HTTP/1.0           200   1204  \n8          GET /shuttle/countdown/count.gif HTTP/1.0           200  40310  \n9            GET /images/NASA-logosmall.gif HTTP/1.0           200    786  ",
      "text/html": "<div>\n<style scoped>\n    .dataframe tbody tr th:only-of-type {\n        vertical-align: middle;\n    }\n\n    .dataframe tbody tr th {\n        vertical-align: top;\n    }\n\n    .dataframe thead th {\n        text-align: right;\n    }\n</style>\n<table border=\"1\" class=\"dataframe\">\n  <thead>\n    <tr style=\"text-align: right;\">\n      <th></th>\n      <th>Hostname</th>\n      <th>-</th>\n      <th>-</th>\n      <th>Timestamp</th>\n      <th>Request</th>\n      <th>Respond code</th>\n      <th>bytes</th>\n    </tr>\n  </thead>\n  <tbody>\n    <tr>\n      <th>0</th>\n      <td>unicomp6.unicomp.net</td>\n      <td>--</td>\n      <td>[01/Jul/1995:00:00:06</td>\n      <td>-04001]</td>\n      <td>GET /shuttle/countdown/ HTTP/1.</td>\n      <td>200</td>\n      <td>3985</td>\n    </tr>\n    <tr>\n      <th>1</th>\n      <td>burger.letters.com</td>\n      <td>--</td>\n      <td>[01/Jul/1995:00:00:11</td>\n      <td>-04001]</td>\n      <td>GET /shuttle/countdown/liftoff.html HTTP/1.0</td>\n      <td>304</td>\n      <td>0</td>\n    </tr>\n    <tr>\n      <th>2</th>\n      <td>burger.letters.com</td>\n      <td>--</td>\n      <td>[01/Jul/1995:00:00:12</td>\n      <td>-04001]</td>\n      <td>GET /images / NASA- logosmall.gif HTTP/1.0</td>\n      <td>304</td>\n      <td>0</td>\n    </tr>\n    <tr>\n      <th>3</th>\n      <td>burger.letters.com</td>\n      <td>--</td>\n      <td>[01/Jul/1995:00:00:12</td>\n      <td>-04001]</td>\n      <td>GET /shuttle/countdown/video/livevideo.gif HTT...</td>\n      <td>200</td>\n      <td>0</td>\n    </tr>\n    <tr>\n      <th>4</th>\n      <td>d104.aa.net</td>\n      <td>--</td>\n      <td>[01/Jul/1995:00:00:13</td>\n      <td>-04001]</td>\n      <td>GET /shuttle/countdown/ HTTP/1.0</td>\n      <td>200</td>\n      <td>3985</td>\n    </tr>\n    <tr>\n      <th>5</th>\n      <td>unicomp6.unicomp.net</td>\n      <td>--</td>\n      <td>[01/Jul/1995:00:00:14</td>\n      <td>-04001]</td>\n      <td>GET /shuttle/countdown/count.gif HTTP/1.0</td>\n      <td>200</td>\n      <td>40310</td>\n    </tr>\n    <tr>\n      <th>6</th>\n      <td>unicomp6.unicomp.net</td>\n      <td>--</td>\n      <td>[01/Jul/1995:00:00:14</td>\n      <td>-04001]</td>\n      <td>GET /images/NASA- logosmall.gif HTTP/1.0</td>\n      <td>200</td>\n      <td>786</td>\n    </tr>\n    <tr>\n      <th>7</th>\n      <td>unicomp6.unicomp.net</td>\n      <td>--</td>\n      <td>[01/Jul/1995:00:00:14</td>\n      <td>-04001]</td>\n      <td>GET /images/KSC- logosmall.gif HTTP/1.0</td>\n      <td>200</td>\n      <td>1204</td>\n    </tr>\n    <tr>\n      <th>8</th>\n      <td>d104.aa.net</td>\n      <td>--</td>\n      <td>[01/Jul/1995:00:00:15</td>\n      <td>-04001]</td>\n      <td>GET /shuttle/countdown/count.gif HTTP/1.0</td>\n      <td>200</td>\n      <td>40310</td>\n    </tr>\n    <tr>\n      <th>9</th>\n      <td>d104.aa.net</td>\n      <td>--</td>\n      <td>[01/Jul/1995:00:00:15</td>\n      <td>-0400]</td>\n      <td>GET /images/NASA-logosmall.gif HTTP/1.0</td>\n      <td>200</td>\n      <td>786</td>\n    </tr>\n  </tbody>\n</table>\n</div>"
     },
     "execution_count": 20,
     "metadata": {},
     "output_type": "execute_result"
    }
   ],
   "source": [
    "df"
   ],
   "metadata": {
    "collapsed": false,
    "ExecuteTime": {
     "end_time": "2023-09-30T18:07:36.116184Z",
     "start_time": "2023-09-30T18:07:35.765404Z"
    }
   },
   "id": "e984fdd3d5f1f216"
  },
  {
   "cell_type": "code",
   "execution_count": 21,
   "outputs": [
    {
     "data": {
      "text/plain": "80620"
     },
     "execution_count": 21,
     "metadata": {},
     "output_type": "execute_result"
    }
   ],
   "source": [
    "total_bytes = df[df['bytes'] > 5000]['bytes'].sum()\n",
    "total_bytes"
   ],
   "metadata": {
    "collapsed": false,
    "ExecuteTime": {
     "end_time": "2023-09-30T18:07:52.034703Z",
     "start_time": "2023-09-30T18:07:51.977775Z"
    }
   },
   "id": "f4cd6a22cb1e9d60"
  },
  {
   "cell_type": "code",
   "execution_count": null,
   "outputs": [],
   "source": [],
   "metadata": {
    "collapsed": false
   },
   "id": "42303765c708de6c"
  },
  {
   "cell_type": "code",
   "execution_count": 28,
   "outputs": [
    {
     "data": {
      "text/plain": "2"
     },
     "execution_count": 28,
     "metadata": {},
     "output_type": "execute_result"
    }
   ],
   "source": [
    "total_num =  df[df['bytes'] > 5000]['bytes'].count()\n",
    "total_num"
   ],
   "metadata": {
    "collapsed": false,
    "ExecuteTime": {
     "end_time": "2023-09-30T18:09:46.546469Z",
     "start_time": "2023-09-30T18:09:46.413357Z"
    }
   },
   "id": "f6afeb8613eba837"
  },
  {
   "cell_type": "code",
   "execution_count": 33,
   "outputs": [
    {
     "ename": "AttributeError",
     "evalue": "'numpy.str_' object has no attribute 'to_csv'",
     "output_type": "error",
     "traceback": [
      "\u001B[0;31m---------------------------------------------------------------------------\u001B[0m",
      "\u001B[0;31mAttributeError\u001B[0m                            Traceback (most recent call last)",
      "Cell \u001B[0;32mIn[33], line 1\u001B[0m\n\u001B[0;32m----> 1\u001B[0m \u001B[43mtotal_bytes\u001B[49m\u001B[38;5;241;43m.\u001B[39;49m\u001B[43mastype\u001B[49m\u001B[43m(\u001B[49m\u001B[38;5;28;43mstr\u001B[39;49m\u001B[43m)\u001B[49m\u001B[38;5;241;43m.\u001B[39;49m\u001B[43mto_csv\u001B[49m(output_name, sep\u001B[38;5;241m=\u001B[39m\u001B[38;5;124m'\u001B[39m\u001B[38;5;124m,\u001B[39m\u001B[38;5;124m'\u001B[39m, index\u001B[38;5;241m=\u001B[39m\u001B[38;5;28;01mFalse\u001B[39;00m, encoding\u001B[38;5;241m=\u001B[39m\u001B[38;5;124m'\u001B[39m\u001B[38;5;124mutf-8\u001B[39m\u001B[38;5;124m'\u001B[39m)\n",
      "\u001B[0;31mAttributeError\u001B[0m: 'numpy.str_' object has no attribute 'to_csv'"
     ]
    }
   ],
   "source": [
    "total_bytes.astype(str).to_csv(output_name, sep=',', index=False, encoding='utf-8')\n"
   ],
   "metadata": {
    "collapsed": false,
    "ExecuteTime": {
     "end_time": "2023-09-30T18:33:48.173400Z",
     "start_time": "2023-09-30T18:33:48.132955Z"
    }
   },
   "id": "d9085329c742a990"
  },
  {
   "cell_type": "code",
   "execution_count": 39,
   "outputs": [
    {
     "ename": "OSError",
     "evalue": "[Errno 30] Read-only file system: 'bytes_hosts_access_log_00.txt'",
     "output_type": "error",
     "traceback": [
      "\u001B[0;31m---------------------------------------------------------------------------\u001B[0m",
      "\u001B[0;31mOSError\u001B[0m                                   Traceback (most recent call last)",
      "Cell \u001B[0;32mIn[39], line 1\u001B[0m\n\u001B[0;32m----> 1\u001B[0m \u001B[38;5;28;01mwith\u001B[39;00m \u001B[38;5;28;43mopen\u001B[39;49m\u001B[43m(\u001B[49m\u001B[43moutput_name\u001B[49m\u001B[43m,\u001B[49m\u001B[43m \u001B[49m\u001B[38;5;124;43m\"\u001B[39;49m\u001B[38;5;124;43mw\u001B[39;49m\u001B[38;5;124;43m\"\u001B[39;49m\u001B[43m)\u001B[49m \u001B[38;5;28;01mas\u001B[39;00m file:\n\u001B[1;32m      2\u001B[0m     file\u001B[38;5;241m.\u001B[39mwrite(\u001B[38;5;28mstr\u001B[39m(total_num)\u001B[38;5;241m+\u001B[39m\u001B[38;5;124m\"\u001B[39m\u001B[38;5;130;01m\\n\u001B[39;00m\u001B[38;5;124m\"\u001B[39m\u001B[38;5;241m+\u001B[39m\u001B[38;5;28mstr\u001B[39m(total_bytes)\u001B[38;5;241m+\u001B[39m\u001B[38;5;124m\"\u001B[39m\u001B[38;5;130;01m\\n\u001B[39;00m\u001B[38;5;124m\"\u001B[39m)\n\u001B[1;32m      4\u001B[0m file\u001B[38;5;241m.\u001B[39mclose()\n",
      "File \u001B[0;32m~/anaconda3/lib/python3.10/site-packages/IPython/core/interactiveshell.py:284\u001B[0m, in \u001B[0;36m_modified_open\u001B[0;34m(file, *args, **kwargs)\u001B[0m\n\u001B[1;32m    277\u001B[0m \u001B[38;5;28;01mif\u001B[39;00m file \u001B[38;5;129;01min\u001B[39;00m {\u001B[38;5;241m0\u001B[39m, \u001B[38;5;241m1\u001B[39m, \u001B[38;5;241m2\u001B[39m}:\n\u001B[1;32m    278\u001B[0m     \u001B[38;5;28;01mraise\u001B[39;00m \u001B[38;5;167;01mValueError\u001B[39;00m(\n\u001B[1;32m    279\u001B[0m         \u001B[38;5;124mf\u001B[39m\u001B[38;5;124m\"\u001B[39m\u001B[38;5;124mIPython won\u001B[39m\u001B[38;5;124m'\u001B[39m\u001B[38;5;124mt let you open fd=\u001B[39m\u001B[38;5;132;01m{\u001B[39;00mfile\u001B[38;5;132;01m}\u001B[39;00m\u001B[38;5;124m by default \u001B[39m\u001B[38;5;124m\"\u001B[39m\n\u001B[1;32m    280\u001B[0m         \u001B[38;5;124m\"\u001B[39m\u001B[38;5;124mas it is likely to crash IPython. If you know what you are doing, \u001B[39m\u001B[38;5;124m\"\u001B[39m\n\u001B[1;32m    281\u001B[0m         \u001B[38;5;124m\"\u001B[39m\u001B[38;5;124myou can use builtins\u001B[39m\u001B[38;5;124m'\u001B[39m\u001B[38;5;124m open.\u001B[39m\u001B[38;5;124m\"\u001B[39m\n\u001B[1;32m    282\u001B[0m     )\n\u001B[0;32m--> 284\u001B[0m \u001B[38;5;28;01mreturn\u001B[39;00m \u001B[43mio_open\u001B[49m\u001B[43m(\u001B[49m\u001B[43mfile\u001B[49m\u001B[43m,\u001B[49m\u001B[43m \u001B[49m\u001B[38;5;241;43m*\u001B[39;49m\u001B[43margs\u001B[49m\u001B[43m,\u001B[49m\u001B[43m \u001B[49m\u001B[38;5;241;43m*\u001B[39;49m\u001B[38;5;241;43m*\u001B[39;49m\u001B[43mkwargs\u001B[49m\u001B[43m)\u001B[49m\n",
      "\u001B[0;31mOSError\u001B[0m: [Errno 30] Read-only file system: 'bytes_hosts_access_log_00.txt'"
     ]
    }
   ],
   "source": [
    "with open(output_name, \"w\") as file:\n",
    "    file.write(str(total_num)+\"\\n\"+str(total_bytes)+\"\\n\")\n",
    "    \n",
    "file.close()\n",
    "\n"
   ],
   "metadata": {
    "collapsed": false,
    "ExecuteTime": {
     "end_time": "2023-09-30T18:44:36.016964Z",
     "start_time": "2023-09-30T18:44:35.893497Z"
    }
   },
   "id": "10208dfce23d8a3b"
  },
  {
   "cell_type": "code",
   "execution_count": 38,
   "outputs": [
    {
     "name": "stdout",
     "output_type": "stream",
     "text": [
      "chmod: /Users/amberm/PycharmProjects/MLE/data_scientist/exercise/bytes_hosts_access_log_00.txt: No such file or directory\r\n"
     ]
    }
   ],
   "source": [
    "!chmod -R 777 /Users/amberm/PycharmProjects/MLE/data_scientist/exercise/bytes_hosts_access_log_00.txt\n"
   ],
   "metadata": {
    "collapsed": false,
    "ExecuteTime": {
     "end_time": "2023-09-30T18:44:33.714940Z",
     "start_time": "2023-09-30T18:44:33.455541Z"
    }
   },
   "id": "3471c21bf2248678"
  },
  {
   "cell_type": "code",
   "execution_count": 4,
   "outputs": [
    {
     "name": "stdout",
     "output_type": "stream",
     "text": [
      "[0, 1, 1, 1, 1, 1, 1, 1, 1, 1, 1, 1, 1, 1, 1, 1, 1, 1, 1, 1, 1, 1, 1, 1, 1, 1, 1, 1, 1, 1, 1, 1, 1, 1, 1, 1, 1, 1, 1, 1, 1, 1, 1, 1, 1, 1, 1, 1, 1, 1, 1, 1, 1, 1, 1, 1, 1, 1, 1, 1, 1, 1, 1, 1]\n"
     ]
    }
   ],
   "source": [
    "test = [1]*63\n",
    "test.insert(0, 0)\n",
    "print(test)"
   ],
   "metadata": {
    "collapsed": false,
    "ExecuteTime": {
     "end_time": "2023-10-01T01:04:16.735652Z",
     "start_time": "2023-10-01T01:04:16.696633Z"
    }
   },
   "id": "e2ce04ac5df43e9"
  },
  {
   "cell_type": "code",
   "execution_count": 5,
   "outputs": [
    {
     "name": "stdout",
     "output_type": "stream",
     "text": [
      "64\n",
      "18446744073709551614\n"
     ]
    }
   ],
   "source": [
    "out = 0\n",
    "l = len(test)\n",
    "print(l)\n",
    "for i in range(l):\n",
    "    out += test[i]*2**(l-i)\n",
    "print(out)\n",
    "    \n",
    "    "
   ],
   "metadata": {
    "collapsed": false,
    "ExecuteTime": {
     "end_time": "2023-10-01T01:04:18.221530Z",
     "start_time": "2023-10-01T01:04:18.213656Z"
    }
   },
   "id": "f41f4386bd775bd7"
  },
  {
   "cell_type": "code",
   "execution_count": 16,
   "outputs": [
    {
     "name": "stdout",
     "output_type": "stream",
     "text": [
      "[4, 7, 4, 1, 4]\n",
      "36\n"
     ]
    }
   ],
   "source": [],
   "metadata": {
    "collapsed": false,
    "ExecuteTime": {
     "end_time": "2023-10-01T15:44:48.529828Z",
     "start_time": "2023-10-01T15:44:48.458790Z"
    }
   },
   "id": "28e97a2ec3fb9389"
  }
 ],
 "metadata": {
  "kernelspec": {
   "display_name": "Python 3",
   "language": "python",
   "name": "python3"
  },
  "language_info": {
   "codemirror_mode": {
    "name": "ipython",
    "version": 2
   },
   "file_extension": ".py",
   "mimetype": "text/x-python",
   "name": "python",
   "nbconvert_exporter": "python",
   "pygments_lexer": "ipython2",
   "version": "2.7.6"
  }
 },
 "nbformat": 4,
 "nbformat_minor": 5
}
